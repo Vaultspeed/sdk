{
 "cells": [
  {
   "cell_type": "markdown",
   "source": [
    "# Installation Guide\n",
    "\n",
    "To install the VaultSpeed SDK python package, download the pip.conf file from https://app.vaultspeed.com/artifacts by clicking the download button next the row for \"vaultspeed-sdk\".\n",
    "When using Windows, rename it to pip.ini. for macOS or Linux, leave file extension as-is.\n",
    "In the file, replace \\<USERNAME\\> and \\<PASSWORD\\> with your VaultSpeed Web App credentials. Make sure to escape the ´@´ symbol in your username, change it to ´%40´. \n",
    "If your password contains special characters, make sure to escape or encode them when needed, it will be part of a basic authentication URL so needs to be URL encoded.\n",
    "\n",
    "If you are using a Python virtual environment, copy the config file to the directory where you have created your virtual Python environment. You can check whether it was picked up correctly by running ´pip config list´, this should return a list containing the same URL as in the config file.\n",
    "After this, you can run ´pip install vaultspeed-sdk´ to install the SDK package. The package can be updated by running ´pip install vaultspeed-sdk --upgrade´.\n",
    "\n",
    "For other tools, search for \"Manage Python package repositories\" (e.g. https://www.jetbrains.com/help/pycharm/installing-uninstalling-and-upgrading-packages.html#custom-repositories). \n",
    "Depending on the tool you might have to enter the URL from the config file in its entirety, or sometimes you can also enter the username and password separately if there is a \"Basic HTTP\" or \"Basic Authentication\" option. \n",
    "In this the URL would look similar to: ´https://app.vaultspeed.com/api/artifacts/pip/vaultspeed-sdk/simple´, and in this case you also do not have to URL encode your username and password.\n",
    "After setting up the Package repository, the package ´vaultspeed-sdk´ should appear in the list of available packages in your tool.\n",
    "\n",
    "# Getting started\n",
    "\n",
    "To use the SDK, we must first authenticate to the VaultSpeed API. This is usually done by providing a username and password.\n"
   ],
   "metadata": {
    "collapsed": false
   }
  },
  {
   "cell_type": "code",
   "execution_count": 1,
   "metadata": {
    "ExecuteTime": {
     "end_time": "2023-09-01T14:02:25.285102900Z",
     "start_time": "2023-09-01T14:02:20.953004600Z"
    }
   },
   "outputs": [],
   "source": [
    "from vaultspeed_sdk.client import UserPasswordAuthentication\n",
    "\n",
    "#auth = UserPasswordAuthentication(api_url=\"https://app.vaultspeed.com/api\", username=\"name@company\", password=\"****\")\n",
    "auth = UserPasswordAuthentication(api_url=\"https://dev.vaultspeed.com/api\", username=\"student34@taaf.be\", password=\"taafFAdemo34\")"
   ]
  },
  {
   "cell_type": "markdown",
   "source": [],
   "metadata": {
    "collapsed": false
   }
  },
  {
   "cell_type": "markdown",
   "metadata": {},
   "source": [
    "All interactions with the VaultSpeed API are handled by the Client class. When creating a client, you have to pass authentication. In this case, we will use the one we just created. It is also possible to change the number of retries and the timeout time for the API calls."
   ]
  },
  {
   "cell_type": "code",
   "execution_count": 2,
   "metadata": {
    "ExecuteTime": {
     "end_time": "2023-09-01T14:02:27.023850800Z",
     "start_time": "2023-09-01T14:02:21.079660600Z"
    }
   },
   "outputs": [],
   "source": [
    "from vaultspeed_sdk.client import Client\n",
    "\n",
    "#client = Client(base_url=\"https://app.vaultspeed.com/api\", auth=auth, retries=2, timeout = 120)\n",
    "client = Client(base_url=\"https://dev.vaultspeed.com/api\", auth=auth, retries=2, timeout=120, caller=\"docs\")"
   ]
  },
  {
   "cell_type": "markdown",
   "metadata": {},
   "source": [
    "The final part of the setup is the initialization of the System class. The system is the starting point for all interactions with VaultSpeed."
   ]
  },
  {
   "cell_type": "code",
   "execution_count": 3,
   "metadata": {
    "ExecuteTime": {
     "end_time": "2023-09-01T14:02:27.326077200Z",
     "start_time": "2023-09-01T14:02:21.715561Z"
    }
   },
   "outputs": [],
   "source": [
    "from vaultspeed_sdk.system import System\n",
    "\n",
    "system = System(client=client)\n"
   ]
  },
  {
   "cell_type": "markdown",
   "metadata": {},
   "source": [
    "From the system, you can access the system parameters, the database links, the projects, etc. From the project, you can then access the project parameters, the sources, the data vaults, and so on. The full structure with all the dependencies can be found at the end of this chapter.\n",
    "\n",
    "The system parameters can be viewed as follows:"
   ]
  },
  {
   "cell_type": "code",
   "execution_count": 4,
   "metadata": {
    "ExecuteTime": {
     "end_time": "2023-09-01T14:02:29.409642500Z",
     "start_time": "2023-09-01T14:02:21.811601100Z"
    }
   },
   "outputs": [
    {
     "name": "stdout",
     "output_type": "stream",
     "text": [
      "OBJECT_NAMES_CASE_SENSITIVE = LOWER\n",
      "BK_PREFIX = None\n",
      "BK_SUFFIX = bk\n",
      "CDC_TIMESTAMP = cdc_timestamp\n",
      "CDC_FLAG = jrn_flag\n",
      "FK_PREFIX = None\n",
      "FK_SUFFIX = fk\n",
      "HUB_HASH_KEY_PREFIX = None\n",
      "HUB_HASH_KEY_SUFFIX = hkey\n",
      "HUB_TABLE_PREFIX = hub\n",
      "HUB_TABLE_SUFFIX = None\n",
      "LDS_TABLE_PREFIX = lds\n",
      "LND_TABLE_PREFIX = lnd\n",
      "LND_TABLE_SUFFIX = None\n",
      "LNK_HASH_KEY_PREFIX = lnk\n",
      "LNK_HASH_KEY_SUFFIX = hkey\n",
      "LNK_TABLE_PREFIX = lnk\n",
      "LNK_TABLE_SUFFIX = None\n",
      "LKS_TABLE_PREFIX = lks\n",
      "LOAD_CYCLE_ID = load_cycle_id\n",
      "LOAD_TIMESTAMP = load_date\n",
      "LOAD_END_TIMESTAMP = load_end_date\n",
      "NHL_TABLE_PREFIX = nhl\n",
      "NHL_TABLE_SUFFIX = None\n",
      "DDL_DROP = Y\n",
      "CREATE_CDC_TABLES = Y\n",
      "PK_PREFIX = None\n",
      "PK_SUFFIX = pk\n",
      "SAT_TABLE_PREFIX = sat\n",
      "SAT_TABLE_SUFFIX = None\n",
      "HASHKEY_ESCAPE_CHARACTER = \\\n",
      "SRC_NAME_IN_BK = src_bk\n",
      "UK_PREFIX = None\n",
      "UK_SUFFIX = uk\n",
      "USE_SOURCE_UK_AS_BK = N\n",
      "DATA_QUALITY_BAD = N\n",
      "HASH_DIFF = hash_diff\n",
      "CDC_RELIABLE = N\n",
      "INTRA_LOADCYCLE_CHANGES = Y\n",
      "HASHKEY_DELIMITER = #\n",
      "HASH_ALGORITHM = MD5\n",
      "DELETE_FLAG = delete_flag\n",
      "LKS_TABLE_SUFFIX = None\n",
      "LDS_TABLE_SUFFIX = None\n",
      "LND_HASH_KEY_PREFIX = lnd\n",
      "LND_HASH_KEY_SUFFIX = hkey\n",
      "TEMP_TABLE_PREFIX = None\n",
      "TEMP_TABLE_SUFFIX = tmp\n",
      "USE_CDC_TS_AS_LOAD_DATES = N\n",
      "TRANSACTION_TYPE_DELETE = D\n",
      "TRANSACTION_TYPE_INSERT = I\n",
      "CURRENT_RECORD_LOAD_END_DATE = 31/12/2999 23:59:59\n",
      "DATA_QUALITY_BAD_COLUMN_PREFIX = None\n",
      "DATA_QUALITY_BAD_COLUMN_SUFFIX = org\n",
      "SOURCE_IN_TEMP = source\n",
      "EQUAL_IN_TEMP = equal\n",
      "SCHEMA_EXT = PROJECT_EXT\n",
      "SCHEMA_STG = PROJECT_STG\n",
      "SCHEMA_FL = PROJECT_FL\n",
      "TRANSACTION_TYPE_UPDATE = U\n",
      "SCHEMA_CDC = PROJECT_CDC\n",
      "PERSIST_DELTA_FIREWALL_VIEWS = N\n",
      "REMOTE_JOURNALING_TABLES = N\n",
      "SCHEMA_INI = PROJECT_INI\n",
      "SCHEMA_CDCR = PROJECT_CDCR\n",
      "SCHEMA_BV = PROJECT_BV\n",
      "CDC_TABLE_PREFIX = cdc\n",
      "CDC_TABLE_SUFFIX = None\n",
      "SCHEMA_PROCEDURES = PROJECT_PROC\n",
      "COLUMN_LENGTH_MULTIPLIER = 2\n",
      "TIME_ZONE_LOCAL = Y\n",
      "SCHEMA_FMC = PROJECT_FMC\n",
      "ORACLE_12_1_OR_HIGHER = Y\n",
      "EARLY_ARRIVING_FACTS = N\n",
      "STORE_BK_FIELDS_IN_SAT = N\n",
      "SCHEMA_FL_MIGRATION = PROJECT_FL\n",
      "REMOTE_CDC_DBLINK_NAME = DB_LINK_ACCK_OBI_OWNER\n",
      "NUMERIC_DECIMAL_CHARACTER_SOURCE = ,\n",
      "NUMERIC_DECIMAL_CHARACTER_TARGET = ,\n",
      "GENERATE_LOGGING = N\n",
      "SOURCE_RECORD_TYPE = S\n",
      "RECORD_TYPE = record_type\n",
      "NULL_RECORD_TYPE = N\n",
      "EMPTYSTRING_IS_NULL = N\n",
      "BK_CASE_INSENSITIVE_COMPARISON = Y\n",
      "SCHEMA_MTD = PROJECT_MTD\n",
      "LOAD_CYCLE_INFO_TABLE_NAME = load_cycle_info\n",
      "SCHEMA_DTVR = PROJECT_DTVR\n",
      "SCHEMA_MTDR = PROJECT_MTDR\n",
      "SCHEMA_DFV = PROJECT_DFV\n",
      "SCHEMA_DTV = PROJECT_DTV\n",
      "DFV_TABLE_SUFFIX = None\n",
      "DFV_TABLE_PREFIX = vw\n",
      "MTD_EXCEPTION_RECORDS_TABLE_NAME = mtd_exception_records\n",
      "UNKNOWN_RECORD_TYPE = U\n",
      "ATTR_CASE_INSENSITIVE_COMPARISON = N\n",
      "INSERT_ONLY_LOGIC = N\n",
      "ADD_SOURCE_VIEWS = N\n",
      "LOAD_TIMESTAMP_WITH_TZ = N\n",
      "CDC_TIMESTAMP_WITH_TZ = N\n",
      "CHECK_PARAMETER_NAMES = Y\n",
      "FMC_LOADING_WINDOW_TABLE_NAME = fmc_loading_window_table\n",
      "LENGTH_ABBREVIATED_NAMES = 128\n",
      "LENGTH_SHORT_NAMES = 128\n",
      "POSTGRES_9_OR_HIGHER = Y\n",
      "REF_TABLE_SUFFIX = None\n",
      "REF_TABLE_PREFIX = ref\n",
      "ORACLE_12_2_OR_HIGHER = Y\n",
      "FMC_BEGIN_LW_TIMESTAMP = fmc_begin_lw_timestamp\n",
      "FMC_END_LW_TIMESTAMP = fmc_end_lw_timestamp\n",
      "CLOSE_DELETED_RECORDS = N\n",
      "TRIM_SPACES_FROM_BUSINESS_KEY = Y\n",
      "FMC_GENERATE_SRC_LOADING_SCRIPTS = Y\n",
      "FMC_SKIP_COMPLETED_TASKS = N\n",
      "HASHDIFF_NULL_REPLACEMENT = ~\n",
      "FMC_RERUN_ALL_TASKS = N\n",
      "FMC_BATCH_SIZE = 1000\n",
      "AGENT_CUSTOM_DEPLOY_SCRIPT = N\n",
      "CREATE_INI_TABLES = Y\n",
      "SCHEMA_PL_PROCEDURES = PROJECT_PL_PROC\n",
      "SOURCE_PL_DEP = Y\n",
      "USE_FMC = Y\n",
      "FMC_LOADING_HIST_TABLE_NAME = fmc_loading_history\n",
      "FMC_DYNAMIC_LOADING_WINDOW = Y\n",
      "CDC_UPDATE_RECORD_ALL_ATTRIBUTES = Y\n",
      "CDC_PRE_POST_IMAGE_FLAG = cdc_pre_post_image_flag\n",
      "CDC_PRE_POST_IMAGE_UNIQUE_KEY = cdc_pre_post_image_unique_key\n",
      "CDC_PRE_IMAGE_FLAG_VALUE = PRE\n",
      "CDC_POST_IMAGE_FLAG_VALUE = POST\n",
      "CDC_LOGPOSITION_AVAILABLE = N\n",
      "CDC_LOGPOSITION = cdc_logposition\n",
      "NO_CHANGE_INDICATION_CHAR = unchanged\n",
      "NO_CHANGE_INDICATION_NUMBER = -1\n",
      "NO_CHANGE_INDICATION_DATE = 01/01/1970\n",
      "NO_CHANGE_INDICATION_TIME = 00:00:00\n",
      "NO_CHANGE_INDICATION_TIMESTAMP = 01/01/1970 00:00:00\n",
      "NO_CHANGE_INDICATION_OTHER = unchanged\n",
      "CDC_PRE_IMAGE_AVAILABLE = N\n",
      "SATELLITE_RECORD_TYPE = SAT\n",
      "TRANSACTION_TYPE_SATELLITE = SAT\n",
      "USE_OBJ_SRC_NAME_FOR_INI_CDC_TABLES = Y\n",
      "USE_REMOTE_CDC_DBLINK = N\n",
      "CREATE_REMOTE_DELTA_VIEW = N\n",
      "USE_LCI_TIMESTAMP_FOR_INITIAL_LOAD = Y\n",
      "AGENT_PATH = /\n",
      "GENERATE_FOREIGN_KEYS = Y\n",
      "DELETE_FLAG_POSITIVE_VALUE = true\n",
      "DELETE_FLAG_NEGATIVE_VALUE = false\n",
      "HASH_STORE_IN_BINARY = N\n",
      "FMC_OVERLAPPING_LOADING_WINDOWS = N\n",
      "PIT_TABLE_PREFIX = pit\n",
      "PIT_TABLE_SUFFIX = None\n",
      "SNAPSHOT_TIMESTAMP = snapshot_timestamp\n",
      "FMC_BV_LOADING_WINDOW_TABLE_NAME = fmc_bv_loading_window_table\n",
      "STORE_TEMP_IN_STAGING = N\n",
      "UPDATE_LOAD_CYCLE_ID_ON_UPDATE_DELETE = N\n",
      "BRIDGE_TABLE_PREFIX = bridge\n",
      "BRIDGE_TABLE_SUFFIX = None\n",
      "CAST_SOURCE_ATTRIBUTES = N\n",
      "RETAIN_CDC_TIMESTAMP_FOR_DELETE = N\n",
      "STORE_HUB_HASH_KEYS_IN_LINK_SAT = N\n",
      "INSERT_ON_DELETE = Y\n",
      "LNA_TABLE_PREFIX = lna\n",
      "LNA_TABLE_SUFFIX = None\n",
      "LAS_TABLE_PREFIX = las\n",
      "LAS_TABLE_SUFFIX = None\n",
      "LNA_HASH_KEY_PREFIX = lna\n",
      "LNA_HASH_KEY_SUFFIX = hkey\n",
      "GENERATE_PRIMARY_UNIQUE_KEYS = Y\n",
      "ERROR_CODE = error_code\n",
      "ERR_TABLE_PREFIX = None\n",
      "ERR_TABLE_SUFFIX = err\n",
      "REFERENTIAL_INTEGRITY_VALIDATED = N\n",
      "REFERENTIAL_INTEGRITY_FORCE_LINK_LOAD = N\n",
      "SUBSEQUENCE_PREFIX = None\n",
      "SUBSEQUENCE_SUFFIX = seq\n",
      "NHL_HASH_KEY_PREFIX = nhl\n",
      "NHL_HASH_KEY_SUFFIX = hkey\n",
      "GENERATE_SCHEMA_DEFINITIONS = Y\n",
      "USE_IDENTIFIER_PREFIXES = Y\n",
      "FMC_TYPE = Airflow\n",
      "DATA_ORDER = dummy\n",
      "SNAPSHOT_TS = snapshot_ts\n",
      "MIN_LOAD_TIMESTAMP = min_load_timestamp\n",
      "MAX_LOAD_TIMESTAMP = max_load_timestamp\n",
      "ORIGIN_ID = origin_id\n",
      "END_INTERVAL = end_interval\n",
      "GENERAL_ORDER = general_order\n",
      "ADD_RECORD_SOURCE_ATTRIBUTE = N\n",
      "RECORD_SOURCE = record_source\n",
      "RECORD_SOURCE_VALUE_TEMPLATE = <record_src_name>.<table_abbreviated_name>\n",
      "FMC_WINDOW_OVERLAP_SIZE = 15\n",
      "FMC_WINDOW_OVERLAP_TYPE = minute\n",
      "SUBSEQUENCE_SEQ = subsequence_seq\n",
      "AGG_HASH_DIFF = agg_hash_diff\n",
      "COUNT_MULTI_ACTIVE = count_multi_active\n",
      "CAST_BINARY_TO_HEX = Y\n",
      "OBJECT_SPECIFIC_LOADING_WINDOW = N\n",
      "CDC_BASED_LOADING_WINDOW = N\n",
      "OBJECT_NAME = object_name\n",
      "FMC_OBJECT_LOADING_HIST_TABLE_NAME = fmc_object_loading_history\n",
      "STREAMING_SOURCE = N\n",
      "WATER_MARK_SIZE = 120\n",
      "ERROR_RECORD_RETENTION_TIME = 120\n",
      "STREAMING_EXT_TABLE_PREFIX = ext\n",
      "STREAMING_EXT_TABLE_SUFFIX = late\n",
      "STREAMING_STG_TABLE_PREFIX = stg\n",
      "STREAMING_STG_TABLE_SUFFIX = fix\n",
      "SCHEMA_INI_R = PROJECT\n",
      "SCHEMA_CDC_KAFKA = PROJECT_CDC_KAFKA\n",
      "FMC_FILE_EXTENSION = .sql\n",
      "CDC_SEQUENCE = cdc_sequence\n",
      "FMC_BEGIN_LW_SEQUENCE = fmc_begin_lw_sequence\n",
      "FMC_END_LW_SEQUENCE = fmc_end_lw_sequence\n",
      "ADD_RECORD_TRACKING_SATELLITE = N\n",
      "EXISTS_FLAG_POSITIVE_VALUE = Y\n",
      "EXISTS_FLAG_NEGATIVE_VALUE = N\n",
      "RTS_TABLE_PREFIX = rts\n",
      "RTS_TABLE_SUFFIX = None\n",
      "EXISTS_FLAG = exists_flag\n",
      "STG_TABLE_CURR_PREFIX = None\n",
      "STG_TABLE_CURR_SUFFIX = curr\n",
      "STG_TABLE_PREV_PREFIX = None\n",
      "STG_TABLE_PREV_SUFFIX = prev\n",
      "ADD_NH_COUNTER_RECORD_DELETE = N\n",
      "NH_COUNTER_POSITIVE_VALUE = 1\n",
      "NH_COUNTER_NEGATIVE_VALUE = -1\n",
      "NH_COUNTER = counter\n",
      "SK_SUFFIX = sk\n",
      "SK_PREFIX = None\n",
      "CONVERT_FMC_TIMEZONE = N\n",
      "TARGET_TIMEZONE = UTC\n",
      "FMC_TIMEZONE = UTC\n",
      "CONVERT_SOURCE_TIMEZONE = N\n",
      "SOURCE_TIMEZONE = UTC\n",
      "USE_ORIGINAL_SOURCE_TABLE_NAME_FOR_INI_CDC_OBJECTS = N\n",
      "DETECT_UPDATES_INSERTS_ON_FULL_LOAD = Y\n",
      "CDC_TIMESTAMP_FORMAT_MASK = None\n",
      "CAST_VS_MANAGED_ATTRIBUTES = Y\n"
     ]
    }
   ],
   "source": [
    "sys_param = system.parameters\n",
    "for k, p in sys_param.items():\n",
    "    print(p)\n"
   ]
  },
  {
   "cell_type": "markdown",
   "metadata": {},
   "source": [
    "A parameter can be accessed and updated in multiple ways.\n"
   ]
  },
  {
   "cell_type": "code",
   "execution_count": 5,
   "metadata": {
    "ExecuteTime": {
     "end_time": "2023-09-01T14:02:29.409642500Z",
     "start_time": "2023-09-01T14:02:22.803311800Z"
    }
   },
   "outputs": [],
   "source": [
    "sys_param[\"USE_FMC\"].value = \"Y\"\n",
    "sys_param.DELETE_FLAG_POSITIVE_VALUE.value = \"true\"\n",
    "sys_param.DELETE_FLAG_NEGATIVE_VALUE.value = \"false\""
   ]
  },
  {
   "cell_type": "markdown",
   "metadata": {},
   "source": [
    "The parameters are an instance of a Map. This is a special version of a python dictionary used by the VaultSpeed SDK. The main difference between a Map and a dict are:\n",
    "* Elements can be accessed as attributes as well as with the standard dict methods.This is mainly useful when interacting with these objects from a Notebook or the python debugger since, in those cases, your IDE could provide auto-completion of the keys.\n",
    "* Looping over the map returns the values instead of the keys.\n",
    "\n",
    "When you try to set a parameter to a value that is not supported, an exception will be raised."
   ]
  },
  {
   "cell_type": "code",
   "execution_count": 6,
   "metadata": {
    "ExecuteTime": {
     "end_time": "2023-09-01T14:02:29.410640700Z",
     "start_time": "2023-09-01T14:02:22.810406200Z"
    }
   },
   "outputs": [
    {
     "name": "stdout",
     "output_type": "stream",
     "text": [
      "Value 'true' is not allowed. Allowed values: ['Y', 'N']\n"
     ]
    }
   ],
   "source": [
    "from vaultspeed_sdk.exceptions.allowed_values import AllowedValuesException\n",
    "\n",
    "try:\n",
    "    sys_param[\"USE_FMC\"].value = \"true\"\n",
    "except AllowedValuesException as e:\n",
    "    print(e)"
   ]
  },
  {
   "cell_type": "markdown",
   "metadata": {},
   "source": [
    "The SDK contains a set of specific exceptions, which can be found in vaultspeed_sdk.exceptions. Any error caught by the SDK will raise one of these exceptions.\n",
    "\n",
    "To apply the parameter changes, we have to execute the save method."
   ]
  },
  {
   "cell_type": "code",
   "execution_count": 7,
   "metadata": {
    "ExecuteTime": {
     "end_time": "2023-09-01T14:02:29.475448800Z",
     "start_time": "2023-09-01T14:02:22.828338100Z"
    }
   },
   "outputs": [],
   "source": [
    "sys_param.save()"
   ]
  },
  {
   "cell_type": "markdown",
   "metadata": {},
   "source": [
    "From the System, you can also get a list of all the projects, get a specific project by name, create new projects, or delete a project."
   ]
  },
  {
   "cell_type": "code",
   "execution_count": 8,
   "metadata": {
    "ExecuteTime": {
     "end_time": "2023-09-01T14:02:29.785483700Z",
     "start_time": "2023-09-01T14:02:22.846860700Z"
    }
   },
   "outputs": [
    {
     "name": "stdout",
     "output_type": "stream",
     "text": [
      "VaultSpeed Project: moto (SDK example project)\n",
      "VaultSpeed Project: moto (example project)\n",
      "VaultSpeed Project: moto (example project)\n",
      "VaultSpeed Project: moto (example project)\n",
      "VaultSpeed Project: moto (example project)\n",
      "VaultSpeed Project: dummy (dummy project)\n"
     ]
    },
    {
     "data": {
      "text/plain": "VaultSpeed Project: moto (SDK example project)"
     },
     "execution_count": 8,
     "metadata": {},
     "output_type": "execute_result"
    }
   ],
   "source": [
    "moto_project = system.create_project(name=\"moto\", description=\"example project\")\n",
    "dummy_project = system.create_project(name=\"dummy\", description=\"dummy project\")\n",
    "\n",
    "for project in system.projects:\n",
    "    print(project)\n",
    "\n",
    "system.delete_project(dummy_project)\n",
    "\n",
    "system.get_project(name=\"moto\")\n"
   ]
  },
  {
   "cell_type": "markdown",
   "metadata": {},
   "source": [
    "How the get_project method deals with a project that can not be found can be manipulated with the check attribute. If the check is true, an error is raised if the source is not found. Otherwise, None will be returned.\n",
    "This allows for creating a simple create if not exist statement."
   ]
  },
  {
   "cell_type": "code",
   "execution_count": 9,
   "metadata": {
    "ExecuteTime": {
     "end_time": "2023-09-01T14:02:29.786540Z",
     "start_time": "2023-09-01T14:02:23.782196300Z"
    }
   },
   "outputs": [
    {
     "name": "stdout",
     "output_type": "stream",
     "text": [
      "None\n",
      "\"projects by project_name 'dummy' not found\"\n"
     ]
    },
    {
     "data": {
      "text/plain": "VaultSpeed Project: moto (SDK example project)"
     },
     "execution_count": 9,
     "metadata": {},
     "output_type": "execute_result"
    }
   ],
   "source": [
    "print(system.get_project(name=\"dummy\", check=False))\n",
    "try:\n",
    "    system.get_project(name=\"dummy\", check=True)\n",
    "except KeyError as e:\n",
    "    print(e)\n",
    "\n",
    "project = system.get_project(name=\"moto\", check=False) or system.create_project(name=\"moto\", description=\"example project\")\n",
    "project"
   ]
  },
  {
   "cell_type": "markdown",
   "metadata": {},
   "source": [
    "This pattern of the list property and the get, create, and delete methods is used across the SDK.\n",
    "\n",
    "With a project instance, we can then view and update the project's properties."
   ]
  },
  {
   "cell_type": "code",
   "execution_count": 10,
   "metadata": {
    "ExecuteTime": {
     "end_time": "2023-09-01T14:02:29.787574100Z",
     "start_time": "2023-09-01T14:02:24.190464100Z"
    }
   },
   "outputs": [
    {
     "name": "stdout",
     "output_type": "stream",
     "text": [
      "moto\n",
      "SDK example project\n",
      "SDK example project\n"
     ]
    }
   ],
   "source": [
    "print(project.name)\n",
    "print(project.description)\n",
    "project.description = \"SDK example project\"\n",
    "print(project.description)"
   ]
  },
  {
   "cell_type": "markdown",
   "metadata": {},
   "source": [
    "From the project, we can access the project parameters, these work in the same way as the system parameters.\n",
    "\n",
    "Similarly to how we could access the projects from the system, we can access the sources and data vaults from the project."
   ]
  },
  {
   "cell_type": "code",
   "execution_count": 11,
   "metadata": {
    "ExecuteTime": {
     "end_time": "2023-09-01T14:02:29.788481500Z",
     "start_time": "2023-09-01T14:02:24.363003100Z"
    }
   },
   "outputs": [
    {
     "data": {
      "text/plain": "[BK_PREFIX = None, BK_SUFFIX = bk, CDC_TIMESTAMP = cdc_timestamp, CDC_FLAG = jrn_flag, FK_PREFIX = None, FK_SUFFIX = fk, HUB_HASH_KEY_PREFIX = None, HUB_HASH_KEY_SUFFIX = hkey, HUB_TABLE_PREFIX = hub, HUB_TABLE_SUFFIX = None, LDS_TABLE_PREFIX = lds, LND_TABLE_PREFIX = lnd, LND_TABLE_SUFFIX = None, LNK_HASH_KEY_PREFIX = lnk, LNK_HASH_KEY_SUFFIX = hkey, LNK_TABLE_PREFIX = lnk, LNK_TABLE_SUFFIX = None, LKS_TABLE_PREFIX = lks, LOAD_CYCLE_ID = load_cycle_id, LOAD_TIMESTAMP = load_date, LOAD_END_TIMESTAMP = load_end_date, NHL_TABLE_PREFIX = nhl, NHL_TABLE_SUFFIX = None, CREATE_CDC_TABLES = Y, PK_PREFIX = None, PK_SUFFIX = pk, SAT_TABLE_PREFIX = sat, SAT_TABLE_SUFFIX = None, HASHKEY_ESCAPE_CHARACTER = \\, SRC_NAME_IN_BK = src_bk, UK_PREFIX = None, UK_SUFFIX = uk, USE_SOURCE_UK_AS_BK = N, DATA_QUALITY_BAD = N, HASH_DIFF = hash_diff, CDC_RELIABLE = N, INTRA_LOADCYCLE_CHANGES = Y, HASHKEY_DELIMITER = #, DELETE_FLAG = delete_flag, LKS_TABLE_SUFFIX = None, LDS_TABLE_SUFFIX = None, LND_HASH_KEY_PREFIX = lnd, LND_HASH_KEY_SUFFIX = hkey, TEMP_TABLE_PREFIX = None, TEMP_TABLE_SUFFIX = tmp, TRANSACTION_TYPE_DELETE = D, TRANSACTION_TYPE_INSERT = I, CURRENT_RECORD_LOAD_END_DATE = 31/12/2999 23:59:59, DATA_QUALITY_BAD_COLUMN_PREFIX = None, DATA_QUALITY_BAD_COLUMN_SUFFIX = org, SOURCE_IN_TEMP = source, EQUAL_IN_TEMP = equal, SCHEMA_EXT = PROJECT_EXT, SCHEMA_STG = PROJECT_STG, SCHEMA_FL = PROJECT_FL, TRANSACTION_TYPE_UPDATE = U, SCHEMA_CDC = PROJECT_CDC, PERSIST_DELTA_FIREWALL_VIEWS = N, REMOTE_JOURNALING_TABLES = N, SCHEMA_INI = PROJECT_INI, SCHEMA_CDCR = PROJECT_CDCR, SCHEMA_BV = PROJECT_BV, CDC_TABLE_PREFIX = cdc, CDC_TABLE_SUFFIX = None, SCHEMA_PROCEDURES = moto_proc, COLUMN_LENGTH_MULTIPLIER = 2, TIME_ZONE_LOCAL = Y, SCHEMA_FMC = moto_fmc, EARLY_ARRIVING_FACTS = N, STORE_BK_FIELDS_IN_SAT = N, SCHEMA_FL_MIGRATION = moto_fl, REMOTE_CDC_DBLINK_NAME = DB_LINK_ACCK_OBI_OWNER, NUMERIC_DECIMAL_CHARACTER_SOURCE = ,, NUMERIC_DECIMAL_CHARACTER_TARGET = ,, SOURCE_RECORD_TYPE = S, RECORD_TYPE = record_type, NULL_RECORD_TYPE = N, EMPTYSTRING_IS_NULL = N, SCHEMA_MTD = PROJECT_MTD, LOAD_CYCLE_INFO_TABLE_NAME = load_cycle_info, SCHEMA_DTVR = PROJECT_DTVR, SCHEMA_MTDR = PROJECT_MTDR, SCHEMA_DFV = PROJECT_DFV, SCHEMA_DTV = PROJECT_DTV, DFV_TABLE_SUFFIX = None, DFV_TABLE_PREFIX = vw, MTD_EXCEPTION_RECORDS_TABLE_NAME = mtd_exception_records, UNKNOWN_RECORD_TYPE = U, ATTR_CASE_INSENSITIVE_COMPARISON = N, INSERT_ONLY_LOGIC = N, ADD_SOURCE_VIEWS = N, LOAD_TIMESTAMP_WITH_TZ = N, CDC_TIMESTAMP_WITH_TZ = N, FMC_LOADING_WINDOW_TABLE_NAME = fmc_loading_window_table, REF_TABLE_SUFFIX = None, REF_TABLE_PREFIX = ref, FMC_BEGIN_LW_TIMESTAMP = fmc_begin_lw_timestamp, FMC_END_LW_TIMESTAMP = fmc_end_lw_timestamp, CLOSE_DELETED_RECORDS = N, TRIM_SPACES_FROM_BUSINESS_KEY = Y, FMC_GENERATE_SRC_LOADING_SCRIPTS = Y, FMC_SKIP_COMPLETED_TASKS = N, HASHDIFF_NULL_REPLACEMENT = ~, FMC_RERUN_ALL_TASKS = N, FMC_BATCH_SIZE = 1000, CREATE_INI_TABLES = Y, SCHEMA_PL_PROCEDURES = moto_pl_proc, SOURCE_PL_DEP = Y, FMC_LOADING_HIST_TABLE_NAME = fmc_loading_history, FMC_DYNAMIC_LOADING_WINDOW = Y, CDC_UPDATE_RECORD_ALL_ATTRIBUTES = Y, CDC_PRE_POST_IMAGE_FLAG = cdc_pre_post_image_flag, CDC_PRE_POST_IMAGE_UNIQUE_KEY = cdc_pre_post_image_unique_key, CDC_PRE_IMAGE_FLAG_VALUE = PRE, CDC_POST_IMAGE_FLAG_VALUE = POST, CDC_LOGPOSITION_AVAILABLE = N, CDC_LOGPOSITION = cdc_logposition, NO_CHANGE_INDICATION_CHAR = unchanged, NO_CHANGE_INDICATION_NUMBER = -1, NO_CHANGE_INDICATION_DATE = 01/01/1970, NO_CHANGE_INDICATION_TIME = 00:00:00, NO_CHANGE_INDICATION_TIMESTAMP = 01/01/1970 00:00:00, NO_CHANGE_INDICATION_OTHER = unchanged, CDC_PRE_IMAGE_AVAILABLE = N, SATELLITE_RECORD_TYPE = SAT, TRANSACTION_TYPE_SATELLITE = SAT, USE_OBJ_SRC_NAME_FOR_INI_CDC_TABLES = Y, USE_REMOTE_CDC_DBLINK = N, CREATE_REMOTE_DELTA_VIEW = N, USE_LCI_TIMESTAMP_FOR_INITIAL_LOAD = Y, GENERATE_FOREIGN_KEYS = Y, DELETE_FLAG_POSITIVE_VALUE = true, DELETE_FLAG_NEGATIVE_VALUE = false, FMC_OVERLAPPING_LOADING_WINDOWS = N, PIT_TABLE_PREFIX = pit, PIT_TABLE_SUFFIX = None, SNAPSHOT_TIMESTAMP = snapshot_timestamp, FMC_BV_LOADING_WINDOW_TABLE_NAME = fmc_bv_loading_window_table, STORE_TEMP_IN_STAGING = N, UPDATE_LOAD_CYCLE_ID_ON_UPDATE_DELETE = N, BRIDGE_TABLE_PREFIX = bridge, BRIDGE_TABLE_SUFFIX = None, CAST_SOURCE_ATTRIBUTES = N, RETAIN_CDC_TIMESTAMP_FOR_DELETE = N, STORE_HUB_HASH_KEYS_IN_LINK_SAT = N, INSERT_ON_DELETE = Y, LNA_TABLE_PREFIX = lna, LNA_TABLE_SUFFIX = None, LAS_TABLE_PREFIX = las, LAS_TABLE_SUFFIX = None, LNA_HASH_KEY_PREFIX = lna, LNA_HASH_KEY_SUFFIX = hkey, GENERATE_PRIMARY_UNIQUE_KEYS = Y, ERROR_CODE = error_code, ERR_TABLE_PREFIX = None, ERR_TABLE_SUFFIX = err, REFERENTIAL_INTEGRITY_VALIDATED = N, REFERENTIAL_INTEGRITY_FORCE_LINK_LOAD = N, SUBSEQUENCE_PREFIX = None, SUBSEQUENCE_SUFFIX = seq, NHL_HASH_KEY_PREFIX = nhl, NHL_HASH_KEY_SUFFIX = hkey, GENERATE_SCHEMA_DEFINITIONS = Y, USE_IDENTIFIER_PREFIXES = Y, FMC_TYPE = Airflow, DATA_ORDER = dummy, SNAPSHOT_TS = snapshot_ts, MIN_LOAD_TIMESTAMP = min_load_timestamp, MAX_LOAD_TIMESTAMP = max_load_timestamp, ORIGIN_ID = origin_id, END_INTERVAL = end_interval, GENERAL_ORDER = general_order, ADD_RECORD_SOURCE_ATTRIBUTE = N, RECORD_SOURCE = record_source, RECORD_SOURCE_VALUE_TEMPLATE = <record_src_name>.<table_abbreviated_name>, FMC_WINDOW_OVERLAP_SIZE = 15, FMC_WINDOW_OVERLAP_TYPE = minute, SUBSEQUENCE_SEQ = subsequence_seq, AGG_HASH_DIFF = agg_hash_diff, COUNT_MULTI_ACTIVE = count_multi_active, CAST_BINARY_TO_HEX = Y, OBJECT_SPECIFIC_LOADING_WINDOW = N, CDC_BASED_LOADING_WINDOW = N, OBJECT_NAME = object_name, FMC_OBJECT_LOADING_HIST_TABLE_NAME = fmc_object_loading_history, STREAMING_SOURCE = N, WATER_MARK_SIZE = 120, ERROR_RECORD_RETENTION_TIME = 120, STREAMING_EXT_TABLE_PREFIX = ext, STREAMING_EXT_TABLE_SUFFIX = late, STREAMING_STG_TABLE_PREFIX = stg, STREAMING_STG_TABLE_SUFFIX = fix, SCHEMA_INI_R = PROJECT, SCHEMA_CDC_KAFKA = PROJECT_CDC_KAFKA, FMC_FILE_EXTENSION = .sql, CDC_SEQUENCE = cdc_sequence, FMC_BEGIN_LW_SEQUENCE = fmc_begin_lw_sequence, FMC_END_LW_SEQUENCE = fmc_end_lw_sequence, ADD_RECORD_TRACKING_SATELLITE = N, EXISTS_FLAG_POSITIVE_VALUE = Y, EXISTS_FLAG_NEGATIVE_VALUE = N, RTS_TABLE_PREFIX = rts, RTS_TABLE_SUFFIX = None, EXISTS_FLAG = exists_flag, STG_TABLE_CURR_PREFIX = None, STG_TABLE_CURR_SUFFIX = curr, STG_TABLE_PREV_PREFIX = None, STG_TABLE_PREV_SUFFIX = prev, ADD_NH_COUNTER_RECORD_DELETE = N, NH_COUNTER_POSITIVE_VALUE = 1, NH_COUNTER_NEGATIVE_VALUE = -1, NH_COUNTER = counter, SK_SUFFIX = sk, SK_PREFIX = None, CONVERT_FMC_TIMEZONE = N, TARGET_TIMEZONE = UTC, FMC_TIMEZONE = UTC, CONVERT_SOURCE_TIMEZONE = N, SOURCE_TIMEZONE = UTC, USE_ORIGINAL_SOURCE_TABLE_NAME_FOR_INI_CDC_OBJECTS = N, DETECT_UPDATES_INSERTS_ON_FULL_LOAD = Y, CDC_TIMESTAMP_FORMAT_MASK = None, CAST_VS_MANAGED_ATTRIBUTES = Y]"
     },
     "execution_count": 11,
     "metadata": {},
     "output_type": "execute_result"
    }
   ],
   "source": [
    "project.parameters"
   ]
  },
  {
   "cell_type": "code",
   "execution_count": 12,
   "metadata": {
    "ExecuteTime": {
     "end_time": "2023-09-01T14:02:30.226631Z",
     "start_time": "2023-09-01T14:02:24.925467700Z"
    }
   },
   "outputs": [
    {
     "data": {
      "text/plain": "[Source moto_sales from moto_sales on Database link vs_postgres for POSTGRESQL]"
     },
     "execution_count": 12,
     "metadata": {},
     "output_type": "execute_result"
    }
   ],
   "source": [
    "project.sources"
   ]
  },
  {
   "cell_type": "code",
   "execution_count": 13,
   "metadata": {
    "ExecuteTime": {
     "end_time": "2023-09-01T14:02:30.227630900Z",
     "start_time": "2023-09-01T14:02:25.459421300Z"
    }
   },
   "outputs": [
    {
     "data": {
      "text/plain": "[]"
     },
     "execution_count": 13,
     "metadata": {},
     "output_type": "execute_result"
    }
   ],
   "source": [
    "project.data_vaults"
   ]
  },
  {
   "cell_type": "markdown",
   "metadata": {},
   "source": []
  },
  {
   "cell_type": "markdown",
   "metadata": {},
   "source": [
    "# logging\n",
    "\n",
    "The VaultSpeed SDK uses the standard logging package, so to change the log level add the following lines at the top of your script."
   ]
  },
  {
   "cell_type": "code",
   "execution_count": 14,
   "metadata": {
    "ExecuteTime": {
     "end_time": "2023-09-01T14:02:30.227630900Z",
     "start_time": "2023-09-01T14:02:25.696618500Z"
    }
   },
   "outputs": [],
   "source": [
    "import logging\n",
    "\n",
    "logging.basicConfig(level=logging.INFO)"
   ]
  },
  {
   "cell_type": "markdown",
   "metadata": {},
   "source": [
    "# Source\n",
    "\n",
    "Before creating a source, we first need to create a database link.\n",
    "\n",
    "The Model used in this example can be found on the VaultSpeed GitHub."
   ]
  },
  {
   "cell_type": "code",
   "execution_count": 15,
   "metadata": {
    "ExecuteTime": {
     "end_time": "2023-09-01T14:02:30.227630900Z",
     "start_time": "2023-09-01T14:02:25.713973200Z"
    }
   },
   "outputs": [
    {
     "name": "stdout",
     "output_type": "stream",
     "text": [
      "Database link vs_postgres for POSTGRESQL\n"
     ]
    }
   ],
   "source": [
    "from vaultspeed_sdk.database_link import DatabaseLinkTypes\n",
    "from vaultspeed_sdk.models.metadata.database_type import DatabaseTypes\n",
    "\n",
    "source_db_link = (system.get_database_link(\"vs_postgres\", check=False) or\n",
    "                  system.create_database_link(\n",
    "                      name=\"vs_postgres\",\n",
    "                      link_type=DatabaseLinkTypes.AGENT,\n",
    "                      database_type=DatabaseTypes.POSTGRESQL\n",
    "                  ))\n",
    "print(source_db_link)"
   ]
  },
  {
   "cell_type": "markdown",
   "metadata": {},
   "source": [
    "The package vaultspeed_sdk.models.metadata contains a set of classes storing metadata that are used across the SDK, such as the database types. Each of those consists of an enum like DatabaseTypes and a class DatabaseType. The enum is used for inputs, like in the source creation above.\n",
    "While the other class is used internally to retrieve identifiers and other properties from the API.\n",
    "\n",
    "If we want to see if a certain database type can be used without the extended agent, we can retrieve this info as follows."
   ]
  },
  {
   "cell_type": "code",
   "execution_count": 16,
   "metadata": {
    "ExecuteTime": {
     "end_time": "2023-09-01T14:02:30.228630600Z",
     "start_time": "2023-09-01T14:02:25.864227600Z"
    }
   },
   "outputs": [
    {
     "name": "stdout",
     "output_type": "stream",
     "text": [
      "True\n",
      "False\n"
     ]
    }
   ],
   "source": [
    "from vaultspeed_sdk.models.metadata.database_type import (DatabaseType, DatabaseTypes)\n",
    "\n",
    "print(DatabaseType.get(client, DatabaseTypes.SNOWFLAKE).standard_agent)\n",
    "print(DatabaseType.get(client, DatabaseTypes.JDBC).standard_agent)"
   ]
  },
  {
   "cell_type": "markdown",
   "metadata": {},
   "source": [
    "We can now create a new source with this link."
   ]
  },
  {
   "cell_type": "code",
   "execution_count": 17,
   "metadata": {
    "ExecuteTime": {
     "end_time": "2023-09-01T14:02:30.229630700Z",
     "start_time": "2023-09-01T14:02:26.211429200Z"
    }
   },
   "outputs": [
    {
     "name": "stdout",
     "output_type": "stream",
     "text": [
      "Source moto_sales from moto_sales on Database link vs_postgres for POSTGRESQL\n"
     ]
    }
   ],
   "source": [
    "from vaultspeed_sdk.models.metadata.cdc_type import CdcTypes\n",
    "from vaultspeed_sdk.models.metadata.database_type import DatabaseTypes\n",
    "from vaultspeed_sdk.models.metadata.source_type import SourceTypes\n",
    "\n",
    "source = project.get_source(\"moto_sales\", check=False) or \\\n",
    "         project.create_source(\n",
    "             name=\"moto_sales\",\n",
    "             short_name=\"ms\",\n",
    "             bk_name=\"moto_sales\",\n",
    "             record_name=\"moto_sales\",\n",
    "             physical_schema=\"moto_sales\",\n",
    "             cdc_type=CdcTypes.CDC,\n",
    "             database_link=source_db_link,\n",
    "             src_type=SourceTypes.AGENT,\n",
    "             database_type=DatabaseTypes.POSTGRESQL\n",
    "         )\n",
    "print(source)"
   ]
  },
  {
   "cell_type": "markdown",
   "metadata": {},
   "source": [
    "We can also update one of the properties of the source."
   ]
  },
  {
   "cell_type": "code",
   "execution_count": 18,
   "metadata": {
    "ExecuteTime": {
     "end_time": "2023-09-01T14:02:30.229630700Z",
     "start_time": "2023-09-01T14:02:26.355427300Z"
    }
   },
   "outputs": [],
   "source": [
    "source.bk_name = \"sales\""
   ]
  },
  {
   "cell_type": "markdown",
   "metadata": {},
   "source": [
    "Just like the project and system, we can now also change the source parameters."
   ]
  },
  {
   "cell_type": "code",
   "execution_count": 19,
   "metadata": {
    "ExecuteTime": {
     "end_time": "2023-09-01T14:02:30.286030300Z",
     "start_time": "2023-09-01T14:02:26.994479Z"
    }
   },
   "outputs": [],
   "source": [
    "source.parameters.USE_SOURCE_UK_AS_BK = \"Y\"\n",
    "source.parameters.save()"
   ]
  },
  {
   "cell_type": "markdown",
   "metadata": {},
   "source": [
    "The next step in the source configuration is the harvesting of source objects and selecting the objects we want to use in our release.\n",
    "This will launch an agent task, so make sure that your agent is running and it can take half a minute before it finishes."
   ]
  },
  {
   "cell_type": "code",
   "execution_count": 20,
   "metadata": {
    "ExecuteTime": {
     "end_time": "2023-09-01T14:02:48.510752500Z",
     "start_time": "2023-09-01T14:02:27.253386800Z"
    }
   },
   "outputs": [
    {
     "name": "stderr",
     "output_type": "stream",
     "text": [
      "  0%|          | 0/100 [00:00<?, ?it/s]"
     ]
    },
    {
     "name": "stdout",
     "output_type": "stream",
     "text": [
      "."
     ]
    },
    {
     "name": "stderr",
     "output_type": "stream",
     "text": [
      "  0%|          | 0/100 [00:20<?, ?it/s]"
     ]
    },
    {
     "name": "stdout",
     "output_type": "stream",
     "text": [
      ".\n"
     ]
    },
    {
     "name": "stderr",
     "output_type": "stream",
     "text": [
      "\n"
     ]
    },
    {
     "name": "stdout",
     "output_type": "stream",
     "text": [
      "[Source Object: addresses, enabled: False, Source Object: codes_to_language, enabled: False, Source Object: cust_addresses, enabled: False, Source Object: customers, enabled: False, Source Object: invoice_lines, enabled: False, Source Object: invoices, enabled: False, Source Object: jrn_addresses, enabled: False, Source Object: jrn_codes_to_language, enabled: False, Source Object: jrn_cust_addresses, enabled: False, Source Object: jrn_customers, enabled: False, Source Object: jrn_invoice_lines, enabled: False, Source Object: jrn_invoices, enabled: False, Source Object: jrn_moto_parts, enabled: False, Source Object: jrn_moto_products, enabled: False, Source Object: jrn_payments, enabled: False, Source Object: jrn_product_feat_class_rel, enabled: False, Source Object: jrn_product_feature_cat, enabled: False, Source Object: jrn_product_feature_class, enabled: False, Source Object: jrn_product_features, enabled: False, Source Object: moto_parts, enabled: False, Source Object: moto_products, enabled: False, Source Object: payments, enabled: False, Source Object: product_feat_class_rel, enabled: False, Source Object: product_feature_cat, enabled: False, Source Object: product_feature_class, enabled: False, Source Object: product_features, enabled: False, Source Object: product_sensors, enabled: False]\n"
     ]
    }
   ],
   "source": [
    "source_objects = source.get_source_objects(refresh=True)\n",
    "print(source_objects)"
   ]
  },
  {
   "cell_type": "markdown",
   "metadata": {},
   "source": [
    "The refresh attribute controls whether the object list is harvested through the agent or returns the already harvested objects. Since this is a new source, we should enable refresh.\n",
    "Now that we harvested the objects, we can select the objects we want to use in our release. Note that in the output above, all object have \"enabled: False\", meaning that they are not selected.\n",
    "In our case, we want to select all object, except the ones starting with \"jrn_\"."
   ]
  },
  {
   "cell_type": "code",
   "execution_count": 21,
   "metadata": {
    "ExecuteTime": {
     "end_time": "2023-09-01T14:02:49.240887400Z",
     "start_time": "2023-09-01T14:02:48.482850500Z"
    }
   },
   "outputs": [
    {
     "name": "stdout",
     "output_type": "stream",
     "text": [
      "[Source Object: jrn_addresses, enabled: False, Source Object: jrn_codes_to_language, enabled: False, Source Object: jrn_cust_addresses, enabled: False, Source Object: jrn_customers, enabled: False, Source Object: jrn_invoice_lines, enabled: False, Source Object: jrn_invoices, enabled: False, Source Object: jrn_moto_parts, enabled: False, Source Object: jrn_moto_products, enabled: False, Source Object: jrn_payments, enabled: False, Source Object: jrn_product_feat_class_rel, enabled: False, Source Object: jrn_product_feature_cat, enabled: False, Source Object: jrn_product_feature_class, enabled: False, Source Object: jrn_product_features, enabled: False]\n",
      "[Source Object: addresses, enabled: True, Source Object: codes_to_language, enabled: True, Source Object: cust_addresses, enabled: True, Source Object: customers, enabled: True, Source Object: invoice_lines, enabled: True, Source Object: invoices, enabled: True, Source Object: jrn_addresses, enabled: False, Source Object: jrn_codes_to_language, enabled: False, Source Object: jrn_cust_addresses, enabled: False, Source Object: jrn_customers, enabled: False, Source Object: jrn_invoice_lines, enabled: False, Source Object: jrn_invoices, enabled: False, Source Object: jrn_moto_parts, enabled: False, Source Object: jrn_moto_products, enabled: False, Source Object: jrn_payments, enabled: False, Source Object: jrn_product_feat_class_rel, enabled: False, Source Object: jrn_product_feature_cat, enabled: False, Source Object: jrn_product_feature_class, enabled: False, Source Object: jrn_product_features, enabled: False, Source Object: moto_parts, enabled: True, Source Object: moto_products, enabled: True, Source Object: payments, enabled: True, Source Object: product_feat_class_rel, enabled: True, Source Object: product_feature_cat, enabled: True, Source Object: product_feature_class, enabled: True, Source Object: product_features, enabled: True, Source Object: product_sensors, enabled: True]\n"
     ]
    }
   ],
   "source": [
    "# select all objects\n",
    "source.select_source_objects(source_objects, selected=True)\n",
    "\n",
    "# Disable object that start with \"jrn_\", we show 2 methods:\n",
    "\n",
    "# 1. one-by-one -> many API calls\n",
    "for src_obj in source_objects:\n",
    "    if src_obj.name.startswith(\"jrn_\"):\n",
    "        src_obj.disable()\n",
    "\n",
    "# 2. in bulk\n",
    "jrn_source_objects = [src_obj for src_obj in source_objects if src_obj.name.startswith(\"jrn_\")]\n",
    "print(jrn_source_objects)\n",
    "source.select_source_objects(jrn_source_objects, selected=False)\n",
    "print()\n",
    "print(source.get_source_objects())"
   ]
  },
  {
   "cell_type": "markdown",
   "metadata": {},
   "source": [
    "Next, we will configure some exclusions and a pattern removal"
   ]
  },
  {
   "cell_type": "code",
   "execution_count": 22,
   "metadata": {
    "ExecuteTime": {
     "end_time": "2023-09-01T14:02:50.288100800Z",
     "start_time": "2023-09-01T14:02:49.213812800Z"
    }
   },
   "outputs": [
    {
     "name": "stdout",
     "output_type": "stream",
     "text": [
      "[SourceObjectExcludePattern: pattern - jrn_%, reason - exclude jrn_ prefixed tables]\n",
      "[SourceAttributeExcludePattern: pattern - update_user, reason - internal value, not needed in DV]\n",
      "[NameRemovalPattern: pattern - moto_, reason - example]\n"
     ]
    }
   ],
   "source": [
    "# exclude specific objects\n",
    "source.exclude_object(pattern=\"jrn_%\", reason=\"exclude jrn_ prefixed tables\")\n",
    "\n",
    "print(source.object_exclusions)\n",
    "\n",
    "# exclude attributes\n",
    "source.exclude_attribute(pattern=\"update_user\", reason=\"internal value, not needed in DV\")\n",
    "\n",
    "print(source.attribute_exclusions)\n",
    "\n",
    "# remove object patterns\n",
    "source.remove_name_pattern(pattern=\"moto_\", reason=\"example\")\n",
    "\n",
    "patterns = source.name_removal_patterns\n",
    "\n",
    "print(source.name_removal_patterns)"
   ]
  },
  {
   "cell_type": "markdown",
   "metadata": {},
   "source": [
    "## Source Release\n",
    "\n",
    "We are now ready to create a source release and configure our source model.\n",
    "This will launch an agent task, so give it a minute to run."
   ]
  },
  {
   "cell_type": "code",
   "execution_count": 23,
   "metadata": {
    "ExecuteTime": {
     "end_time": "2023-09-01T14:03:12.118125100Z",
     "start_time": "2023-09-01T14:02:50.289612Z"
    }
   },
   "outputs": [
    {
     "name": "stderr",
     "output_type": "stream",
     "text": [
      "  0%|          | 0/100 [00:00<?, ?it/s]"
     ]
    },
    {
     "name": "stdout",
     "output_type": "stream",
     "text": [
      "."
     ]
    },
    {
     "name": "stderr",
     "output_type": "stream",
     "text": [
      "  0%|          | 0/100 [00:20<?, ?it/s]"
     ]
    },
    {
     "name": "stdout",
     "output_type": "stream",
     "text": [
      ".\n"
     ]
    },
    {
     "name": "stderr",
     "output_type": "stream",
     "text": [
      "\n"
     ]
    },
    {
     "name": "stdout",
     "output_type": "stream",
     "text": [
      "[Release 1 for source moto_sales - Comment: 1 - Release date: 2023-09-01 14:02:59.879000]\n"
     ]
    }
   ],
   "source": [
    "from vaultspeed_sdk.source.release import ReleaseParts\n",
    "\n",
    "src_rel = source.create_release(number=1, comment=\"1\", keep=ReleaseParts.ALL, import_src_mtd=True)\n",
    "print(source.releases)"
   ]
  },
  {
   "cell_type": "markdown",
   "metadata": {},
   "source": [
    "To see which objects are in the release, run the following."
   ]
  },
  {
   "cell_type": "code",
   "execution_count": 24,
   "metadata": {
    "ExecuteTime": {
     "end_time": "2023-09-01T14:03:12.600648800Z",
     "start_time": "2023-09-01T14:03:12.115122200Z"
    }
   },
   "outputs": [
    {
     "name": "stdout",
     "output_type": "stream",
     "text": [
      "[Source Object product_feature_class (product_feature_class) - Hub and Satellite, Source Object codes_to_language (codes_to_language) - Hub and Satellite, Source Object product_sensors (product_sensors) - Hub and Satellite, Source Object product_feature_cat (product_feature_cat) - Hub and Satellite, Source Object cust_addresses (cust_addresses) - Hub and Satellite, Source Object customers (customers) - Hub and Satellite, Source Object product_feat_class_rel (product_feat_class_rel) - Hub and Satellite, Source Object payments (payments) - Hub and Satellite, Source Object products (products) - Hub and Satellite, Source Object invoices (invoices) - Hub and Satellite, Source Object invoice_lines (invoice_lines) - Hub and Satellite, Source Object product_features (product_features) - Hub and Satellite, Source Object parts (parts) - Hub and Satellite, Source Object addresses (addresses) - Hub and Satellite]\n"
     ]
    }
   ],
   "source": [
    "print(src_rel.objects)"
   ]
  },
  {
   "cell_type": "markdown",
   "metadata": {},
   "source": [
    "The source objects and their attributes can be retrieved in multiple ways, similar to the parameters.\n",
    "The get_all method allows us to retrieve all objects matching a list of names.\n",
    "Note that the attribute access (dot notation) is only possible if your object/attribute names are valid python identifiers."
   ]
  },
  {
   "cell_type": "code",
   "execution_count": 25,
   "metadata": {
    "ExecuteTime": {
     "end_time": "2023-09-01T14:03:14.199674300Z",
     "start_time": "2023-09-01T14:03:12.610657300Z"
    }
   },
   "outputs": [
    {
     "name": "stdout",
     "output_type": "stream",
     "text": [
      "Source Object addresses (addresses) - Hub and Satellite\n",
      "Source Object addresses (addresses) - Hub and Satellite\n",
      "Source Object addresses (addresses) - Hub and Satellite\n",
      "Source Attribute: address_number - NUMERIC - PRIMARY_KEY\n",
      "Source Attribute: address_number - NUMERIC - PRIMARY_KEY\n",
      "[Source Object product_feature_cat (product_feature_cat) - Hub and Satellite, Source Object product_features (product_features) - Hub and Satellite]\n"
     ]
    }
   ],
   "source": [
    "print(src_rel.objects[\"addresses\"])\n",
    "print(src_rel.objects.get(\"addresses\"))\n",
    "print(src_rel.objects.addresses)\n",
    "print(src_rel.objects.addresses.attributes.address_number)\n",
    "print(src_rel.objects.addresses.attributes[\"address_number\"])\n",
    "print(src_rel.objects.get_all([\"product_features\", \"product_feature_cat\"]))"
   ]
  },
  {
   "cell_type": "markdown",
   "metadata": {},
   "source": [
    "Next, we can start the configuration of our source model.\n",
    "We will start by doing some mass updates of objects and attributes."
   ]
  },
  {
   "cell_type": "code",
   "execution_count": 26,
   "metadata": {
    "ExecuteTime": {
     "end_time": "2023-09-01T14:03:17.014610700Z",
     "start_time": "2023-09-01T14:03:14.203679500Z"
    }
   },
   "outputs": [],
   "source": [
    "from vaultspeed_sdk.source.release import AttributeProperties\n",
    "\n",
    "# do a mass update to make all attributes matching a pattern to be marked as non-historic\n",
    "src_rel.mass_update_attributes_by_pattern(pattern=\"update_timestamp\", attr_property=AttributeProperties.NON_HISTORIC, value=True)\n",
    "\n",
    "# mass update some properties for a set of objects\n",
    "src_rel.mass_update_objects_multi_active(multi_active=True, objects=src_rel.objects.get_all([\"product_features\", \"product_feature_cat\"]))\n",
    "src_rel.mass_update_objects_cdc(cdc_type=CdcTypes.INCR, objects=src_rel.objects.get_all([\"invoices\"]))"
   ]
  },
  {
   "cell_type": "markdown",
   "metadata": {},
   "source": [
    "Next, lets do some object and attribute configurations."
   ]
  },
  {
   "cell_type": "code",
   "execution_count": 27,
   "metadata": {
    "ExecuteTime": {
     "end_time": "2023-09-01T14:03:23.908852400Z",
     "start_time": "2023-09-01T14:03:17.019838800Z"
    }
   },
   "outputs": [
    {
     "name": "stdout",
     "output_type": "stream",
     "text": [
      "[CDC_TIMESTAMP = cdc_timestamp, CDC_FLAG = jrn_flag, USE_SOURCE_UK_AS_BK = N, CDC_RELIABLE = N, INTRA_LOADCYCLE_CHANGES = Y, STORE_BK_FIELDS_IN_SAT = N, CLOSE_DELETED_RECORDS = N, TRIM_SPACES_FROM_BUSINESS_KEY = Y, CDC_UPDATE_RECORD_ALL_ATTRIBUTES = Y, CDC_PRE_POST_IMAGE_FLAG = cdc_pre_post_image_flag, USE_OBJ_SRC_NAME_FOR_INI_CDC_TABLES = Y, REFERENTIAL_INTEGRITY_VALIDATED = N, REFERENTIAL_INTEGRITY_FORCE_LINK_LOAD = N, MIN_LOAD_TIMESTAMP = min_load_timestamp, MAX_LOAD_TIMESTAMP = max_load_timestamp, ORIGIN_ID = origin_id, END_INTERVAL = end_interval, GENERAL_ORDER = general_order, AGG_HASH_DIFF = agg_hash_diff, COUNT_MULTI_ACTIVE = count_multi_active, WATER_MARK_SIZE = 120, ERROR_RECORD_RETENTION_TIME = 120, CDC_SEQUENCE = cdc_sequence, ADD_RECORD_TRACKING_SATELLITE = N, ADD_NH_COUNTER_RECORD_DELETE = N, NH_COUNTER_POSITIVE_VALUE = 1, NH_COUNTER_NEGATIVE_VALUE = -1, NH_COUNTER = counter, USE_ORIGINAL_SOURCE_TABLE_NAME_FOR_INI_CDC_OBJECTS = N, DETECT_UPDATES_INSERTS_ON_FULL_LOAD = Y, CDC_TIMESTAMP_FORMAT_MASK = None, CAST_VS_MANAGED_ATTRIBUTES = Y]\n",
      "addresses has CDC type: Change Data Capture\n",
      "addresses attributes:\n",
      "Source Attribute: address_number - NUMERIC - PRIMARY_KEY\n",
      "Source Attribute: street_name - VARCHAR - BUSINESS_KEY\n",
      "Source Attribute: street_number - NUMERIC - BUSINESS_KEY\n",
      "Source Attribute: postal_code - VARCHAR - BUSINESS_KEY\n",
      "Source Attribute: city - VARCHAR - BUSINESS_KEY\n",
      "Source Attribute: coordinates - GPS - \n",
      "Source Attribute: update_timestamp - TIMESTAMP - NON_HISTORIC\n"
     ]
    }
   ],
   "source": [
    "from vaultspeed_sdk.models.metadata.object_type import SourceObjectTypes\n",
    "\n",
    "addresses = src_rel.objects[\"addresses\"]\n",
    "\n",
    "# update an object parameter\n",
    "addresses.parameters.STORE_BK_FIELDS_IN_SAT = \"Y\"\n",
    "addresses.parameters.save()\n",
    "print(addresses.parameters)\n",
    "\n",
    "print(f\"addresses has CDC type: {addresses.cdc_type.value}\")\n",
    "\n",
    "# set some business keys\n",
    "print(f\"addresses attributes:\")\n",
    "for attr in addresses.attributes:\n",
    "    if attr.name in (\"street_name\", \"street_number\", \"postal_code\", \"city\"):\n",
    "        attr.business_key = True\n",
    "    print(attr)\n",
    "\n",
    "# update the abbreviated name of an attribute\n",
    "parts = src_rel.objects[\"parts\"]\n",
    "parts.attributes[\"part_language_code\"].abbreviated_name = \"part_langua_code\"\n",
    "\n",
    "# change an object type\n",
    "src_rel.objects.payments.object_type = SourceObjectTypes.NHL\n",
    "src_rel.objects.customers.attributes.national_person_id.universal_identifier = True"
   ]
  },
  {
   "cell_type": "markdown",
   "metadata": {},
   "source": [
    "Creating new relationships can be done as follows."
   ]
  },
  {
   "cell_type": "code",
   "execution_count": 28,
   "metadata": {
    "ExecuteTime": {
     "end_time": "2023-09-01T14:03:25.247027400Z",
     "start_time": "2023-09-01T14:03:23.914957Z"
    }
   },
   "outputs": [
    {
     "name": "stdout",
     "output_type": "stream",
     "text": [
      "parts: [Source Attribute: part_id - NUMERIC - PRIMARY_KEY, Source Attribute: part_number - VARCHAR - UNIQUE_KEY, Source Attribute: part_language_code - VARCHAR - UNIQUE_KEY, Source Attribute: update_timestamp - TIMESTAMP - NON_HISTORIC]\n",
      "codes_to_language: [Source Attribute: code - VARCHAR - PRIMARY_KEY, Source Attribute: language_code - VARCHAR - PRIMARY_KEY, Source Attribute: description - VARCHAR - , Source Attribute: update_timestamp - TIMESTAMP - NON_HISTORIC]\n",
      "Relationship parts_codestolanguage_1_fk to codes_to_language.codes_to_language_pk\n",
      "[Relationship Attribute from part_number to code, Relationship Attribute from part_language_code to language_code]\n"
     ]
    }
   ],
   "source": [
    "parts = src_rel.objects[\"parts\"]\n",
    "part_attr = parts.attributes\n",
    "print(f\"parts: {part_attr}\")\n",
    "codes_to_language = src_rel.objects[\"codes_to_language\"]\n",
    "ctl_attr = codes_to_language.attributes\n",
    "print(f\"codes_to_language: {ctl_attr}\")\n",
    "# create a relationship with multiple attributes\n",
    "parts.create_relationship(codes_to_language, [(part_attr.part_number, ctl_attr.code), (part_attr.part_language_code, ctl_attr.language_code)])\n",
    "for rel in parts.relationships:\n",
    "    print(rel)\n",
    "    print(rel.attributes)"
   ]
  },
  {
   "cell_type": "markdown",
   "metadata": {},
   "source": [
    "Now let's create some driving key relationships."
   ]
  },
  {
   "cell_type": "code",
   "execution_count": 29,
   "metadata": {
    "ExecuteTime": {
     "end_time": "2023-09-01T14:03:29.542012700Z",
     "start_time": "2023-09-01T14:03:25.252033100Z"
    }
   },
   "outputs": [
    {
     "name": "stdout",
     "output_type": "stream",
     "text": [
      "Source Object product_feat_class_rel (product_feat_class_rel) - Many to Many Link and Satellite\n",
      "[Relationship product_feat_class_rel_prod_fk to products.products_pk, Relationship productfeatclassrel_productfeatures_1_fk to product_features.product_features_pk, Relationship relprodfeatclass to product_feature_class.product_feature_class_pk]\n",
      "Relationship product_feat_class_rel_prod_fk to products.products_pk\n"
     ]
    }
   ],
   "source": [
    "pfcr = src_rel.objects[\"product_feat_class_rel\"]\n",
    "pfcr.object_type = SourceObjectTypes.LND\n",
    "print(pfcr)\n",
    "\n",
    "# create a driving key relationship\n",
    "pfcr.create_relationship(src_rel.objects.product_features,\n",
    "                         [(pfcr.attributes.product_feature_id, src_rel.objects.product_features.attributes.product_feature_id)], driving_key=True)\n",
    "# create a normal relationship with a specific name\n",
    "pfcr.create_relationship(src_rel.objects.product_feature_class,\n",
    "                         [(pfcr.attributes.product_feature_class_id, src_rel.objects.product_feature_class.attributes.product_feature_class_id)],\n",
    "                         name=\"relProdFeatClass\")\n",
    "print(pfcr.relationships)\n",
    "\n",
    "# set the relationship on the product_id attribute to be a driving key\n",
    "for rel in pfcr.relationships:\n",
    "    if any([att for att in rel.attributes if att.attribute_name == \"product_id\"]):\n",
    "        rel.driving_key = True\n",
    "        print(rel)"
   ]
  },
  {
   "cell_type": "markdown",
   "metadata": {},
   "source": [
    "Object splitting is not yet available in the SDK."
   ]
  },
  {
   "cell_type": "markdown",
   "metadata": {},
   "source": [
    "We have done all the needed configuration to our source model, so that means that we can now save the source model."
   ]
  },
  {
   "cell_type": "code",
   "execution_count": 30,
   "metadata": {
    "ExecuteTime": {
     "end_time": "2023-09-01T14:03:30.092605900Z",
     "start_time": "2023-09-01T14:03:29.500618300Z"
    }
   },
   "outputs": [
    {
     "name": "stdout",
     "output_type": "stream",
     "text": [
      "This source model cannot be saved because: Unable to save the source model because some of the objects have unresolved issues..\n"
     ]
    }
   ],
   "source": [
    "from vaultspeed_sdk.exceptions.release_issue import ReleaseIssue\n",
    "\n",
    "try:\n",
    "    src_rel.save_model()\n",
    "except ReleaseIssue as e:\n",
    "    print(e)"
   ]
  },
  {
   "cell_type": "markdown",
   "metadata": {},
   "source": [
    "It looks like there are still some issue with our model, lets resolve them."
   ]
  },
  {
   "cell_type": "code",
   "execution_count": 31,
   "metadata": {
    "ExecuteTime": {
     "end_time": "2023-09-01T14:03:40.486335800Z",
     "start_time": "2023-09-01T14:03:30.095166900Z"
    }
   },
   "outputs": [
    {
     "name": "stdout",
     "output_type": "stream",
     "text": [
      "faulty objects:\n",
      "issue with product_feature_cat is Error: Multi-Active Satellite without subsequence attributes only supports INTRA_LOADCYCLE_CHANGES = N and CDC = Full Load with Delete Management or Incremental Load\n",
      "issue with cust_addresses is Error: Object cust_addresses has no Primary key constraint.\n",
      "issue with payments is Error: Non-historized Link objects need at least 2 foreign keys.\n",
      "issue with product_features is Error: Multi-Active Satellite without subsequence attributes only supports INTRA_LOADCYCLE_CHANGES = N and CDC = Full Load with Delete Management or Incremental Load\n"
     ]
    }
   ],
   "source": [
    "print(f\"faulty objects:\")\n",
    "for obj in src_rel.objects:\n",
    "    if not obj.valid:\n",
    "        print(f\"issue with {obj.name} is {obj.check_result}\")\n",
    "\n",
    "# fixing issues\n",
    "src_rel.objects[\"product_features\"].attributes[\"product_feature_language_code\"].subsequence_attribute = True\n",
    "src_rel.objects[\"product_feature_cat\"].attributes[\"prod_feat_cat_language_code\"].subsequence_attribute = True\n",
    "src_rel.objects[\"payments\"].create_relationship(src_rel.objects.customers,\n",
    "                                                [(src_rel.objects.payments.attributes.customer_number,\n",
    "                                                  src_rel.objects.customers.attributes.customer_number)])\n",
    "src_rel.objects[\"payments\"].create_relationship(src_rel.objects.invoices,\n",
    "                                                [(src_rel.objects.payments.attributes.invoice_number,\n",
    "                                                  src_rel.objects.invoices.attributes.invoice_number)])\n",
    "\n",
    "ca = src_rel.objects[\"cust_addresses\"]\n",
    "ca.object_type = SourceObjectTypes.LND\n",
    "ca.multi_active = True\n",
    "ca.attributes[\"address_type\"].subsequence_attribute = True\n",
    "ca.create_relationship(src_rel.objects.customers, [(ca.attributes.customer_number, src_rel.objects.customers.attributes.customer_number)])\n",
    "ca.create_relationship(src_rel.objects.addresses, [(ca.attributes.address_number, src_rel.objects.addresses.attributes.address_number)])"
   ]
  },
  {
   "cell_type": "code",
   "execution_count": 32,
   "metadata": {
    "ExecuteTime": {
     "end_time": "2023-09-01T14:03:40.693279300Z",
     "start_time": "2023-09-01T14:03:40.494942700Z"
    }
   },
   "outputs": [
    {
     "name": "stdout",
     "output_type": "stream",
     "text": [
      "faulty objects:\n"
     ]
    }
   ],
   "source": [
    "print(f\"faulty objects:\")\n",
    "for obj in src_rel.objects:\n",
    "    if not obj.valid:\n",
    "        print(f\"issue with {obj.name} is {obj.check_result}\")"
   ]
  },
  {
   "cell_type": "markdown",
   "metadata": {},
   "source": [
    "Now we can actually save our model."
   ]
  },
  {
   "cell_type": "code",
   "execution_count": 33,
   "metadata": {
    "ExecuteTime": {
     "end_time": "2023-09-01T14:03:53.374555500Z",
     "start_time": "2023-09-01T14:03:40.670492400Z"
    }
   },
   "outputs": [
    {
     "name": "stderr",
     "output_type": "stream",
     "text": [
      "  0%|          | 0/100 [00:00<?, ?it/s]"
     ]
    },
    {
     "name": "stdout",
     "output_type": "stream",
     "text": [
      "."
     ]
    },
    {
     "name": "stderr",
     "output_type": "stream",
     "text": [
      "  0%|          | 0/100 [00:10<?, ?it/s]\n"
     ]
    },
    {
     "name": "stdout",
     "output_type": "stream",
     "text": [
      "saved: True, editable: False, locked: False\n"
     ]
    }
   ],
   "source": [
    "src_rel.save_model()\n",
    "print(f\"saved: {src_rel.saved}, editable: {src_rel.editable}, locked: {src_rel.locked}\")"
   ]
  },
  {
   "cell_type": "markdown",
   "metadata": {},
   "source": [
    "We are now no longer allowed to modify the objects in the release."
   ]
  },
  {
   "cell_type": "code",
   "execution_count": 34,
   "metadata": {
    "ExecuteTime": {
     "end_time": "2023-09-01T14:03:53.739305700Z",
     "start_time": "2023-09-01T14:03:53.374555500Z"
    }
   },
   "outputs": [
    {
     "name": "stderr",
     "output_type": "stream",
     "text": [
      "ERROR:root:{\"error\":{\"statusCode\":422,\"name\":\"UnprocessableEntityError\",\"message\":\"This action is not allowed as the source release should be latest and not locked, thus related data cannot be changed anymore.\"}}\n"
     ]
    },
    {
     "name": "stdout",
     "output_type": "stream",
     "text": [
      "422 Client Error: Unprocessable Entity for url: https://dev.vaultspeed.com/api/source/object \n",
      "This action is not allowed as the source release should be latest and not locked, thus related data cannot be changed anymore.\n"
     ]
    }
   ],
   "source": [
    "from requests import HTTPError\n",
    "from vaultspeed_sdk.exceptions.forbidden_action import ForbiddenActionException\n",
    "\n",
    "try:\n",
    "    src_rel.objects.get(\"parts\").short_name = \"prts\"\n",
    "except HTTPError as e:\n",
    "    print(e)"
   ]
  },
  {
   "cell_type": "markdown",
   "metadata": {},
   "source": [
    "After saving the release, we can set its HUBs to multi or single master and split some satellites."
   ]
  },
  {
   "cell_type": "code",
   "execution_count": 35,
   "metadata": {
    "ExecuteTime": {
     "end_time": "2023-09-01T14:03:56.921597300Z",
     "start_time": "2023-09-01T14:03:53.716769300Z"
    }
   },
   "outputs": [
    {
     "name": "stdout",
     "output_type": "stream",
     "text": [
      "[Source HUB: hub_product_sensors, Source HUB: hub_products, Source HUB: hub_product_features, Source HUB: hub_product_feature_class, Source HUB: hub_product_feature_cat, Source HUB: hub_parts, Source HUB: hub_invoices, Source HUB: hub_invoice_lines, Source HUB: hub_customers, Source HUB: hub_codes_to_language, Source HUB: hub_addresses]\n"
     ]
    }
   ],
   "source": [
    "from vaultspeed_sdk.models.metadata.hub_type import HubTypes\n",
    "\n",
    "print(src_rel.hubs)\n",
    "for hub in src_rel.hubs:\n",
    "    if hub.name in (\n",
    "    \"hub_addresses\", \"hub_invoice_lines\", \"hub_invoices\", \"hub_parts\", \"hub_product_feature_cat\", \"hub_product_feature_class\", \"hub_product_features\",\n",
    "    \"hub_product_sensors\"):\n",
    "        hub.hub_type = HubTypes.SINGLE_MASTER\n"
   ]
  },
  {
   "cell_type": "code",
   "execution_count": 36,
   "metadata": {
    "ExecuteTime": {
     "end_time": "2023-09-01T14:04:00.684010Z",
     "start_time": "2023-09-01T14:03:56.941349800Z"
    }
   },
   "outputs": [
    {
     "name": "stdout",
     "output_type": "stream",
     "text": [
      "[Source satellite: sat_ms_product_sensors, Source satellite: sat_ms_products, Source satellite: sat_ms_product_features, Source satellite: sat_ms_product_feature_class, Source satellite: sat_ms_product_feature_cat, Source satellite: sat_ms_parts, Source satellite: sat_ms_invoices, Source satellite: sat_ms_invoice_lines, Source satellite: sat_ms_customers, Source satellite: sat_ms_codes_to_language, Source satellite: sat_ms_addresses, Source satellite: lds_ms_cust_addresses, Source satellite: lds_ms_product_feat_class_rel]\n",
      "Source satellite: sat_ms_customers\n",
      "[Source satellite attribute: update_timestamp, Source satellite attribute: gender, Source satellite attribute: birthdate, Source satellite attribute: last_name, Source satellite attribute: first_name]\n",
      "[Source satellite split: name, Source satellite split: birth]\n",
      "[Source satellite attribute: first_name, Source satellite attribute: last_name, Source satellite attribute: gender]\n",
      "[Source satellite attribute: first_name, Source satellite attribute: last_name, Source satellite attribute: gender, Source satellite attribute: update_timestamp]\n"
     ]
    }
   ],
   "source": [
    "print(src_rel.sats)\n",
    "s_cust = src_rel.sats[\"sat_ms_customers\"]\n",
    "print(s_cust)\n",
    "print(s_cust.attributes)\n",
    "s_cust.create_split(\"name\", \"type\", [attr for attr in s_cust.attributes if attr.name in (\"first_name\", \"last_name\", \"gender\")])\n",
    "s_cust.create_split(\"birth\", \"type\", [attr for attr in s_cust.attributes if attr.name in (\"birthdate\", \"update_timestamp\")])\n",
    "print(s_cust.splits)\n",
    "# add an extra attribute to an existing split\n",
    "split = s_cust.splits[\"name\"]\n",
    "print(split.attributes)\n",
    "split.attributes = list(split.attributes) + [attr for attr in s_cust.attributes if attr.name == \"update_timestamp\"]\n",
    "print(split.attributes)"
   ]
  },
  {
   "cell_type": "markdown",
   "metadata": {},
   "source": [
    "Now we can Lock the release."
   ]
  },
  {
   "cell_type": "code",
   "execution_count": 37,
   "metadata": {
    "ExecuteTime": {
     "end_time": "2023-09-01T14:04:12.178017700Z",
     "start_time": "2023-09-01T14:04:00.686011500Z"
    }
   },
   "outputs": [
    {
     "name": "stderr",
     "output_type": "stream",
     "text": [
      "  0%|          | 0/100 [00:00<?, ?it/s]"
     ]
    },
    {
     "name": "stdout",
     "output_type": "stream",
     "text": [
      "."
     ]
    },
    {
     "name": "stderr",
     "output_type": "stream",
     "text": [
      "  0%|          | 0/100 [00:10<?, ?it/s]"
     ]
    },
    {
     "name": "stdout",
     "output_type": "stream",
     "text": [
      "\n",
      "release locked: True\n"
     ]
    },
    {
     "name": "stderr",
     "output_type": "stream",
     "text": [
      "\n"
     ]
    }
   ],
   "source": [
    "src_rel.lock()\n",
    "print(f\"release locked: {src_rel.locked}\")"
   ]
  },
  {
   "cell_type": "markdown",
   "metadata": {},
   "source": [
    "We are no longer allowed to modify the HUBs and SATs of this release after locking."
   ]
  },
  {
   "cell_type": "code",
   "execution_count": 38,
   "metadata": {
    "ExecuteTime": {
     "end_time": "2023-09-01T14:04:12.539391600Z",
     "start_time": "2023-09-01T14:04:12.057137100Z"
    }
   },
   "outputs": [
    {
     "name": "stdout",
     "output_type": "stream",
     "text": [
      "Forbidden action: The release of this HUB is already locked and thus cannot be edited.\n"
     ]
    }
   ],
   "source": [
    "try:\n",
    "    src_rel.hubs.get(\"hub_addresses\").hub_type = HubTypes.MULTI_MASTER\n",
    "except ForbiddenActionException as e:\n",
    "    print(e)"
   ]
  },
  {
   "cell_type": "markdown",
   "metadata": {},
   "source": [
    "## Second Source\n",
    "let's quickly configure a second source, so that we can integrate them in a Data Vault."
   ]
  },
  {
   "cell_type": "code",
   "execution_count": 39,
   "metadata": {
    "ExecuteTime": {
     "end_time": "2023-09-01T14:05:07.814636600Z",
     "start_time": "2023-09-01T14:04:12.550407Z"
    }
   },
   "outputs": [
    {
     "name": "stderr",
     "output_type": "stream",
     "text": [
      "  0%|          | 0/100 [00:00<?, ?it/s]"
     ]
    },
    {
     "name": "stdout",
     "output_type": "stream",
     "text": [
      "."
     ]
    },
    {
     "name": "stderr",
     "output_type": "stream",
     "text": [
      "  0%|          | 0/100 [00:10<?, ?it/s]"
     ]
    },
    {
     "name": "stdout",
     "output_type": "stream",
     "text": [
      "."
     ]
    },
    {
     "name": "stderr",
     "output_type": "stream",
     "text": [
      "  0%|          | 0/100 [00:20<?, ?it/s]\n"
     ]
    },
    {
     "name": "stdout",
     "output_type": "stream",
     "text": []
    },
    {
     "name": "stderr",
     "output_type": "stream",
     "text": [
      "  0%|          | 0/100 [00:10<?, ?it/s]"
     ]
    },
    {
     "name": "stdout",
     "output_type": "stream",
     "text": [
      ".."
     ]
    },
    {
     "name": "stderr",
     "output_type": "stream",
     "text": [
      " 16%|█▌        | 16/100 [00:20<00:54,  1.55it/s]"
     ]
    },
    {
     "name": "stdout",
     "output_type": "stream",
     "text": [
      "."
     ]
    },
    {
     "name": "stderr",
     "output_type": "stream",
     "text": [
      " 16%|█▌        | 16/100 [00:30<02:42,  1.93s/it]\n"
     ]
    },
    {
     "name": "stdout",
     "output_type": "stream",
     "text": [
      "\n"
     ]
    }
   ],
   "source": [
    "source = project.get_source(\"moto_mktg\", check=False) or \\\n",
    "         project.create_source(\n",
    "             name=\"moto_mktg\",\n",
    "             short_name=\"mm\",\n",
    "             bk_name=\"moto_mktg\",\n",
    "             record_name=\"moto_mktg\",\n",
    "             physical_schema=\"moto_mktg\",\n",
    "             cdc_type=CdcTypes.CDC,\n",
    "             database_link=source_db_link,\n",
    "             src_type=SourceTypes.AGENT,\n",
    "             database_type=DatabaseTypes.POSTGRESQL\n",
    "         )\n",
    "source.parameters.USE_SOURCE_UK_AS_BK = \"Y\"\n",
    "source.parameters.save()\n",
    "source_objects = source.get_source_objects(refresh=True)\n",
    "source.select_source_objects(source_objects, selected=True)\n",
    "source.exclude_object(pattern=\"jrn_%\", reason=\"exclude jrn_ prefixed tables\")\n",
    "source.exclude_attribute(pattern=\"update_user\", reason=\"internal value, not needed in DV\")\n",
    "\n",
    "src_rel = source.create_release(number=1, comment=\"1\", keep=ReleaseParts.ALL, import_src_mtd=True)\n",
    "src_rel.mass_update_attributes_by_pattern(pattern=\"update_timestamp\", attr_property=AttributeProperties.NON_HISTORIC, value=True)"
   ]
  },
  {
   "cell_type": "code",
   "execution_count": 40,
   "metadata": {
    "ExecuteTime": {
     "end_time": "2023-09-01T14:05:38.197236Z",
     "start_time": "2023-09-01T14:05:07.836037Z"
    }
   },
   "outputs": [
    {
     "name": "stderr",
     "output_type": "stream",
     "text": [
      "  0%|          | 0/100 [00:00<?, ?it/s]"
     ]
    },
    {
     "name": "stdout",
     "output_type": "stream",
     "text": [
      "."
     ]
    },
    {
     "name": "stderr",
     "output_type": "stream",
     "text": [
      "  0%|          | 0/100 [00:10<?, ?it/s]\n"
     ]
    },
    {
     "name": "stdout",
     "output_type": "stream",
     "text": []
    }
   ],
   "source": [
    "camp_part_cont = src_rel.objects[\"camp_part_cont\"]\n",
    "campaigns = src_rel.objects[\"campaigns\"]\n",
    "camp_moto_chan_region = src_rel.objects[\"camp_moto_chan_region\"]\n",
    "camp_moto_channel = src_rel.objects[\"camp_moto_channel\"]\n",
    "\n",
    "camp_part_cont.object_type = SourceObjectTypes.LND\n",
    "camp_part_cont.create_relationship(campaigns, [\n",
    "    (camp_part_cont.attributes.campaign_code, campaigns.attributes.campaign_code),\n",
    "    (camp_part_cont.attributes.campaign_start_date, campaigns.attributes.campaign_start_date)\n",
    "])\n",
    "\n",
    "camp_moto_chan_region.object_type = SourceObjectTypes.LND\n",
    "camp_moto_chan_region.multi_active = True\n",
    "camp_moto_chan_region.attributes[\"region\"].subsequence_attribute = True\n",
    "camp_moto_chan_region.create_relationship(campaigns, [\n",
    "    (camp_moto_chan_region.attributes.campaign_code, campaigns.attributes.campaign_code),\n",
    "    (camp_moto_chan_region.attributes.campaign_start_date, campaigns.attributes.campaign_start_date)\n",
    "])\n",
    "camp_moto_chan_region.create_relationship(src_rel.objects[\"channels\"], [\n",
    "    (camp_moto_chan_region.attributes.channel_id, src_rel.objects[\"channels\"].attributes.channel_id)\n",
    "])\n",
    "camp_moto_chan_region.create_relationship(src_rel.objects[\"motorcycles\"], [\n",
    "    (camp_moto_chan_region.attributes.motorcycle_id, src_rel.objects[\"motorcycles\"].attributes.motorcycle_id)\n",
    "])\n",
    "\n",
    "camp_moto_channel.object_type = SourceObjectTypes.LND\n",
    "camp_moto_channel.multi_active = True\n",
    "camp_moto_channel.parameters.STORE_BK_FIELDS_IN_SAT = \"Y\"\n",
    "camp_moto_channel.attributes[\"from_date\"].subsequence_attribute = True\n",
    "camp_moto_channel.create_relationship(campaigns, [\n",
    "    (camp_moto_channel.attributes.campaign_code, campaigns.attributes.campaign_code),\n",
    "    (camp_moto_channel.attributes.campaign_start_date, campaigns.attributes.campaign_start_date)\n",
    "])\n",
    "camp_moto_channel.create_relationship(src_rel.objects[\"channels\"], [\n",
    "    (camp_moto_channel.attributes.channel_id, src_rel.objects[\"channels\"].attributes.channel_id)\n",
    "])\n",
    "\n",
    "src_rel.objects.e_mails.object_type = SourceObjectTypes.SAT\n",
    "src_rel.objects.phones.object_type = SourceObjectTypes.SAT\n",
    "src_rel.objects.party_contacts.object_type = SourceObjectTypes.LND\n",
    "src_rel.objects.campaign_motorcycles.object_type = SourceObjectTypes.LND\n",
    "\n",
    "src_rel.save_model()"
   ]
  },
  {
   "cell_type": "code",
   "execution_count": 41,
   "metadata": {
    "ExecuteTime": {
     "end_time": "2023-09-01T14:05:51.234949900Z",
     "start_time": "2023-09-01T14:05:38.111622200Z"
    }
   },
   "outputs": [
    {
     "name": "stderr",
     "output_type": "stream",
     "text": [
      "  0%|          | 0/100 [00:00<?, ?it/s]"
     ]
    },
    {
     "name": "stdout",
     "output_type": "stream",
     "text": [
      "."
     ]
    },
    {
     "name": "stderr",
     "output_type": "stream",
     "text": [
      "  0%|          | 0/100 [00:10<?, ?it/s]"
     ]
    },
    {
     "name": "stdout",
     "output_type": "stream",
     "text": []
    },
    {
     "name": "stderr",
     "output_type": "stream",
     "text": [
      "\n"
     ]
    }
   ],
   "source": [
    "for hub in src_rel.hubs:\n",
    "    if hub.name in (\"hub_addresses\", \"hub_contacts\", \"hub_campaigns\", \"hub_channels\"):\n",
    "        hub.hub_type = HubTypes.SINGLE_MASTER\n",
    "\n",
    "scm = src_rel.sats[\"lds_mm_campaign_motorcycles\"]\n",
    "scm.create_split(\"class\", \"type\", [attr for attr in scm.attributes if attr.name in (\"motorcycle_class_desc\", \"motorcycle_subclass_desc\", \"update_timestamp\")])\n",
    "scm.create_split(\"emo\", \"type\", [attr for attr in scm.attributes if attr.name in (\"motorcycle_comment\", \"motorcycle_emotion_desc\", \"update_timestamp\")])\n",
    "src_rel.lock()"
   ]
  },
  {
   "cell_type": "markdown",
   "metadata": {},
   "source": [
    "# Data Vault\n",
    "\n",
    "Now that we have a locked source release, we can create our Data Vault."
   ]
  },
  {
   "cell_type": "code",
   "execution_count": 42,
   "metadata": {
    "ExecuteTime": {
     "end_time": "2023-09-01T14:05:51.843819900Z",
     "start_time": "2023-09-01T14:05:51.193223900Z"
    }
   },
   "outputs": [
    {
     "name": "stdout",
     "output_type": "stream",
     "text": [
      "[Data Vault moto_sf (code moto) for DatabaseTypes.SNOWFLAKE]\n"
     ]
    }
   ],
   "source": [
    "dv = project.create_data_vault(code=\"moto\", name=\"moto_sf\", database_type=DatabaseTypes.SNOWFLAKE)\n",
    "print(project.data_vaults)"
   ]
  },
  {
   "cell_type": "markdown",
   "metadata": {},
   "source": [
    "Existing data vaults can be retrieved by name or code.\n",
    "Note that the code does not have to be unique, meaning that there can be multiple DVs with the same code, in those cases only the last DV with that code will be returned.\n",
    "To get all of them, filter the project.data_vaults list."
   ]
  },
  {
   "cell_type": "code",
   "execution_count": 43,
   "metadata": {
    "ExecuteTime": {
     "end_time": "2023-09-01T14:05:52.867268700Z",
     "start_time": "2023-09-01T14:05:51.844880800Z"
    }
   },
   "outputs": [
    {
     "name": "stdout",
     "output_type": "stream",
     "text": [
      "Data Vault moto_sf (code moto) for DatabaseTypes.SNOWFLAKE\n",
      "Data Vault moto_sf (code moto) for DatabaseTypes.SNOWFLAKE\n",
      "[Data Vault moto_sf (code moto) for DatabaseTypes.SNOWFLAKE]\n"
     ]
    }
   ],
   "source": [
    "print(project.get_data_vault(name=\"moto_sf\"))\n",
    "print(project.get_data_vault(code=\"moto\"))\n",
    "print([dv for dv in project.data_vaults if dv.code == \"moto\"])"
   ]
  },
  {
   "cell_type": "markdown",
   "metadata": {},
   "source": [
    "Modify some DV parameters next."
   ]
  },
  {
   "cell_type": "code",
   "execution_count": 44,
   "metadata": {
    "ExecuteTime": {
     "end_time": "2023-09-01T14:05:53.151779600Z",
     "start_time": "2023-09-01T14:05:52.869267400Z"
    }
   },
   "outputs": [
    {
     "name": "stdout",
     "output_type": "stream",
     "text": [
      "[ETL_GENERATION_TYPE = SQL, HASHKEY_DELIMITER = \\#, CURRENT_RECORD_LOAD_END_DATE = 31/12/2999 23:59:59, SCHEMA_FL = moto_fl, FOLDER_SPLIT = 100, SCHEMA_BV = moto_bv, GENERAL_DATE_FORMAT = DD/MM/YYYY, GENERAL_DATE_FORMAT_ID = 103, GENERAL_NUMBER_FORMAT = 9999999999999D9999999999, GENERAL_NUMBER_FORMAT_ID = 1, GENERAL_TIMESTAMP_FORMAT = DD/MM/YYYY HH24:MI:SS, GENERAL_TIMESTAMP_FORMAT_ID = 103, NUMERIC_DECIMAL_CHARACTER_TARGET = ,, ATTR_CASE_INSENSITIVE_COMPARISON = N, USE_MERGE_STATEMENT = N, LOAD_TIMESTAMP_WITH_TZ = N, CDC_TIMESTAMP_WITH_TZ = N, GENERAL_CHAR_FORMAT = CHAR, GENERAL_TIME_FORMAT = HH24:MI:SS, GENERAL_TIME_FORMAT_ID = 108, TRIM_FUNCTION_AVAILABLE = N, GENERATE_FOREIGN_KEYS = Y, STORE_TEMP_IN_STAGING = N, UPDATE_LOAD_CYCLE_ID_ON_UPDATE_DELETE = N, STORE_HUB_HASH_KEYS_IN_LINK_SAT = N, GENERATE_PRIMARY_UNIQUE_KEYS = Y, GENERATE_SCHEMA_DEFINITIONS = Y, FMC_TYPE = Airflow, DATA_ORDER = dummy, SNAPSHOT_TS = snapshot_ts, ADD_RECORD_SOURCE_ATTRIBUTE = N, RECORD_SOURCE = record_source, RECORD_SOURCE_VALUE_TEMPLATE = <record_src_name>.<table_abbreviated_name>, CAST_BINARY_TO_HEX = Y, CAST_NUMBER_WITH_FORMAT_FOR_HASH = Y, CAST_TO_NVARCHAR_IN_HASH = N, CAST_TO_VARCHAR_IN_HASH = Y, DENODO_DATASOURCE_NAME = None, GENERATE_DENODO_WRAPPERS_AND_BASE_VIEWS = N, MAX_QUERY_SIZE = 15, SK_SUFFIX = sk, SK_PREFIX = None, CONVERT_FMC_TIMEZONE = N, TARGET_TIMEZONE = UTC, FMC_TIMEZONE = UTC]\n"
     ]
    }
   ],
   "source": [
    "dv.parameters.USE_MERGE_STATEMENT = \"Y\"\n",
    "print(dv.parameters)"
   ]
  },
  {
   "cell_type": "markdown",
   "metadata": {},
   "source": [
    "## Data Vault Release\n",
    "Next, we will create a Data Vault Release and start configuring it."
   ]
  },
  {
   "cell_type": "code",
   "execution_count": 45,
   "metadata": {
    "ExecuteTime": {
     "end_time": "2023-09-01T14:05:55.751876100Z",
     "start_time": "2023-09-01T14:05:53.153776900Z"
    }
   },
   "outputs": [
    {
     "name": "stdout",
     "output_type": "stream",
     "text": [
      "[Release 1 for source moto_sales - Comment: 1 - Release date: 2023-09-01 14:02:59.879000, Release 1 for source moto_mktg - Comment: 1 - Release date: 2023-09-01 14:04:51.378000]\n",
      "[Data Vault release: v1 (1) - first release - created at 2023-09-01T14:05:54.851Z]\n"
     ]
    }
   ],
   "source": [
    "# get the latest release for all our sources\n",
    "latest_source_releases = []\n",
    "for src in project.sources:\n",
    "    if src.name in (\"moto_sales\", \"moto_mktg\"):\n",
    "        locked_releases = [rel for rel in src.releases if rel.locked]\n",
    "        if locked_releases:\n",
    "            latest_source_releases.append(sorted(locked_releases, key=lambda x: x.date, reverse=True)[0])\n",
    "\n",
    "print(latest_source_releases)\n",
    "# create a new Data Vault Release\n",
    "dv_release = dv.create_release(source_releases=latest_source_releases, name=\"v1\", number=1, comment=\"first release\")\n",
    "\n",
    "print(dv.releases)"
   ]
  },
  {
   "cell_type": "markdown",
   "metadata": {},
   "source": [
    "First, we will take a look at all the hubs in our Data Vault, and the groups that are automatically created by VaultSpeed."
   ]
  },
  {
   "cell_type": "code",
   "execution_count": 46,
   "metadata": {
    "ExecuteTime": {
     "end_time": "2023-09-01T14:05:59.447417600Z",
     "start_time": "2023-09-01T14:05:55.755915700Z"
    }
   },
   "outputs": [
    {
     "name": "stdout",
     "output_type": "stream",
     "text": [
      "[Data Vault HUB: hub_addresses]\n",
      "[Data Vault HUB element: hub_codes_to_language from moto_sales (ObjectStatus.NEW), Data Vault HUB element: hub_customers from moto_sales (ObjectStatus.NEW), Data Vault HUB element: hub_invoice_lines from moto_sales (ObjectStatus.NEW), Data Vault HUB element: hub_invoices from moto_sales (ObjectStatus.NEW), Data Vault HUB element: hub_product_feature_cat from moto_sales (ObjectStatus.NEW), Data Vault HUB element: hub_product_feature_class from moto_sales (ObjectStatus.NEW), Data Vault HUB element: hub_product_features from moto_sales (ObjectStatus.NEW), Data Vault HUB element: hub_products from moto_sales (ObjectStatus.NEW), Data Vault HUB element: hub_product_sensors from moto_sales (ObjectStatus.NEW), Data Vault HUB element: hub_parts from moto_sales (ObjectStatus.NEW), Data Vault HUB element: hub_party from moto_mktg (ObjectStatus.NEW), Data Vault HUB element: hub_motorcycles from moto_mktg (ObjectStatus.NEW), Data Vault HUB element: hub_contacts from moto_mktg (ObjectStatus.NEW), Data Vault HUB element: hub_channels from moto_mktg (ObjectStatus.NEW), Data Vault HUB element: hub_campaigns from moto_mktg (ObjectStatus.NEW)]\n",
      "[Data Vault HUB element: hub_addresses from moto_mktg (ObjectStatus.NEW), Data Vault HUB element: hub_addresses from moto_sales (ObjectStatus.NEW)]\n"
     ]
    }
   ],
   "source": [
    "grouped_hubs = dv_release.grouped_hubs\n",
    "ungrouped_hubs = dv_release.ungrouped_hubs\n",
    "print(grouped_hubs)\n",
    "print(ungrouped_hubs)\n",
    "print(grouped_hubs[\"hub_addresses\"].elements)"
   ]
  },
  {
   "cell_type": "markdown",
   "metadata": {},
   "source": [
    "We can now create a new hub group and configure it."
   ]
  },
  {
   "cell_type": "code",
   "execution_count": 47,
   "metadata": {
    "ExecuteTime": {
     "end_time": "2023-09-01T14:06:04.507152Z",
     "start_time": "2023-09-01T14:05:59.453059600Z"
    }
   },
   "outputs": [
    {
     "name": "stdout",
     "output_type": "stream",
     "text": [
      "Data Vault HUB: hub_customers\n",
      "[Data Vault HUB element: hub_customers from moto_sales (ObjectStatus.NEW), Data Vault HUB element: hub_party from moto_mktg (ObjectStatus.NEW)]\n",
      "True\n"
     ]
    }
   ],
   "source": [
    "logging.basicConfig(level=logging.DEBUG)\n",
    "cust = dv_release.create_hub_group(abbreviated_name=\"customers\", short_name=\"customers\", hubs=[ungrouped_hubs.hub_customers, ungrouped_hubs.hub_party])\n",
    "print(cust)\n",
    "print(cust.elements)\n",
    "\n",
    "# change the short name\n",
    "cust.short_name = \"cust\"\n",
    "# enable business key concatenation\n",
    "addr = dv_release.grouped_hubs[\"hub_addresses\"]\n",
    "print(addr.is_concat_necessary)\n",
    "addr.business_key_concat = True"
   ]
  },
  {
   "cell_type": "markdown",
   "metadata": {},
   "source": [
    "We can also create empty groups, these can later be filled in when we add more sources."
   ]
  },
  {
   "cell_type": "code",
   "execution_count": 48,
   "metadata": {
    "ExecuteTime": {
     "end_time": "2023-09-01T14:06:05.633505600Z",
     "start_time": "2023-09-01T14:06:04.510151500Z"
    }
   },
   "outputs": [
    {
     "data": {
      "text/plain": "Data Vault HUB: hub_employees"
     },
     "execution_count": 48,
     "metadata": {},
     "output_type": "execute_result"
    }
   ],
   "source": [
    "dv_release.create_hub_group(\"employees\", \"employees\", [])"
   ]
  },
  {
   "cell_type": "markdown",
   "metadata": {},
   "source": [
    "We can also add hubs to a group, or move hubs between groups."
   ]
  },
  {
   "cell_type": "code",
   "execution_count": 49,
   "metadata": {
    "ExecuteTime": {
     "end_time": "2023-09-01T14:06:08.845104900Z",
     "start_time": "2023-09-01T14:06:05.605491400Z"
    }
   },
   "outputs": [
    {
     "name": "stdout",
     "output_type": "stream",
     "text": [
      "[Data Vault HUB element: hub_customers from moto_sales (ObjectStatus.NEW), Data Vault HUB element: hub_party from moto_mktg (ObjectStatus.NEW), Data Vault HUB element: hub_motorcycles from moto_mktg (ObjectStatus.NEW)]\n",
      "[Data Vault HUB element: hub_customers from moto_sales (ObjectStatus.NEW), Data Vault HUB element: hub_party from moto_mktg (ObjectStatus.NEW)]\n",
      "[Data Vault HUB element: hub_products from moto_sales (ObjectStatus.NEW), Data Vault HUB element: hub_motorcycles from moto_mktg (ObjectStatus.NEW)]\n"
     ]
    }
   ],
   "source": [
    "products = dv_release.create_hub_group(abbreviated_name=\"products\", short_name=\"products\", hubs=[ungrouped_hubs.hub_products])\n",
    "\n",
    "cust.add_hub_element(ungrouped_hubs.hub_motorcycles)\n",
    "print(cust.elements)\n",
    "\n",
    "hub_motorcycles = [he for he in cust.elements if he.name == \"hub_motorcycles\"][0]\n",
    "cust.transfer_hub_element(hub_motorcycles, products)\n",
    "print(cust.elements)\n",
    "print(products.elements)"
   ]
  },
  {
   "cell_type": "markdown",
   "metadata": {},
   "source": [
    "Finally, we can set one of the sources for addresses to be a slave source."
   ]
  },
  {
   "cell_type": "code",
   "execution_count": 50,
   "metadata": {
    "ExecuteTime": {
     "end_time": "2023-09-01T14:06:09.431935700Z",
     "start_time": "2023-09-01T14:06:08.819109400Z"
    }
   },
   "outputs": [
    {
     "name": "stdout",
     "output_type": "stream",
     "text": [
      "[Data Vault HUB element: hub_addresses from moto_mktg (ObjectStatus.NEW), Data Vault HUB element: hub_addresses from moto_sales (ObjectStatus.NEW)]\n",
      "[master, Slave of hub_addresses from source moto_sales]\n"
     ]
    }
   ],
   "source": [
    "addr = grouped_hubs[\"hub_addresses\"]\n",
    "print(addr.elements)\n",
    "mktg_addr = [he for he in addr.elements if he.source_name == \"moto_mktg\"][0]\n",
    "print(mktg_addr.possible_master_slave_settings)\n",
    "\n",
    "mktg_addr.set_master_slave(mktg_addr.possible_master_slave_settings[\"Slave of hub_addresses from source moto_sales\"])\n",
    "\n",
    "# alternatively, it can also be done based on a specific source object\n",
    "moto_sales = project.get_source(\"moto_sales\")\n",
    "for src in mktg_addr.possible_master_slave_settings:\n",
    "    if src == moto_sales:\n",
    "        mktg_addr.set_master_slave(src)"
   ]
  },
  {
   "cell_type": "markdown",
   "metadata": {},
   "source": [
    "Besides hubs, we also have Links and SATs which we can manipulate."
   ]
  },
  {
   "cell_type": "code",
   "execution_count": 51,
   "metadata": {
    "ExecuteTime": {
     "end_time": "2023-09-01T14:06:13.110330500Z",
     "start_time": "2023-09-01T14:06:09.443942400Z"
    }
   },
   "outputs": [
    {
     "name": "stdout",
     "output_type": "stream",
     "text": [
      "[Data Vault Link: lnk_productsensors_products, Data Vault Link: lnk_products_products_replacementproductid, Data Vault Link: lnk_productfeatures_productfeaturecat, Data Vault Link: lnk_parts_codestolanguage, Data Vault Link: lnk_invoicelines_parts, Data Vault Link: lnk_invoicelines_invoices, Data Vault Link: lnk_invoicelines_products, Data Vault Link: lnk_cust_addresses_customerinvoiceaddressid, Data Vault Link: lnk_cust_addresses_customershiptoaddressid, Data Vault Link: lnk_cust_addresses, Data Vault Link: lnk_cust_cust_parentpartynumber]\n",
      "[Data Vault ManyToManyLink: lnd_product_feat_class_rel, Data Vault ManyToManyLink: lnd_cust_addresses, Data Vault ManyToManyLink: lnd_party_contacts, Data Vault ManyToManyLink: lnd_camp_part_cont, Data Vault ManyToManyLink: lnd_camp_moto_chan_region, Data Vault ManyToManyLink: lnd_camp_moto_channel, Data Vault ManyToManyLink: lnd_campaign_motorcycles]\n",
      "[Data Vault NonHistoricalLink: nhl_ms_payments]\n"
     ]
    }
   ],
   "source": [
    "print(dv_release.links)\n",
    "dv_release.links[\"lnk_cust_addresses_customerinvoiceaddressid\"].short_name = \"invoice\"\n",
    "dv_release.links[\"lnk_cust_addresses_customershiptoaddressid\"].short_name = \"ship\"\n",
    "print(dv_release.many_to_many_links)\n",
    "party_contacts = dv_release.many_to_many_links[\"lnd_party_contacts\"]\n",
    "party_contacts.abbreviated_name = \"customers_contacts\"\n",
    "party_contacts.short_name = \"cust_cont\"\n",
    "dv_release.many_to_many_links[\"lnd_cust_addresses\"].abbreviated_name = \"customer_addresses\"\n",
    "print(dv_release.non_historical_links)"
   ]
  },
  {
   "cell_type": "markdown",
   "metadata": {},
   "source": [
    "The last part of our DV which we can modify is the data types, their mappings and the exception values."
   ]
  },
  {
   "cell_type": "code",
   "execution_count": 52,
   "metadata": {
    "ExecuteTime": {
     "end_time": "2023-09-01T14:06:17.211959Z",
     "start_time": "2023-09-01T14:06:13.124862Z"
    }
   },
   "outputs": [
    {
     "name": "stdout",
     "output_type": "stream",
     "text": [
      "[Data Vault data type: INTEGER, Data Vault data type: FLOAT, Data Vault data type: BINARY, Data Vault data type: BOOLEAN, Data Vault data type: DATE, Data Vault data type: TIMESTAMP_LTZ, Data Vault data type: ARRAY, Data Vault data type: VARCHAR, Data Vault data type: TIME, Data Vault data type: TIMESTAMP_NTZ, Data Vault data type: TIMESTAMP_TZ, Data Vault data type: VARIANT, Data Vault data type: OBJECT, Data Vault data type: gps, Data Vault data type: NUMBER]\n",
      "Data Vault data type: gps\n",
      "[Data Vault data type mapping: NUMERIC (NUMERIC) to NUMBER, Data Vault data type mapping: VARCHAR (VARCHAR) to VARCHAR, Data Vault data type mapping: GPS (STRUCT) to VARCHAR, Data Vault data type mapping: TIMESTAMP (TIMESTAMP) to TIMESTAMP_TZ, Data Vault data type mapping: DATE (DATE) to DATE, Data Vault data type mapping: BPCHAR (CHAR) to VARCHAR, Data Vault data type mapping: INT4 (INTEGER) to INTEGER, Data Vault data type mapping: TEXT (VARCHAR) to VARCHAR]\n",
      "[Data Vault special values for data type: INTEGER, Data Vault special values for data type: BINARY, Data Vault special values for data type: DATE, Data Vault special values for data type: NUMBER, Data Vault special values for data type: VARCHAR, Data Vault special values for data type: TIMESTAMP_NTZ, Data Vault special values for data type: TIMESTAMP_TZ]\n"
     ]
    }
   ],
   "source": [
    "from vaultspeed_sdk.models.metadata.data_type_subgroup import DataTypeSubgroups\n",
    "\n",
    "print(dv_release.data_types)\n",
    "# create a new data type\n",
    "if \"gps\" not in dv_release.data_types:\n",
    "    gps = dv_release.create_data_type(name=\"gps\", datatype_subgroup=DataTypeSubgroups.STRING, null_value=\"(0, 0, 0)\", unknown_value=\"(-1, -1, -1)\")\n",
    "else:\n",
    "    gps = dv_release.data_types[\"gps\"]\n",
    "print(gps)\n",
    "\n",
    "# update a data type\n",
    "dv_release.data_types[\"NUMBER\"].max_data_length = 32\n",
    "\n",
    "# update the data type mappings\n",
    "print(dv_release.data_type_mappings)\n",
    "dv_release.data_type_mappings[\"TIMESTAMP\"].data_type_target = dv_release.data_types[\"TIMESTAMP_TZ\"]\n",
    "dv_release.data_type_mappings[\"BPCHAR\"].data_length_target = \"2*x\"\n",
    "\n",
    "# update the special values\n",
    "special_values = dv_release.special_values\n",
    "print(special_values)\n",
    "special_values[\"VARCHAR\"].null_value = \"~NL~\"\n",
    "special_values[\"VARCHAR\"].unknown_value = \"~UN~\"\n",
    "special_values[\"DATE\"].null_value = \"31/12/2499\"\n",
    "special_values[\"DATE\"].unknown_value = \"31/12/2599\""
   ]
  },
  {
   "cell_type": "markdown",
   "metadata": {},
   "source": [
    "Now that our DV has been configured, we can lock it."
   ]
  },
  {
   "cell_type": "code",
   "execution_count": 53,
   "metadata": {
    "ExecuteTime": {
     "end_time": "2023-09-01T14:06:29.040990Z",
     "start_time": "2023-09-01T14:06:17.218408900Z"
    }
   },
   "outputs": [
    {
     "name": "stderr",
     "output_type": "stream",
     "text": [
      "  0%|          | 0/100 [00:10<?, ?it/s]"
     ]
    },
    {
     "name": "stdout",
     "output_type": "stream",
     "text": [
      ".\n"
     ]
    },
    {
     "name": "stderr",
     "output_type": "stream",
     "text": [
      "\n"
     ]
    }
   ],
   "source": [
    "dv_release.lock()"
   ]
  },
  {
   "cell_type": "markdown",
   "metadata": {},
   "source": [
    "After locking, we can take a look at the completed DV structure (objects only for now)."
   ]
  },
  {
   "cell_type": "code",
   "execution_count": 54,
   "metadata": {
    "ExecuteTime": {
     "end_time": "2023-09-01T14:06:29.268920800Z",
     "start_time": "2023-09-01T14:06:29.035605200Z"
    }
   },
   "outputs": [
    {
     "name": "stdout",
     "output_type": "stream",
     "text": [
      "[Data Vault Hub: hub_addresses, Data Vault Hub: hub_codes_to_language, Data Vault Hub: hub_customers, Data Vault Hub: hub_invoice_lines, Data Vault Hub: hub_invoices, Data Vault Hub: hub_product_feature_cat, Data Vault Hub: hub_product_feature_class, Data Vault Hub: hub_product_features, Data Vault Hub: hub_products, Data Vault Hub: hub_product_sensors, Data Vault Hub: hub_parts, Data Vault Hub: hub_contacts, Data Vault Hub: hub_channels, Data Vault Hub: hub_campaigns, Data Vault Satellites on Hub: sat_ms_addresses, Data Vault Satellites on Hub: sat_ms_codes_to_language, Data Vault Satellites on Hub: sat_ms_customers_name, Data Vault Satellites on Hub: sat_ms_customers_birth, Data Vault Satellites on Hub: sat_ms_invoice_lines, Data Vault Satellites on Hub: sat_ms_invoices, Data Vault Satellites on Hub: sat_ms_product_feature_cat, Data Vault Satellites on Hub: sat_ms_product_feature_class, Data Vault Satellites on Hub: sat_ms_product_features, Data Vault Satellites on Hub: sat_ms_products, Data Vault Satellites on Hub: sat_ms_product_sensors, Data Vault Satellites on Hub: sat_ms_parts, Data Vault Satellites on Hub: sat_mm_addresses, Data Vault Satellites on Hub: sat_mm_customers, Data Vault Satellites on Hub: sat_mm_products, Data Vault Satellites on Hub: sat_mm_contacts, Data Vault Satellites on Hub: sat_mm_e_mails, Data Vault Satellites on Hub: sat_mm_phones, Data Vault Satellites on Hub: sat_mm_channels, Data Vault Satellites on Hub: sat_mm_campaigns, Data Vault Relationship Based Link: lnk_productsensors_products, Data Vault Relationship Based Link: lnk_products_products_replacementproductid, Data Vault Relationship Based Link: lnk_productfeatures_productfeaturecat, Data Vault Relationship Based Link: lnk_parts_codestolanguage, Data Vault Relationship Based Link: lnk_invoicelines_parts, Data Vault Relationship Based Link: lnk_invoicelines_invoices, Data Vault Relationship Based Link: lnk_invoicelines_products, Data Vault Relationship Based Link: lnk_cust_addresses_invoice, Data Vault Relationship Based Link: lnk_cust_addresses_ship, Data Vault Relationship Based Link: lnk_cust_addresses, Data Vault Relationship Based Link: lnk_cust_cust_parentpartynumber, Data Vault Links across source: lna_cust_addresses, Data Vault Satellites on Relationship Based Link: lks_ms_productsensors_products, Data Vault Satellites on Relationship Based Link: lks_ms_products_products_replacementproductid, Data Vault Satellites on Relationship Based Link: lks_ms_productfeatures_productfeaturecat, Data Vault Satellites on Relationship Based Link: lks_ms_parts_codestolanguage, Data Vault Satellites on Relationship Based Link: lks_ms_invoicelines_parts, Data Vault Satellites on Relationship Based Link: lks_ms_invoicelines_invoices, Data Vault Satellites on Relationship Based Link: lks_ms_invoicelines_products, Data Vault Satellites on Relationship Based Link: lks_ms_cust_addresses_invoice, Data Vault Satellites on Relationship Based Link: lks_ms_cust_addresses_ship, Data Vault Satellites on Relationship Based Link: lks_mm_cust_addresses, Data Vault Satellites on Relationship Based Link: lks_mm_cust_cust_parentpartynumber, Data Vault Satellites on Links across source: las_mm_cust_addresses, Data Vault Object Based Link: lnd_product_feat_class_rel, Data Vault Object Based Link: lnd_customer_addresses, Data Vault Object Based Link: lnd_customers_contacts, Data Vault Object Based Link: lnd_camp_part_cont, Data Vault Object Based Link: lnd_camp_moto_chan_region, Data Vault Object Based Link: lnd_camp_moto_channel, Data Vault Object Based Link: lnd_campaign_motorcycles, Data Vault Satellites on Object Based Link: lds_ms_product_feat_class_rel, Data Vault Satellites on Object Based Link: lds_ms_customer_addresses, Data Vault Satellites on Object Based Link: lds_mm_customers_contacts, Data Vault Satellites on Object Based Link: lds_mm_camp_part_cont, Data Vault Satellites on Object Based Link: lds_mm_camp_moto_chan_region, Data Vault Satellites on Object Based Link: lds_mm_camp_moto_channel, Data Vault Satellites on Object Based Link: lds_mm_campaign_motorcycles_emo, Data Vault Satellites on Object Based Link: lds_mm_campaign_motorcycles_class, Data Vault Non-historized Lin: nhl_ms_payments]\n"
     ]
    }
   ],
   "source": [
    "dv_objects = dv_release.objects\n",
    "print(dv_objects)"
   ]
  },
  {
   "cell_type": "markdown",
   "metadata": {},
   "source": [
    "# Business Vault\n",
    "After completing the Data Vault, we can now start on defining the Business Vault.\n",
    "First we create a new release."
   ]
  },
  {
   "cell_type": "code",
   "execution_count": 55,
   "metadata": {
    "ExecuteTime": {
     "end_time": "2023-09-01T14:06:40.734379800Z",
     "start_time": "2023-09-01T14:06:29.266927400Z"
    }
   },
   "outputs": [
    {
     "name": "stderr",
     "output_type": "stream",
     "text": [
      "  0%|          | 0/100 [00:11<?, ?it/s]"
     ]
    },
    {
     "name": "stdout",
     "output_type": "stream",
     "text": [
      "."
     ]
    },
    {
     "name": "stderr",
     "output_type": "stream",
     "text": [
      "  0%|          | 0/100 [00:11<?, ?it/s]"
     ]
    },
    {
     "name": "stdout",
     "output_type": "stream",
     "text": []
    },
    {
     "name": "stderr",
     "output_type": "stream",
     "text": [
      "\n"
     ]
    }
   ],
   "source": [
    "bv_release = dv_release.create_business_vault_release(name=\"v1\", comment=\"first release\")"
   ]
  },
  {
   "cell_type": "markdown",
   "metadata": {},
   "source": [
    "Let's start by setting our business views."
   ]
  },
  {
   "cell_type": "code",
   "execution_count": 56,
   "metadata": {
    "ExecuteTime": {
     "end_time": "2023-09-01T14:06:42.220156800Z",
     "start_time": "2023-09-01T14:06:40.730866600Z"
    }
   },
   "outputs": [
    {
     "name": "stdout",
     "output_type": "stream",
     "text": [
      "[Business view for object: hub_addresses, Business view for object: hub_codes_to_language, Business view for object: hub_customers, Business view for object: hub_invoice_lines, Business view for object: hub_invoices, Business view for object: hub_product_feature_cat, Business view for object: hub_product_feature_class, Business view for object: hub_product_features, Business view for object: hub_products, Business view for object: hub_product_sensors, Business view for object: hub_parts, Business view for object: hub_contacts, Business view for object: hub_channels, Business view for object: hub_campaigns, Business view for object: sat_ms_addresses, Business view for object: sat_ms_codes_to_language, Business view for object: sat_ms_customers_name, Business view for object: sat_ms_customers_birth, Business view for object: sat_ms_invoice_lines, Business view for object: sat_ms_invoices, Business view for object: sat_ms_product_feature_cat, Business view for object: sat_ms_product_feature_class, Business view for object: sat_ms_product_features, Business view for object: sat_ms_products, Business view for object: sat_ms_product_sensors, Business view for object: sat_ms_parts, Business view for object: sat_mm_addresses, Business view for object: sat_mm_customers, Business view for object: sat_mm_products, Business view for object: sat_mm_contacts, Business view for object: sat_mm_e_mails, Business view for object: sat_mm_phones, Business view for object: sat_mm_channels, Business view for object: sat_mm_campaigns, Business view for object: lnk_productsensors_products, Business view for object: lnk_products_products_replacementproductid, Business view for object: lnk_productfeatures_productfeaturecat, Business view for object: lnk_parts_codestolanguage, Business view for object: lnk_invoicelines_parts, Business view for object: lnk_invoicelines_invoices, Business view for object: lnk_invoicelines_products, Business view for object: lnk_cust_addresses_invoice, Business view for object: lnk_cust_addresses_ship, Business view for object: lnk_cust_addresses, Business view for object: lnk_cust_cust_parentpartynumber, Business view for object: lks_ms_productsensors_products, Business view for object: lks_ms_products_products_replacementproductid, Business view for object: lks_ms_productfeatures_productfeaturecat, Business view for object: lks_ms_parts_codestolanguage, Business view for object: lks_ms_invoicelines_parts, Business view for object: lks_ms_invoicelines_invoices, Business view for object: lks_ms_invoicelines_products, Business view for object: lks_ms_cust_addresses_invoice, Business view for object: lks_ms_cust_addresses_ship, Business view for object: lks_mm_cust_addresses, Business view for object: lks_mm_cust_cust_parentpartynumber, Business view for object: lnd_product_feat_class_rel, Business view for object: lnd_customer_addresses, Business view for object: lnd_customers_contacts, Business view for object: lnd_camp_part_cont, Business view for object: lnd_camp_moto_chan_region, Business view for object: lnd_camp_moto_channel, Business view for object: lnd_campaign_motorcycles, Business view for object: lds_ms_product_feat_class_rel, Business view for object: lds_ms_customer_addresses, Business view for object: lds_mm_customers_contacts, Business view for object: lds_mm_camp_part_cont, Business view for object: lds_mm_camp_moto_chan_region, Business view for object: lds_mm_camp_moto_channel, Business view for object: lds_mm_campaign_motorcycles_emo, Business view for object: lds_mm_campaign_motorcycles_class, Business view for object: nhl_ms_payments]\n",
      "sat_moto_products\n",
      "False\n",
      "[Business view attribute: products_hkey, Business view attribute: load_date, Business view attribute: load_end_date, Business view attribute: load_cycle_id, Business view attribute: hash_diff, Business view attribute: delete_flag, Business view attribute: cdc_timestamp, Business view attribute: motorcycle_id, Business view attribute: motorcycle_cc, Business view attribute: motorcycle_et_code, Business view attribute: motorcycle_part_code, Business view attribute: motorcycle_name, Business view attribute: update_timestamp]\n",
      "motorcycle_display_name\n",
      "False\n"
     ]
    }
   ],
   "source": [
    "business_views = bv_release.business_views\n",
    "print(business_views)\n",
    "\n",
    "# Change the business name and generate option for a Business View\n",
    "business_views[\"sat_mm_products\"].business_name = \"sat_moto_products\"\n",
    "business_views[\"lks_ms_invoicelines_parts\"].generate = False\n",
    "\n",
    "print(business_views.sat_mm_products.business_name)\n",
    "print(business_views.lks_ms_invoicelines_parts.generate)\n",
    "\n",
    "# Get the attributes of a Business View and print them out\n",
    "business_view_attributes = business_views[\"sat_mm_products\"].attributes\n",
    "print(business_view_attributes)\n",
    "\n",
    "# Change the business name and generate option for a Business View Attribute\n",
    "business_view_attributes[\"motorcycle_name\"].business_name = \"motorcycle_display_name\"\n",
    "business_view_attributes[\"update_timestamp\"].generate = False\n",
    "\n",
    "print(business_view_attributes[\"motorcycle_name\"].business_name)\n",
    "print(business_view_attributes[\"update_timestamp\"].generate)"
   ]
  },
  {
   "cell_type": "markdown",
   "metadata": {},
   "source": [
    "Next, we can create some PITs"
   ]
  },
  {
   "cell_type": "code",
   "execution_count": 57,
   "metadata": {
    "ExecuteTime": {
     "end_time": "2023-09-01T14:06:44.559028800Z",
     "start_time": "2023-09-01T14:06:42.188076700Z"
    }
   },
   "outputs": [
    {
     "name": "stdout",
     "output_type": "stream",
     "text": [
      "Snapshot Pit: daily_load with frequency 1 day using timestamp column LOAD_TIMESTAMP\n",
      "[Snapshot Pit: daily_load with frequency 1 day using timestamp column LOAD_TIMESTAMP, Detailed Pit: detailed_transactions using timestamp column TRANS_TIMESTAMP]\n"
     ]
    }
   ],
   "source": [
    "\n",
    "from vaultspeed_sdk.business_vault.pit import FrequencyType, PitType, TimestampColumnTypes\n",
    "\n",
    "snap_pit = bv_release.create_pit(\n",
    "    name=\"daily_load\",\n",
    "    snapshot_frequency=1,\n",
    "    frequency_type=FrequencyType.DAY,\n",
    "    pit_type=PitType.SNAPSHOT,\n",
    "    timestamp_type=TimestampColumnTypes.LOAD_TIMESTAMP,\n",
    "    tables=[dv_objects.hub_contacts]\n",
    ")\n",
    "print(snap_pit)\n",
    "\n",
    "det_pit = bv_release.create_pit(\n",
    "    name=\"detailed_transactions\",\n",
    "    pit_type=PitType.DETAIL,\n",
    "    timestamp_type=TimestampColumnTypes.TRANS_TIMESTAMP,\n",
    "    tables=[dv_objects.lnd_campaign_motorcycles]\n",
    ")\n",
    "\n",
    "# Add and remove an extra DV object to an existing PIT template\n",
    "det_pit.add_dv_object(dv_objects.lnk_cust_addresses)\n",
    "det_pit.remove_dv_object(dv_objects.lnd_campaign_motorcycles)\n",
    "\n",
    "print(bv_release.pits)"
   ]
  },
  {
   "cell_type": "markdown",
   "metadata": {},
   "source": [
    "The DV objects have a function which allows you to look at which hubs are connected to each hub, and via which links. This can then be used to build up the bridges."
   ]
  },
  {
   "cell_type": "code",
   "execution_count": 58,
   "metadata": {
    "ExecuteTime": {
     "end_time": "2023-09-01T14:06:46.486055Z",
     "start_time": "2023-09-01T14:06:44.531551400Z"
    }
   },
   "outputs": [
    {
     "name": "stdout",
     "output_type": "stream",
     "text": [
      "hub: Data Vault Hub: hub_customers via link: Data Vault Object Based Link: lnd_customers_contacts\n",
      "hub: Data Vault Hub: hub_campaigns via link: Data Vault Object Based Link: lnd_camp_part_cont\n",
      "hub: Data Vault Hub: hub_customers via link: Data Vault Object Based Link: lnd_camp_part_cont\n",
      "hub: Data Vault Hub: hub_customers via link: Data Vault Object Based Link: lnd_customers_contacts\n",
      "hub: Data Vault Hub: hub_campaigns via link: Data Vault Object Based Link: lnd_camp_part_cont\n",
      "hub: Data Vault Hub: hub_customers via link: Data Vault Object Based Link: lnd_camp_part_cont\n"
     ]
    }
   ],
   "source": [
    "neighbours = dv_objects[\"hub_contacts\"].get_adjacent_objects()\n",
    "for neighbour in neighbours:\n",
    "    print(f\"hub: {neighbour[1]} via link: {neighbour[0]}\")"
   ]
  },
  {
   "cell_type": "markdown",
   "metadata": {},
   "source": [
    "Bridges can then be created as follows."
   ]
  },
  {
   "cell_type": "code",
   "execution_count": 59,
   "metadata": {
    "ExecuteTime": {
     "end_time": "2023-09-01T14:06:47.665180100Z",
     "start_time": "2023-09-01T14:06:46.494067Z"
    }
   },
   "outputs": [
    {
     "name": "stdout",
     "output_type": "stream",
     "text": [
      "[BridgeElement(identifier=319, name='hub_contacts', object_type=<ObjectTypes.HUB: 'Hubs'>, include_bk=False, order=1, alias='3274d479-652e-42c4-b903-5b91c7ba4f3c', linked_to_aliases=['37ff0c1a-47c7-465a-8e38-8386314e2d86']), BridgeElement(identifier=417, name='lnd_customers_contacts', object_type=<ObjectTypes.LND: 'Object Based Links'>, include_bk=False, order=2, alias='37ff0c1a-47c7-465a-8e38-8386314e2d86', linked_to_aliases=['3274d479-652e-42c4-b903-5b91c7ba4f3c', '85778f11-ff8b-4825-a5f6-dd310eb43a9d']), BridgeElement(identifier=301, name='hub_customers', object_type=<ObjectTypes.HUB: 'Hubs'>, include_bk=True, order=3, alias='85778f11-ff8b-4825-a5f6-dd310eb43a9d', linked_to_aliases=['37ff0c1a-47c7-465a-8e38-8386314e2d86'])]\n",
      "[Bridge contact_address]\n"
     ]
    }
   ],
   "source": [
    "bridge_path = [dv_objects.hub_contacts, dv_objects.lnd_customers_contacts, dv_objects.hub_customers]\n",
    "new_bridge = bv_release.create_bridge(name=\"contact_address\", objects=bridge_path, objects_with_bks=[dv_objects[\"hub_customers\"]],\n",
    "                                      create_bridge_hk=True)\n",
    "print(new_bridge.elements)\n",
    "# complete the bridge by adding extra HUBs\n",
    "new_path = new_bridge.elements + [dv_objects.lnk_cust_addresses, dv_objects.hub_addresses]\n",
    "new_bridge.set_elements(objects=new_path, objects_with_bks=[be for be in new_bridge.elements if be.include_bk])\n",
    "\n",
    "# remove the bridge hash key\n",
    "new_bridge.create_bridge_hk = False\n",
    "\n",
    "print(bv_release.bridges)"
   ]
  },
  {
   "cell_type": "markdown",
   "metadata": {},
   "source": [
    "Finally, we will lock the business vault"
   ]
  },
  {
   "cell_type": "code",
   "execution_count": 60,
   "metadata": {
    "ExecuteTime": {
     "end_time": "2023-09-01T14:06:48.429531100Z",
     "start_time": "2023-09-01T14:06:47.669624500Z"
    }
   },
   "outputs": [
    {
     "name": "stdout",
     "output_type": "stream",
     "text": [
      "True\n"
     ]
    }
   ],
   "source": [
    "bv_release.lock()\n",
    "print(bv_release.locked)"
   ]
  },
  {
   "cell_type": "markdown",
   "metadata": {},
   "source": [
    "# Generation\n",
    "Now that our business vault has been completed, we can generate code.\n",
    "A full generation can be done as follows."
   ]
  },
  {
   "cell_type": "code",
   "execution_count": 61,
   "metadata": {
    "ExecuteTime": {
     "end_time": "2023-09-01T14:09:59.098945Z",
     "start_time": "2023-09-01T14:06:48.430529800Z"
    }
   },
   "outputs": [
    {
     "name": "stderr",
     "output_type": "stream",
     "text": [
      "  0%|          | 0/100 [00:00<?, ?it/s]"
     ]
    },
    {
     "name": "stdout",
     "output_type": "stream",
     "text": [
      "."
     ]
    },
    {
     "name": "stderr",
     "output_type": "stream",
     "text": [
      "  0%|          | 0/100 [00:20<?, ?it/s]"
     ]
    },
    {
     "name": "stdout",
     "output_type": "stream",
     "text": [
      ".\n"
     ]
    },
    {
     "name": "stderr",
     "output_type": "stream",
     "text": [
      "\n"
     ]
    },
    {
     "name": "stdout",
     "output_type": "stream",
     "text": [
      "[DDL Generation for SNOWFLAKE]\n"
     ]
    },
    {
     "name": "stderr",
     "output_type": "stream",
     "text": [
      "  0%|          | 0/100 [00:00<?, ?it/s]"
     ]
    },
    {
     "name": "stdout",
     "output_type": "stream",
     "text": [
      "."
     ]
    },
    {
     "name": "stderr",
     "output_type": "stream",
     "text": [
      "  0%|          | 0/100 [00:10<?, ?it/s]"
     ]
    },
    {
     "name": "stdout",
     "output_type": "stream",
     "text": [
      "."
     ]
    },
    {
     "name": "stderr",
     "output_type": "stream",
     "text": [
      " 10%|█         | 10/100 [00:21<01:36,  1.07s/it]"
     ]
    },
    {
     "name": "stdout",
     "output_type": "stream",
     "text": [
      "."
     ]
    },
    {
     "name": "stderr",
     "output_type": "stream",
     "text": [
      " 37%|███▋      | 37/100 [00:31<00:33,  1.88it/s]"
     ]
    },
    {
     "name": "stdout",
     "output_type": "stream",
     "text": [
      "."
     ]
    },
    {
     "name": "stderr",
     "output_type": "stream",
     "text": [
      " 72%|███████▏  | 72/100 [00:42<00:11,  2.54it/s]"
     ]
    },
    {
     "name": "stdout",
     "output_type": "stream",
     "text": [
      "."
     ]
    },
    {
     "name": "stderr",
     "output_type": "stream",
     "text": [
      " 92%|█████████▏| 92/100 [00:52<00:03,  2.30it/s]"
     ]
    },
    {
     "name": "stdout",
     "output_type": "stream",
     "text": [
      ".."
     ]
    },
    {
     "name": "stderr",
     "output_type": "stream",
     "text": [
      "  1%|          | 1/100 [01:14<01:29,  1.10it/s] "
     ]
    },
    {
     "name": "stdout",
     "output_type": "stream",
     "text": [
      "."
     ]
    },
    {
     "name": "stderr",
     "output_type": "stream",
     "text": [
      " 12%|█▏        | 12/100 [01:24<01:20,  1.09it/s]"
     ]
    },
    {
     "name": "stdout",
     "output_type": "stream",
     "text": [
      "."
     ]
    },
    {
     "name": "stderr",
     "output_type": "stream",
     "text": [
      " 48%|████▊     | 48/100 [01:34<00:29,  1.76it/s]"
     ]
    },
    {
     "name": "stdout",
     "output_type": "stream",
     "text": [
      "."
     ]
    },
    {
     "name": "stderr",
     "output_type": "stream",
     "text": [
      " 86%|████████▌ | 86/100 [01:45<00:06,  2.29it/s]"
     ]
    },
    {
     "name": "stdout",
     "output_type": "stream",
     "text": [
      "."
     ]
    },
    {
     "name": "stderr",
     "output_type": "stream",
     "text": [
      " 92%|█████████▏| 92/100 [01:55<00:04,  1.78it/s]"
     ]
    },
    {
     "name": "stdout",
     "output_type": "stream",
     "text": [
      ".."
     ]
    },
    {
     "name": "stderr",
     "output_type": "stream",
     "text": [
      "  2%|▏         | 2/100 [02:16<01:35,  1.02it/s] "
     ]
    },
    {
     "name": "stdout",
     "output_type": "stream",
     "text": [
      "."
     ]
    },
    {
     "name": "stderr",
     "output_type": "stream",
     "text": [
      " 64%|██████▍   | 64/100 [02:27<00:16,  2.23it/s]"
     ]
    },
    {
     "name": "stdout",
     "output_type": "stream",
     "text": [
      "."
     ]
    },
    {
     "name": "stderr",
     "output_type": "stream",
     "text": [
      "  0%|          | 0/100 [02:47<?, ?it/s]         "
     ]
    },
    {
     "name": "stdout",
     "output_type": "stream",
     "text": [
      ".\n"
     ]
    },
    {
     "name": "stderr",
     "output_type": "stream",
     "text": [
      "\n"
     ]
    },
    {
     "name": "stdout",
     "output_type": "stream",
     "text": [
      "[ETL Generation for Snowflake SQL]\n"
     ]
    }
   ],
   "source": [
    "\n",
    "from vaultspeed_sdk.models.metadata.load_type import LoadTypes\n",
    "from vaultspeed_sdk.models.metadata.etl_generation_type import EtlGenerationTypes\n",
    "\n",
    "my_ddls = system.generate_ddl(\n",
    "    bv_release=bv_release,\n",
    "    etl_generation_type=EtlGenerationTypes.SNOWFLAKESQL,\n",
    "    load_type=LoadTypes.ALL\n",
    ")\n",
    "\n",
    "print(my_ddls)\n",
    "\n",
    "my_etls = system.generate_etl(\n",
    "    bv_release=bv_release,\n",
    "    etl_generation_type=EtlGenerationTypes.SNOWFLAKESQL,\n",
    "    load_type=LoadTypes.ALL\n",
    ")\n",
    "\n",
    "print(my_etls)"
   ]
  },
  {
   "cell_type": "markdown",
   "metadata": {},
   "source": [
    "Creating a delta generation is done in a similar method."
   ]
  },
  {
   "cell_type": "code",
   "execution_count": 62,
   "metadata": {
    "ExecuteTime": {
     "end_time": "2023-09-01T14:10:43.887626200Z",
     "start_time": "2023-09-01T14:09:59.082785700Z"
    }
   },
   "outputs": [
    {
     "name": "stderr",
     "output_type": "stream",
     "text": [
      "  0%|          | 0/100 [00:10<?, ?it/s]"
     ]
    },
    {
     "name": "stdout",
     "output_type": "stream",
     "text": [
      ".\n"
     ]
    },
    {
     "name": "stderr",
     "output_type": "stream",
     "text": [
      "\n",
      "  0%|          | 0/100 [00:00<?, ?it/s]"
     ]
    },
    {
     "name": "stdout",
     "output_type": "stream",
     "text": [
      "."
     ]
    },
    {
     "name": "stderr",
     "output_type": "stream",
     "text": [
      "  0%|          | 0/100 [00:20<?, ?it/s]"
     ]
    },
    {
     "name": "stdout",
     "output_type": "stream",
     "text": [
      "."
     ]
    },
    {
     "name": "stderr",
     "output_type": "stream",
     "text": [
      "  0%|          | 0/100 [00:31<?, ?it/s]"
     ]
    },
    {
     "name": "stdout",
     "output_type": "stream",
     "text": [
      ".\n"
     ]
    },
    {
     "name": "stderr",
     "output_type": "stream",
     "text": [
      "\n"
     ]
    },
    {
     "name": "stdout",
     "output_type": "stream",
     "text": [
      "[COMP Generation for Snowflake SQL]\n"
     ]
    }
   ],
   "source": [
    "from datetime import datetime\n",
    "\n",
    "old_bv_release = bv_release\n",
    "\n",
    "# set our DV release to a prod release\n",
    "dv_release.upgrade_to_production(datetime.now())\n",
    "\n",
    "# create a new DV release and make a change to a parameter\n",
    "new_dv_release = dv.create_release(latest_source_releases, number=2, name=\"v2\", comment=\"second release\")\n",
    "dv.parameters.ADD_RECORD_SOURCE_ATTRIBUTE = True\n",
    "new_dv_release.lock()\n",
    "new_bv_release = new_dv_release.business_vault_releases[0]\n",
    "\n",
    "my_deltas = system.generate_delta(\n",
    "    old_bv_release=old_bv_release,\n",
    "    new_bv_release=new_bv_release,\n",
    "    etl_generation_type=EtlGenerationTypes.SNOWFLAKESQL\n",
    ")\n",
    "\n",
    "print(my_deltas)"
   ]
  },
  {
   "cell_type": "markdown",
   "metadata": {},
   "source": [
    "To deploy the generated code, we have multiple options, we can create a db link and deploy the code through that.\n",
    "It's also possible to just download the code and store it locally. This processes the file names similar to the GIT deploy, meaning that it removes the generation ids and the timestamps from the file names, as well as putting it in the correct sub-folders.\n",
    "The other options of a git deploy or a deployment with a custom script are also available."
   ]
  },
  {
   "cell_type": "code",
   "execution_count": 63,
   "metadata": {
    "ExecuteTime": {
     "end_time": "2023-09-01T14:12:40.050553200Z",
     "start_time": "2023-09-01T14:10:43.889627700Z"
    }
   },
   "outputs": [
    {
     "name": "stderr",
     "output_type": "stream",
     "text": [
      "  0%|          | 0/100 [00:00<?, ?it/s]"
     ]
    },
    {
     "name": "stdout",
     "output_type": "stream",
     "text": [
      "."
     ]
    },
    {
     "name": "stderr",
     "output_type": "stream",
     "text": [
      " 15%|█▌        | 15/100 [00:10<00:59,  1.44it/s]"
     ]
    },
    {
     "name": "stdout",
     "output_type": "stream",
     "text": [
      "."
     ]
    },
    {
     "name": "stderr",
     "output_type": "stream",
     "text": [
      " 35%|███▌      | 35/100 [00:21<00:38,  1.71it/s]"
     ]
    },
    {
     "name": "stdout",
     "output_type": "stream",
     "text": [
      "."
     ]
    },
    {
     "name": "stderr",
     "output_type": "stream",
     "text": [
      " 45%|████▌     | 45/100 [00:31<00:40,  1.37it/s]"
     ]
    },
    {
     "name": "stdout",
     "output_type": "stream",
     "text": [
      "."
     ]
    },
    {
     "name": "stderr",
     "output_type": "stream",
     "text": [
      " 55%|█████▌    | 55/100 [00:41<00:37,  1.21it/s]"
     ]
    },
    {
     "name": "stdout",
     "output_type": "stream",
     "text": [
      ".."
     ]
    },
    {
     "name": "stderr",
     "output_type": "stream",
     "text": [
      " 60%|██████    | 60/100 [01:02<00:57,  1.43s/it]"
     ]
    },
    {
     "name": "stdout",
     "output_type": "stream",
     "text": [
      "..."
     ]
    },
    {
     "name": "stderr",
     "output_type": "stream",
     "text": [
      " 75%|███████▌  | 75/100 [01:34<00:43,  1.72s/it]"
     ]
    },
    {
     "name": "stdout",
     "output_type": "stream",
     "text": [
      "."
     ]
    },
    {
     "name": "stderr",
     "output_type": "stream",
     "text": [
      " 85%|████████▌ | 85/100 [01:44<00:22,  1.52s/it]"
     ]
    },
    {
     "name": "stdout",
     "output_type": "stream",
     "text": [
      "."
     ]
    },
    {
     "name": "stderr",
     "output_type": "stream",
     "text": [
      " 85%|████████▌ | 85/100 [01:54<00:20,  1.35s/it]\n"
     ]
    },
    {
     "name": "stdout",
     "output_type": "stream",
     "text": []
    }
   ],
   "source": [
    "from pathlib import Path\n",
    "\n",
    "target_link = system.create_database_link(name=\"sf\", link_type=DatabaseLinkTypes.AGENT, database_type=DatabaseTypes.SNOWFLAKE)\n",
    "\n",
    "for ddl in my_ddls:\n",
    "    ddl.deploy_to_target(target_link)\n",
    "\n",
    "for etl in my_etls:\n",
    "    etl.download_files_to(path=Path(\".\"), keep_zip=False)"
   ]
  },
  {
   "cell_type": "markdown",
   "metadata": {},
   "source": [
    "# FMC\n",
    "We can also use the SDK to create all the FMC flows we need to load our Data Vault."
   ]
  },
  {
   "cell_type": "code",
   "execution_count": 64,
   "metadata": {
    "ExecuteTime": {
     "end_time": "2023-09-01T14:12:47.016928500Z",
     "start_time": "2023-09-01T14:12:40.036478500Z"
    }
   },
   "outputs": [
    {
     "name": "stdout",
     "output_type": "stream",
     "text": [
      "[FMC INIT workflow for source moto_sales, FMC INIT workflow for source moto_mktg, FMC INIT workflow for business vault, FMC INCR workflow for source moto_sales, FMC INCR workflow for source moto_mktg, FMC INCR workflow for business vault]\n"
     ]
    }
   ],
   "source": [
    "from datetime import timezone\n",
    "from vaultspeed_sdk.fmc import FlowTypes\n",
    "\n",
    "for load_type in [LoadTypes.INIT, LoadTypes.INCR]:\n",
    "    for source in project.sources:\n",
    "        dv.create_fmc_flow(\n",
    "            name=f\"{source.name}_{load_type.value.lower()}\",\n",
    "            description=f\"{source.name}_{load_type.value.lower()}\",\n",
    "            start_date=datetime.now(timezone.utc).replace(minute=0, hour=0, second=0, microsecond=0),\n",
    "            concurrency=4,\n",
    "            flow_type=FlowTypes.FL,\n",
    "            load_type=load_type,\n",
    "            group_tasks=False,\n",
    "            dv_connection_name=\"dv\",\n",
    "            source=source,\n",
    "            schedule_interval=\"\\\"@hourly\\\"\",\n",
    "            src_connection_name=\"src\"\n",
    "        )\n",
    "\n",
    "    dv.create_fmc_flow(\n",
    "        name=f\"{dv.code}_BV_{load_type.value.lower()}\",\n",
    "        description=f\"{dv.code}_BV_{load_type.value.lower()}\",\n",
    "        start_date=datetime.now(timezone.utc).replace(minute=0, hour=0, second=0, microsecond=0),\n",
    "        concurrency=4,\n",
    "        flow_type=FlowTypes.BV,\n",
    "        load_type=load_type,\n",
    "        group_tasks=False,\n",
    "        dv_connection_name=\"dv\",\n",
    "        schedule_interval=\"timedelta(hours=1)\"\n",
    "    )\n",
    "\n",
    "print(dv.fmc_flows)\n",
    "\n",
    "# Update Flows\n",
    "for flow in dv.fmc_flows:\n",
    "    # change the connection name for all flows\n",
    "    flow.dv_connection_name = dv.code + \"_target\"\n",
    "    if flow.load_type == LoadTypes.INCR:\n",
    "        # increase the concurrency for all incremental loads\n",
    "        flow.concurrency = 8\n",
    "\n",
    "# increase the load frequency of the moto sales incremental load\n",
    "dv.get_fmc_flow(name=\"moto_sales_incr\").schedule_interval = \"timedelta(minutes=30)\""
   ]
  },
  {
   "cell_type": "code",
   "execution_count": 65,
   "metadata": {
    "ExecuteTime": {
     "end_time": "2023-09-01T14:13:57.504787900Z",
     "start_time": "2023-09-01T14:12:47.010929900Z"
    }
   },
   "outputs": [
    {
     "name": "stdout",
     "output_type": "stream",
     "text": [
      "available generations for flow moto_sales_init:\n",
      "ETL generation for EtlGenerationTypes.SNOWFLAKESQL at 2023-09-01T14:07:11Z of DV: moto_sf: v1 and BV: v1\n"
     ]
    },
    {
     "name": "stderr",
     "output_type": "stream",
     "text": [
      "  0%|          | 0/100 [00:10<?, ?it/s]"
     ]
    },
    {
     "name": "stdout",
     "output_type": "stream",
     "text": [
      ".\n"
     ]
    },
    {
     "name": "stderr",
     "output_type": "stream",
     "text": [
      "\n"
     ]
    },
    {
     "name": "stdout",
     "output_type": "stream",
     "text": [
      "available generations for flow moto_mktg_init:\n",
      "ETL generation for EtlGenerationTypes.SNOWFLAKESQL at 2023-09-01T14:08:05Z of DV: moto_sf: v1 and BV: v1\n"
     ]
    },
    {
     "name": "stderr",
     "output_type": "stream",
     "text": [
      "  0%|          | 0/100 [00:00<?, ?it/s]"
     ]
    },
    {
     "name": "stdout",
     "output_type": "stream",
     "text": [
      "."
     ]
    },
    {
     "name": "stderr",
     "output_type": "stream",
     "text": [
      "  0%|          | 0/100 [00:10<?, ?it/s]\n"
     ]
    },
    {
     "name": "stdout",
     "output_type": "stream",
     "text": [
      "available generations for flow moto_BV_init:\n",
      "ETL generation for EtlGenerationTypes.SNOWFLAKESQL at 2023-09-01T14:09:08Z of DV: moto_sf: v1 and BV: v1\n",
      "ETL generation for EtlGenerationTypes.SNOWFLAKESQL at 2023-09-01T14:10:16Z of DV: moto_sf: v2 and BV: init\n"
     ]
    },
    {
     "name": "stderr",
     "output_type": "stream",
     "text": [
      "  0%|          | 0/100 [00:10<?, ?it/s]"
     ]
    },
    {
     "name": "stdout",
     "output_type": "stream",
     "text": [
      ".\n"
     ]
    },
    {
     "name": "stderr",
     "output_type": "stream",
     "text": [
      "\n"
     ]
    },
    {
     "name": "stdout",
     "output_type": "stream",
     "text": [
      "available generations for flow moto_sales_incr:\n",
      "ETL generation for EtlGenerationTypes.SNOWFLAKESQL at 2023-09-01T14:07:11Z of DV: moto_sf: v1 and BV: v1\n"
     ]
    },
    {
     "name": "stderr",
     "output_type": "stream",
     "text": [
      "  0%|          | 0/100 [00:10<?, ?it/s]"
     ]
    },
    {
     "name": "stdout",
     "output_type": "stream",
     "text": [
      ".\n"
     ]
    },
    {
     "name": "stderr",
     "output_type": "stream",
     "text": [
      "\n"
     ]
    },
    {
     "name": "stdout",
     "output_type": "stream",
     "text": [
      "available generations for flow moto_mktg_incr:\n",
      "ETL generation for EtlGenerationTypes.SNOWFLAKESQL at 2023-09-01T14:08:05Z of DV: moto_sf: v1 and BV: v1\n"
     ]
    },
    {
     "name": "stderr",
     "output_type": "stream",
     "text": [
      "  0%|          | 0/100 [00:10<?, ?it/s]"
     ]
    },
    {
     "name": "stdout",
     "output_type": "stream",
     "text": [
      "."
     ]
    },
    {
     "name": "stderr",
     "output_type": "stream",
     "text": [
      "  0%|          | 0/100 [00:10<?, ?it/s]\n"
     ]
    },
    {
     "name": "stdout",
     "output_type": "stream",
     "text": [
      "available generations for flow moto_BV_incr:\n",
      "ETL generation for EtlGenerationTypes.SNOWFLAKESQL at 2023-09-01T14:09:08Z of DV: moto_sf: v1 and BV: v1\n",
      "ETL generation for EtlGenerationTypes.SNOWFLAKESQL at 2023-09-01T14:10:16Z of DV: moto_sf: v2 and BV: init\n"
     ]
    },
    {
     "name": "stderr",
     "output_type": "stream",
     "text": [
      "  0%|          | 0/100 [00:10<?, ?it/s]"
     ]
    },
    {
     "name": "stdout",
     "output_type": "stream",
     "text": [
      ".\n"
     ]
    },
    {
     "name": "stderr",
     "output_type": "stream",
     "text": [
      "\n"
     ]
    },
    {
     "name": "stdout",
     "output_type": "stream",
     "text": [
      "generations of flow moto_sales_init:\n",
      "FMC generation for DV: moto_sf, release: v1\n",
      "generations of flow moto_mktg_init:\n",
      "FMC generation for DV: moto_sf, release: v1\n",
      "generations of flow moto_BV_init:\n",
      "FMC generation for DV: moto_sf, release: v1\n",
      "generations of flow moto_sales_incr:\n",
      "FMC generation for DV: moto_sf, release: v1\n",
      "generations of flow moto_mktg_incr:\n",
      "FMC generation for DV: moto_sf, release: v1\n",
      "generations of flow moto_BV_incr:\n",
      "FMC generation for DV: moto_sf, release: v1\n"
     ]
    }
   ],
   "source": [
    "from vaultspeed_sdk.models.base_generation import Generation\n",
    "from typing import List\n",
    "\n",
    "generations: List[Generation] = []\n",
    "for flow in dv.fmc_flows:\n",
    "    print(f\"available generations for flow {flow.name}:\")\n",
    "    etl_generations = flow.etl_generations\n",
    "    for gen in etl_generations:\n",
    "        print(gen)\n",
    "    # generate FMC code for the first ETL generation (not the second one, which was our delta example)\n",
    "    if etl_generations:\n",
    "        fmc_generation = flow.generate(sorted(etl_generations, key=lambda x: x.generation_time)[0])\n",
    "        generations.append(fmc_generation)\n",
    "    else:\n",
    "        print(\"No valid ETL generations where found for this FMC workflow\")\n",
    "\n",
    "# View  FMC generations\n",
    "for flow in dv.fmc_flows:\n",
    "    print(f\"generations of flow {flow.name}:\")\n",
    "    for gen in flow.generations:\n",
    "        print(gen)\n",
    "\n",
    "# deploy/download FMC code\n",
    "for generation in generations:\n",
    "    generation.download_files_to(path=Path(\".\"), keep_zip=False)"
   ]
  },
  {
   "cell_type": "markdown",
   "source": [
    "# VaultSpeed Studio\n",
    "To show how the Studio part of the SDK works, we are going to start by defining some signatures, and then we are going to create a template for a calculated satellite.\n",
    "\n",
    "We start by creating a new Business Vault release, since the previous one is already locked."
   ],
   "metadata": {
    "collapsed": false
   }
  },
  {
   "cell_type": "code",
   "execution_count": 66,
   "outputs": [
    {
     "name": "stderr",
     "output_type": "stream",
     "text": [
      "  0%|          | 0/100 [00:10<?, ?it/s]"
     ]
    },
    {
     "name": "stdout",
     "output_type": "stream",
     "text": [
      ".\n"
     ]
    },
    {
     "name": "stderr",
     "output_type": "stream",
     "text": [
      "\n"
     ]
    }
   ],
   "source": [
    "bv_release = dv_release.create_business_vault_release(name=\"v2\", comment=\"adding studio templates\")\n"
   ],
   "metadata": {
    "collapsed": false,
    "ExecuteTime": {
     "end_time": "2023-09-01T14:14:08.304613300Z",
     "start_time": "2023-09-01T14:13:57.505803300Z"
    }
   }
  },
  {
   "cell_type": "markdown",
   "source": [
    "## Signatures\n",
    "We will start by defining a new layer/schema in which we can place attributes generated by a template."
   ],
   "metadata": {
    "collapsed": false
   }
  },
  {
   "cell_type": "code",
   "execution_count": 69,
   "outputs": [
    {
     "name": "stdout",
     "output_type": "stream",
     "text": [
      "Signature Layer information_mar\n"
     ]
    }
   ],
   "source": [
    "info_layer = bv_release.create_signature_layer(name=\"information_mar\", order=2)\n",
    "print(info_layer)"
   ],
   "metadata": {
    "collapsed": false,
    "ExecuteTime": {
     "end_time": "2023-09-01T14:16:39.758260400Z",
     "start_time": "2023-09-01T14:16:38.528300400Z"
    }
   }
  },
  {
   "cell_type": "markdown",
   "source": [
    "We can now also update the properties of this layer."
   ],
   "metadata": {
    "collapsed": false
   }
  },
  {
   "cell_type": "code",
   "execution_count": 70,
   "outputs": [
    {
     "name": "stdout",
     "output_type": "stream",
     "text": [
      "[Signature Layer information_mart]\n"
     ]
    }
   ],
   "source": [
    "info_layer.name = \"information_mart\"\n",
    "info_layer.order = 1\n",
    "\n",
    "print(bv_release.signature_layers)"
   ],
   "metadata": {
    "collapsed": false,
    "ExecuteTime": {
     "end_time": "2023-09-01T14:16:39.760230500Z",
     "start_time": "2023-09-01T14:16:38.998361800Z"
    }
   }
  },
  {
   "cell_type": "markdown",
   "source": [
    "Next, we can create a signature object."
   ],
   "metadata": {
    "collapsed": false
   }
  },
  {
   "cell_type": "code",
   "execution_count": 71,
   "outputs": [
    {
     "name": "stdout",
     "output_type": "stream",
     "text": [
      "[Signature Object DIM_LVL1]\n"
     ]
    }
   ],
   "source": [
    "dim_obj = bv_release.create_signature_object(name=\"DIM_LVL1\")\n",
    "print(bv_release.signature_objects)"
   ],
   "metadata": {
    "collapsed": false,
    "ExecuteTime": {
     "end_time": "2023-09-01T14:16:40.506116300Z",
     "start_time": "2023-09-01T14:16:39.691158200Z"
    }
   }
  },
  {
   "cell_type": "markdown",
   "source": [
    "We can now assign this signature to one of our physical objects from the raw and business vault.\n",
    "These are our physical objects:"
   ],
   "metadata": {
    "collapsed": false
   }
  },
  {
   "cell_type": "code",
   "execution_count": 72,
   "outputs": [
    {
     "data": {
      "text/plain": "[Studio Object hub_addresses, Studio Object hub_codes_to_language, Studio Object hub_customers, Studio Object hub_invoice_lines, Studio Object hub_invoices, Studio Object hub_product_feature_cat, Studio Object hub_product_feature_class, Studio Object hub_product_features, Studio Object hub_products, Studio Object hub_product_sensors, Studio Object hub_parts, Studio Object hub_contacts, Studio Object hub_channels, Studio Object hub_campaigns, Studio Object sat_ms_addresses, Studio Object sat_ms_codes_to_language, Studio Object sat_ms_customers_name, Studio Object sat_ms_customers_birth, Studio Object sat_ms_invoice_lines, Studio Object sat_ms_invoices, Studio Object sat_ms_product_feature_cat, Studio Object lnk_productfeatures_productfeaturecat, Studio Object sat_ms_product_feature_class, Studio Object sat_ms_product_features, Studio Object sat_ms_products, Studio Object sat_ms_product_sensors, Studio Object sat_ms_parts, Studio Object sat_mm_addresses, Studio Object sat_mm_customers, Studio Object sat_mm_products, Studio Object sat_mm_contacts, Studio Object sat_mm_e_mails, Studio Object sat_mm_phones, Studio Object sat_mm_channels, Studio Object sat_mm_campaigns, Studio Object lnk_productsensors_products, Studio Object lnk_products_products_replacementproductid, Studio Object lnk_parts_codestolanguage, Studio Object lnk_invoicelines_parts, Studio Object lnk_invoicelines_invoices, Studio Object lnk_invoicelines_products, Studio Object lnk_cust_addresses_invoice, Studio Object lnk_cust_addresses_ship, Studio Object lnk_cust_addresses, Studio Object lnk_cust_cust_parentpartynumber, Studio Object lna_cust_addresses, Studio Object lks_ms_productsensors_products, Studio Object lks_ms_products_products_replacementproductid, Studio Object lks_ms_productfeatures_productfeaturecat, Studio Object lks_ms_parts_codestolanguage, Studio Object lks_ms_invoicelines_parts, Studio Object lks_ms_invoicelines_invoices, Studio Object lks_ms_invoicelines_products, Studio Object lks_ms_cust_addresses_invoice, Studio Object lks_ms_cust_addresses_ship, Studio Object lks_mm_cust_addresses, Studio Object lks_mm_cust_cust_parentpartynumber, Studio Object las_mm_cust_addresses, Studio Object lnd_product_feat_class_rel, Studio Object lnd_customer_addresses, Studio Object lnd_customers_contacts, Studio Object lnd_camp_part_cont, Studio Object lnd_camp_moto_chan_region, Studio Object lnd_camp_moto_channel, Studio Object lnd_campaign_motorcycles, Studio Object lds_ms_product_feat_class_rel, Studio Object lds_ms_customer_addresses, Studio Object lds_mm_customers_contacts, Studio Object lds_mm_camp_part_cont, Studio Object lds_mm_camp_moto_chan_region, Studio Object lds_mm_camp_moto_channel, Studio Object lds_mm_campaign_motorcycles_emo, Studio Object lds_mm_campaign_motorcycles_class, Studio Object nhl_ms_payments, Studio Object sat_moto_products, Studio Object bridge_contact_address, Studio Object pit_daily_load_contacts, Studio Object pit_detailed_transactions_cust_addresses]"
     },
     "execution_count": 72,
     "metadata": {},
     "output_type": "execute_result"
    }
   ],
   "source": [
    "bv_release.objects"
   ],
   "metadata": {
    "collapsed": false,
    "ExecuteTime": {
     "end_time": "2023-09-01T14:16:45.306716700Z",
     "start_time": "2023-09-01T14:16:40.468534800Z"
    }
   }
  },
  {
   "cell_type": "markdown",
   "source": [
    "Let's assign our new signature object to one of the satellites."
   ],
   "metadata": {
    "collapsed": false
   }
  },
  {
   "cell_type": "code",
   "execution_count": 73,
   "outputs": [
    {
     "name": "stdout",
     "output_type": "stream",
     "text": [
      "[Signature Object DIM_LVL1]\n",
      "[]\n",
      "[Signature Object DIM_LVL1]\n"
     ]
    }
   ],
   "source": [
    "products = bv_release.objects[\"sat_ms_products\"]\n",
    "products.add_signature(dim_obj)\n",
    "print(products.signatures)\n",
    "\n",
    "# remove a signature\n",
    "products.remove_signature(dim_obj)\n",
    "print(products.signatures)\n",
    "\n",
    "# add it back, with this method of assigning signatures, multiple can be added at once\n",
    "products.signatures = [dim_obj]\n",
    "print(products.signatures)"
   ],
   "metadata": {
    "collapsed": false,
    "ExecuteTime": {
     "end_time": "2023-09-01T14:16:46.529797200Z",
     "start_time": "2023-09-01T14:16:45.307709Z"
    }
   }
  },
  {
   "cell_type": "markdown",
   "source": [
    "The exact same can be done for the signature attributes as well."
   ],
   "metadata": {
    "collapsed": false
   }
  },
  {
   "cell_type": "code",
   "execution_count": 74,
   "outputs": [
    {
     "name": "stdout",
     "output_type": "stream",
     "text": [
      "[Signature Attribute SRC_DIM_KEY]\n",
      "[Studio Attribute addresses_hkey, Studio Attribute load_date, Studio Attribute load_cycle_id, Studio Attribute addresses_bk]\n"
     ]
    },
    {
     "ename": "IndexError",
     "evalue": "list index out of range",
     "output_type": "error",
     "traceback": [
      "\u001B[1;31m---------------------------------------------------------------------------\u001B[0m",
      "\u001B[1;31mIndexError\u001B[0m                                Traceback (most recent call last)",
      "Cell \u001B[1;32mIn[74], line 10\u001B[0m\n\u001B[0;32m      7\u001B[0m \u001B[38;5;28mprint\u001B[39m(address_attributes)\n\u001B[0;32m      8\u001B[0m addr_hk \u001B[38;5;241m=\u001B[39m address_attributes[\u001B[38;5;124m\"\u001B[39m\u001B[38;5;124maddresses_hkey\u001B[39m\u001B[38;5;124m\"\u001B[39m]\n\u001B[1;32m---> 10\u001B[0m \u001B[43maddr_hk\u001B[49m\u001B[38;5;241;43m.\u001B[39;49m\u001B[43madd_signature\u001B[49m\u001B[43m(\u001B[49m\u001B[43mdim_key\u001B[49m\u001B[43m)\u001B[49m\n\u001B[0;32m     11\u001B[0m \u001B[38;5;28mprint\u001B[39m(addr_hk\u001B[38;5;241m.\u001B[39msignatures)\n\u001B[0;32m     13\u001B[0m addr_hk\u001B[38;5;241m.\u001B[39mremove_signature(dim_key)\n",
      "File \u001B[1;32m~\\Documents\\repos\\vaultspeed-python-sdk\\src\\vaultspeed_sdk\\business_vault\\attributes.py:80\u001B[0m, in \u001B[0;36mStudioAttribute.add_signature\u001B[1;34m(self, signature)\u001B[0m\n\u001B[0;32m     78\u001B[0m \u001B[38;5;28;01mif\u001B[39;00m signature \u001B[38;5;129;01mnot\u001B[39;00m \u001B[38;5;129;01min\u001B[39;00m \u001B[38;5;28mself\u001B[39m\u001B[38;5;241m.\u001B[39m_signatures:\n\u001B[0;32m     79\u001B[0m     \u001B[38;5;28mself\u001B[39m\u001B[38;5;241m.\u001B[39m_signatures\u001B[38;5;241m.\u001B[39mappend(signature)\n\u001B[1;32m---> 80\u001B[0m     \u001B[38;5;28;43mself\u001B[39;49m\u001B[38;5;241;43m.\u001B[39;49m\u001B[43m_update_signatures\u001B[49m\u001B[43m(\u001B[49m\u001B[38;5;28;43mself\u001B[39;49m\u001B[38;5;241;43m.\u001B[39;49m\u001B[43m_signatures\u001B[49m\u001B[43m)\u001B[49m\n",
      "File \u001B[1;32m~\\Documents\\repos\\vaultspeed-python-sdk\\src\\vaultspeed_sdk\\business_vault\\attributes.py:50\u001B[0m, in \u001B[0;36mStudioAttribute._update_signatures\u001B[1;34m(self, signatures)\u001B[0m\n\u001B[0;32m     48\u001B[0m \u001B[38;5;28;01mif\u001B[39;00m \u001B[38;5;129;01mnot\u001B[39;00m \u001B[38;5;28mself\u001B[39m\u001B[38;5;241m.\u001B[39m_dep_identifier:\n\u001B[0;32m     49\u001B[0m     data \u001B[38;5;241m=\u001B[39m \u001B[38;5;28mself\u001B[39m\u001B[38;5;241m.\u001B[39m_client\u001B[38;5;241m.\u001B[39mget_where(url\u001B[38;5;241m=\u001B[39m_ENDPOINT\u001B[38;5;241m.\u001B[39mformat(bv_vs_id\u001B[38;5;241m=\u001B[39m\u001B[38;5;28mself\u001B[39m\u001B[38;5;241m.\u001B[39m_release_id), key\u001B[38;5;241m=\u001B[39m\u001B[38;5;124m\"\u001B[39m\u001B[38;5;124mtab_col_dv_vs_id\u001B[39m\u001B[38;5;124m\"\u001B[39m, value\u001B[38;5;241m=\u001B[39m\u001B[38;5;28mself\u001B[39m\u001B[38;5;241m.\u001B[39m_identifier)\u001B[38;5;241m.\u001B[39mjson()\n\u001B[1;32m---> 50\u001B[0m     \u001B[38;5;28mself\u001B[39m\u001B[38;5;241m.\u001B[39m_dep_identifier \u001B[38;5;241m=\u001B[39m \u001B[43mdata\u001B[49m\u001B[43m[\u001B[49m\u001B[38;5;241;43m0\u001B[39;49m\u001B[43m]\u001B[49m[\u001B[38;5;124m\"\u001B[39m\u001B[38;5;124mvss_signature_attribute_dependency_id\u001B[39m\u001B[38;5;124m\"\u001B[39m]\n",
      "\u001B[1;31mIndexError\u001B[0m: list index out of range"
     ]
    }
   ],
   "source": [
    "# signature\n",
    "dim_key = bv_release.create_signature_attribute(name=\"SRC_DIM_KEY\")\n",
    "print(bv_release.signature_attributes)\n",
    "\n",
    "# physical attributes\n",
    "address_attributes = bv_release.objects[\"hub_addresses\"].attributes\n",
    "print(address_attributes)\n",
    "addr_hk = address_attributes[\"addresses_hkey\"]\n",
    "\n",
    "addr_hk.add_signature(dim_key)\n",
    "print(addr_hk.signatures)\n",
    "\n",
    "addr_hk.remove_signature(dim_key)\n",
    "print(addr_hk.signatures)\n",
    "\n",
    "addr_hk.signatures = [dim_key]\n",
    "print(addr_hk.signatures)\n",
    "\n",
    "# note that the BV objects don't have attributes on which signatures can be defined\n",
    "print(bv_release.objects[\"bridge_contact_address\"].attributes)"
   ],
   "metadata": {
    "collapsed": false,
    "ExecuteTime": {
     "end_time": "2023-09-01T14:16:48.364565600Z",
     "start_time": "2023-09-01T14:16:46.534796600Z"
    }
   }
  },
  {
   "cell_type": "markdown",
   "source": [
    "## Templates\n",
    "Next up, we will create a template which, for each satellite, contains only the active records, indicates how long ago the last change was, the day on which this change happened, and finally we will also add some hashed attributes.\n",
    "\n",
    "First define a new template build on top of our satellites, we will virtualize the result in views that will be called `curr_<sat_name>`."
   ],
   "metadata": {
    "collapsed": false
   }
  },
  {
   "cell_type": "code",
   "execution_count": null,
   "outputs": [],
   "source": [
    "from vaultspeed_sdk.models.metadata.storage_type import StorageTypes\n",
    "from vaultspeed_sdk.models.metadata.object_type import ObjectTypes\n",
    "\n",
    "template = bv_release.create_template(name=\"current_sat\", description=\"views that contain only the currently active records\", prefix=\"CURR\",\n",
    "                                      signature_name=\"CURR\", storage_type=StorageTypes.VIEW, load_type=LoadTypes.ALL, base_type=ObjectTypes.SAT)\n",
    "print(bv_release.templates)"
   ],
   "metadata": {
    "collapsed": false,
    "ExecuteTime": {
     "start_time": "2023-09-01T14:16:48.335000700Z"
    }
   }
  },
  {
   "cell_type": "markdown",
   "source": [
    "Now, we add the template code."
   ],
   "metadata": {
    "collapsed": false
   }
  },
  {
   "cell_type": "code",
   "execution_count": null,
   "outputs": [],
   "source": [
    "template.template_etl = \"\"\"\n",
    "template curr_sat\n",
    "\n",
    "comp_group_start max_ld_group INL_V_GRP\n",
    "componentGroupConditionedBy [(TAB SAT : INSERT_ONLY_LOGIC = Y)]\n",
    "componentgrouprepeatedbycomponent SAT\n",
    "\n",
    "    consists of Aggregated inline_view max_ld\n",
    "    componentrepeatedbycomponent SAT\n",
    "    connectsFrom (SAT_MLD_SRC)\n",
    "\n",
    "        Aggregated Artifact MAX_LOAD_TIMESTAMP\n",
    "            expressedBy MAX(SAT_MLD_SRC.LOAD_TIMESTAMP)\n",
    "            expressionRepeatedByColumn SAT_MLD_SRC.LOAD_TIMESTAMP\n",
    "\n",
    "        Attribute OBJECT_H_KEY\n",
    "            expressedBy SAT_MLD_SRC.OBJECT_H_KEY\n",
    "            expressionRepeatedByColumn SAT_MLD_SRC.OBJECT_H_KEY\n",
    "\n",
    "    consists of source table SAT_MLD_SRC\n",
    "    componentrepeatedbycomponent SAT\n",
    "\n",
    "comp_group_end\n",
    "\n",
    "comp_group_start curr_sat_group INS_GRP\n",
    "componentgrouprepeatedbycomponent CURR\n",
    "\n",
    "    consists of target table curr_sat\n",
    "    componentrepeatedbycomponent CURR\n",
    "    connectsFrom (sat_filter)\n",
    "\n",
    "        Attribute OBJECT_H_KEY\n",
    "            expressedBy sat_src.OBJECT_H_KEY\n",
    "            expressionRepeatedByColumn sat_src.OBJECT_H_KEY\n",
    "\n",
    "        Attribute LOAD_CYCLE_ID\n",
    "            expressedBy sat_src.LOAD_CYCLE_ID\n",
    "            expressionRepeatedByColumn sat_src.LOAD_CYCLE_ID\n",
    "\n",
    "        Attribute LOAD_TIMESTAMP\n",
    "            expressedBy sat_src.LOAD_TIMESTAMP\n",
    "            expressionRepeatedByColumn sat_src.LOAD_TIMESTAMP\n",
    "\n",
    "        Attribute TRANS_TIMESTAMP\n",
    "            expressedBy sat_src.TRANS_TIMESTAMP\n",
    "            expressionRepeatedByColumn sat_src.TRANS_TIMESTAMP\n",
    "\n",
    "        Attribute BUSINESS_SRC_KEY\n",
    "            expressedBy sat_src.BUSINESS_SRC_KEY\n",
    "            expressionRepeatedByColumn sat_src.BUSINESS_SRC_KEY\n",
    "\n",
    "        Attribute PRIMARY_KEY\n",
    "            expressedBy sat_src.PRIMARY_KEY\n",
    "            expressionRepeatedByColumn sat_src.PRIMARY_KEY\n",
    "\n",
    "        Attribute FOREIGN_KEY\n",
    "            expressedBy sat_src.FOREIGN_KEY\n",
    "            expressionRepeatedByColumn sat_src.FOREIGN_KEY\n",
    "\n",
    "        Attribute OTHER_ATTR\n",
    "            expressedBy sat_src.OTHER_ATTR\n",
    "            expressionRepeatedByColumn sat_src.OTHER_ATTR\n",
    "\n",
    "        Attribute TIME_SINCE_CHANGE\n",
    "            expressedBy CURRENT_TIMESTAMP - sat_src.LOAD_TIMESTAMP\n",
    "\n",
    "        Attribute SECRET_BK\n",
    "            expressedBy HASHFUNC[sat_src.SECRET_BK]\n",
    "            expressionRepeatedByColumn sat_src.SECRET_BK\n",
    "\n",
    "        Attribute DAY_OF_CHANGE\n",
    "            expressedBy date_trunc(#day#, sat_src.LOAD_TIMESTAMP)\n",
    "            expressionRepeatedByColumn sat_src.LOAD_TIMESTAMP\n",
    "\n",
    "    consists of source table sat_src\n",
    "    componentrepeatedbycomponent SAT\n",
    "\n",
    "    consists of inner join sat_max_ld_join\n",
    "    componentConditionedBy [(TAB SAT : INSERT_ONLY_LOGIC = Y)]\n",
    "    componentrepeatedbycomponent SAT\n",
    "    connectsFrom (sat_src)\n",
    "    connectsFrom (max_ld)\n",
    "\n",
    "        Artifact GENERAL_EXPRESSION\n",
    "            expressedBy sat_src.OBJECT_H_KEY = max_ld.OBJECT_H_KEY AND sat_src.LOAD_TIMESTAMP = max_ld.MAX_LOAD_TIMESTAMP\n",
    "\n",
    "    consists of joined inline_view max_ld\n",
    "    componentConditionedBy [(TAB SAT : INSERT_ONLY_LOGIC = Y)]\n",
    "    componentrepeatedbycomponent SAT\n",
    "\n",
    "    consists of filter sat_filter\n",
    "    componentrepeatedbycomponent SAT\n",
    "    connectsFrom (sat_max_ld_join)\n",
    "                connectionConditionedBy [(TAB SAT : INSERT_ONLY_LOGIC = Y)]\n",
    "                (sat_src)\n",
    "                connectionConditionedBy [(TAB SAT : INSERT_ONLY_LOGIC = N)]\n",
    "\n",
    "        Artifact GENERAL_EXPRESSION\n",
    "            group_1 expressedBy sat_src.LOAD_END_TIMESTAMP = GTIMECAST[@#CURRENT_RECORD_LOAD_END_DATE#] and\n",
    "            expressionConditionedBy [(TAB SAT : INSERT_ONLY_LOGIC = N)]\n",
    "            expressionRepeatedByColumn sat_src.LOAD_END_TIMESTAMP\n",
    "\n",
    "            group_2 expressedBy sat_src.DELETE_FLAG = GCASTFRMT[@#DELETE_FLAG_NEGATIVE_VALUE#]\n",
    "            expressionRepeatedByColumn sat_src.DELETE_FLAG\n",
    "\n",
    "comp_group_end\n",
    "\"\"\""
   ],
   "metadata": {
    "collapsed": false,
    "ExecuteTime": {
     "start_time": "2023-09-01T14:16:48.335998600Z"
    }
   }
  },
  {
   "cell_type": "markdown",
   "source": [
    "We want to generate these calculated SATs for all satellites of the moto sales source.\n",
    "The template dependencies contains a list of all object of the base type of the template.\n",
    "The linked property of a dependency enables the generation for that object.\n",
    "\n",
    "For each of the objects that we add, we will also print out its dependencies, these are the other objects that are available in the template.\n",
    "Since our template is based on a SAT, this will include just the HUBs."
   ],
   "metadata": {
    "collapsed": false
   }
  },
  {
   "cell_type": "code",
   "execution_count": null,
   "outputs": [],
   "source": [
    "for dep in template.dependencies:\n",
    "    print(dep)\n",
    "    if \"sat_ms\" in dep.name:\n",
    "        dep.linked = True\n",
    "        print(dep.references)"
   ],
   "metadata": {
    "collapsed": false,
    "ExecuteTime": {
     "start_time": "2023-09-01T14:16:48.341524800Z"
    }
   }
  },
  {
   "cell_type": "markdown",
   "source": [
    "The last thing we need to do it to define the attributes of the target object of the template.\n",
    "To see which attributes are available to be used in the template we can look at the following."
   ],
   "metadata": {
    "collapsed": false
   }
  },
  {
   "cell_type": "code",
   "execution_count": null,
   "outputs": [],
   "source": [
    "template.attributes"
   ],
   "metadata": {
    "collapsed": false,
    "ExecuteTime": {
     "start_time": "2023-09-01T14:16:48.344523500Z"
    }
   }
  },
  {
   "cell_type": "markdown",
   "source": [
    "Since our base type is a SAT, we will see all SAT and HUB signature attributes, as well as the user defined signature attributes on those objects.\n",
    "Let's start by adding all the SAT attributes to the target of or template.\n",
    "These are the so called \"existing\" attributes of the template."
   ],
   "metadata": {
    "collapsed": false
   }
  },
  {
   "cell_type": "code",
   "execution_count": null,
   "outputs": [],
   "source": [
    "for attr in template.attributes:\n",
    "    if attr.object_type == ObjectTypes.SAT:\n",
    "        template.create_target_attribute_from_existing(attr)\n",
    "print(template.target_attributes)"
   ],
   "metadata": {
    "collapsed": false,
    "ExecuteTime": {
     "start_time": "2023-09-01T14:16:48.347520900Z"
    }
   }
  },
  {
   "cell_type": "markdown",
   "source": [
    "Because our calculated SAT contains only active records we can remove the end date and the delete flag."
   ],
   "metadata": {
    "collapsed": false
   }
  },
  {
   "cell_type": "code",
   "execution_count": null,
   "outputs": [],
   "source": [
    "from vaultspeed_sdk.business_vault.template_target_attribute import TemplateTargetExistingAttribute\n",
    "\n",
    "attr_to_remove = [attr for attr in template.attributes if attr.object_type == ObjectTypes.SAT and attr.name in (\"LOAD_END_TIMESTAMP\", \"DELETE_FLAG\")]\n",
    "for attr in template.target_attributes:\n",
    "    if isinstance(attr, TemplateTargetExistingAttribute) and attr.attribute_type in attr_to_remove:\n",
    "        template.delete_target_attribute(attr)"
   ],
   "metadata": {
    "collapsed": false,
    "ExecuteTime": {
     "start_time": "2023-09-01T14:16:48.350523500Z"
    }
   }
  },
  {
   "cell_type": "markdown",
   "source": [
    "We can now add a new attribute to the current sat which will store how long ago the last change was\n",
    "In this case we do not need to base it on an existing attribute"
   ],
   "metadata": {
    "collapsed": false
   }
  },
  {
   "cell_type": "code",
   "execution_count": null,
   "outputs": [],
   "source": [
    "template.create_target_attribute_unique(name=\"TIME_SINCE_CHANGE\", data_type=dv_release.data_types[\"INTERVAL\"])"
   ],
   "metadata": {
    "collapsed": false,
    "ExecuteTime": {
     "start_time": "2023-09-01T14:16:48.353523Z"
    }
   }
  },
  {
   "cell_type": "markdown",
   "source": [
    "We can also create a new attribute which contains the load date truncated to the day.\n",
    "In this case we could base the attribute on the load date. Then we do not have to specify the data type, it will use the same type of the load date attribute, unless specified otherwise."
   ],
   "metadata": {
    "collapsed": false
   }
  },
  {
   "cell_type": "code",
   "execution_count": null,
   "outputs": [],
   "source": [
    "template.create_target_attribute_unique(name=\"DAY_OF_CHANGE\", attribute_type=template.get_attribute(\"LOAD_TIMESTAMP\", ObjectTypes.SAT),\n",
    "                                        data_type=dv_release.data_types[\"TIMESTAMP\"])"
   ],
   "metadata": {
    "collapsed": false,
    "ExecuteTime": {
     "start_time": "2023-09-01T14:16:48.356527300Z"
    }
   }
  },
  {
   "cell_type": "markdown",
   "source": [
    "We can also add a new attribute for each business key that we tag as being secret, these attributes will contain hashed business keys."
   ],
   "metadata": {
    "collapsed": false
   }
  },
  {
   "cell_type": "code",
   "execution_count": null,
   "outputs": [],
   "source": [
    "secret_signature = bv_release.create_signature_attribute(name=\"SECRET_BK\")\n",
    "secret_attributes = [bv_release.objects[\"sat_ms_customers_name\"].attributes[\"national_person_id\"],\n",
    "                     bv_release.objects[\"sat_ms_customers_birth\"].attributes[\"national_person_id\"]]\n",
    "for attr in secret_attributes:\n",
    "    attr.add_signature(secret_signature)\n",
    "\n",
    "for attr in template.attributes:\n",
    "    if attr == secret_signature:\n",
    "        # if we don't provide a data type, our new attributes will inherit their data type from the underlying business key\n",
    "        # so, since our attribute will contain a hash in hex format, we need to specify the data type and the data length\n",
    "        template.create_target_attribute_non_unique(attr, prefix=\"secret\", data_type=dv_release.data_types[\"VARCHAR\"], data_length=\"64\")\n",
    "\n",
    "print(template.target_attributes)"
   ],
   "metadata": {
    "collapsed": false,
    "ExecuteTime": {
     "start_time": "2023-09-01T14:16:48.360527400Z"
    }
   }
  },
  {
   "cell_type": "markdown",
   "source": [
    "To verify that our template is working properly we can generate some example code for one of our SATs"
   ],
   "metadata": {
    "collapsed": false
   }
  },
  {
   "cell_type": "code",
   "execution_count": null,
   "outputs": [],
   "source": [
    "example_code, generation = system.generate_template_example(bv_release=bv_release, template=template, base_object=template.dependencies[\"sat_ms_addresses\"],\n",
    "                                                            etl_type=EtlGenerationTypes.POSTGRESQL)\n",
    "print(example_code)"
   ],
   "metadata": {
    "collapsed": false,
    "ExecuteTime": {
     "start_time": "2023-09-01T14:16:48.363620100Z"
    }
   }
  }
 ],
 "metadata": {
  "kernelspec": {
   "display_name": "Python 3 (ipykernel)",
   "language": "python",
   "name": "python3"
  },
  "language_info": {
   "codemirror_mode": {
    "name": "ipython",
    "version": 3
   },
   "file_extension": ".py",
   "mimetype": "text/x-python",
   "name": "python",
   "nbconvert_exporter": "python",
   "pygments_lexer": "ipython3",
   "version": "3.9.7"
  }
 },
 "nbformat": 4,
 "nbformat_minor": 1
}
