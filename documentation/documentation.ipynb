{
 "cells": [
  {
   "cell_type": "markdown",
   "source": [
    "# Installation Guide\n",
    "\n",
    "To install the VaultSpeed SDK python package, download the pip.conf file from https://app.vaultspeed.com/artifacts by clicking the download button next the row for \"vaultspeed-sdk\".\n",
    "When using Windows, rename it to pip.ini. for macOS or Linux, leave file extension as-is.\n",
    "In the file, replace \\<USERNAME\\> and \\<PASSWORD\\> with your VaultSpeed Web App credentials. Make sure to escape the ´@´ symbol in your username, change it to ´%40´. \n",
    "If your password contains special characters, make sure to escape or encode them when needed, it will be part of a basic authentication URL so needs to be URL encoded.\n",
    "\n",
    "If you are using a Python virtual environment, copy the config file to the directory where you have created your virtual Python environment. You can check whether it was picked up correctly by running ´pip config list´, this should return a list containing the same URL as in the config file.\n",
    "After this, you can run ´pip install vaultspeed-sdk´ to install the SDK package. The package can be updated by running ´pip install vaultspeed-sdk --upgrade´.\n",
    "\n",
    "For other tools, search for \"Manage Python package repositories\" (e.g. https://www.jetbrains.com/help/pycharm/installing-uninstalling-and-upgrading-packages.html#custom-repositories). \n",
    "Depending on the tool you might have to enter the URL from the config file in its entirety, or sometimes you can also enter the username and password separately if there is a \"Basic HTTP\" or \"Basic Authentication\" option. \n",
    "In this the URL would look similar to: ´https://app.vaultspeed.com/api/artifacts/pip/vaultspeed-sdk/simple´, and in this case you also do not have to URL encode your username and password.\n",
    "After setting up the Package repository, the package ´vaultspeed-sdk´ should appear in the list of available packages in your tool.\n",
    "\n",
    "# Getting started\n",
    "\n",
    "To use the SDK, we must first authenticate to the VaultSpeed API. This is usually done by providing a username and password.\n"
   ],
   "metadata": {
    "collapsed": false
   }
  },
  {
   "cell_type": "code",
   "execution_count": null,
   "metadata": {},
   "outputs": [],
   "source": [
    "from vaultspeed_sdk.client import UserPasswordAuthentication\n",
    "\n",
    "auth = UserPasswordAuthentication(api_url=\"https://app.vaultspeed.com/api\", username=\"name@company\", password=\"****\")"
   ]
  },
  {
   "cell_type": "markdown",
   "source": [],
   "metadata": {
    "collapsed": false
   }
  },
  {
   "cell_type": "markdown",
   "metadata": {},
   "source": [
    "All interactions with the VaultSpeed API are handled by the Client class. When creating a client, you have to pass authentication. In this case, we will use the one we just created. It is also possible to change the number of retries and the timeout time for the API calls."
   ]
  },
  {
   "cell_type": "code",
   "execution_count": null,
   "metadata": {},
   "outputs": [],
   "source": [
    "from vaultspeed_sdk.client import Client, TaskConfig\n",
    "\n",
    "client = Client(base_url=\"https://app.vaultspeed.com/api\", auth=auth, retries=2, timeout = 120, caller=\"docs\", task_config=TaskConfig(polling_interval=10, timeout=0, queue_timeout=600, show_progress=True))"
   ]
  },
  {
   "cell_type": "markdown",
   "metadata": {},
   "source": [
    "The final part of the setup is the initialization of the System class. The system is the starting point for all interactions with VaultSpeed."
   ]
  },
  {
   "cell_type": "code",
   "execution_count": null,
   "metadata": {},
   "outputs": [],
   "source": [
    "from vaultspeed_sdk.system import System\n",
    "\n",
    "system = System(client=client)\n"
   ]
  },
  {
   "cell_type": "markdown",
   "metadata": {},
   "source": [
    "From the system, you can access the system parameters, the database links, the projects, etc. From the project, you can then access the project parameters, the sources, the data vaults, and so on. The full structure with all the dependencies can be found at the end of this chapter.\n",
    "\n",
    "The system parameters can be viewed as follows:"
   ]
  },
  {
   "cell_type": "code",
   "execution_count": null,
   "metadata": {},
   "outputs": [],
   "source": [
    "sys_param = system.parameters\n",
    "for k, p in sys_param.items():\n",
    "    print(p)\n"
   ]
  },
  {
   "cell_type": "markdown",
   "metadata": {},
   "source": [
    "A parameter can be accessed and updated in multiple ways.\n"
   ]
  },
  {
   "cell_type": "code",
   "execution_count": null,
   "metadata": {},
   "outputs": [],
   "source": [
    "sys_param[\"USE_FMC\"].value = \"Y\"\n",
    "sys_param.DELETE_FLAG_POSITIVE_VALUE.value = \"true\"\n",
    "sys_param.DELETE_FLAG_NEGATIVE_VALUE.value = \"false\""
   ]
  },
  {
   "cell_type": "markdown",
   "metadata": {},
   "source": [
    "The parameters are an instance of a Map. This is a special version of a python dictionary used by the VaultSpeed SDK. The main difference between a Map and a dict are:\n",
    "* Elements can be accessed as attributes as well as with the standard dict methods.This is mainly useful when interacting with these objects from a Notebook or the python debugger since, in those cases, your IDE could provide auto-completion of the keys.\n",
    "* Looping over the map returns the values instead of the keys.\n",
    "\n",
    "When you try to set a parameter to a value that is not supported, an exception will be raised."
   ]
  },
  {
   "cell_type": "code",
   "execution_count": null,
   "metadata": {},
   "outputs": [],
   "source": [
    "from vaultspeed_sdk.exceptions.allowed_values import AllowedValuesException\n",
    "\n",
    "try:\n",
    "    sys_param[\"USE_FMC\"].value = \"true\"\n",
    "except AllowedValuesException as e:\n",
    "    print(e)"
   ]
  },
  {
   "cell_type": "markdown",
   "metadata": {},
   "source": [
    "The SDK contains a set of specific exceptions, which can be found in vaultspeed_sdk.exceptions. Any error caught by the SDK will raise one of these exceptions.\n",
    "\n",
    "To apply the parameter changes, we have to execute the save method."
   ]
  },
  {
   "cell_type": "code",
   "execution_count": null,
   "metadata": {},
   "outputs": [],
   "source": [
    "sys_param.save()"
   ]
  },
  {
   "cell_type": "markdown",
   "metadata": {},
   "source": [
    "From the System, you can also get a list of all the projects, get a specific project by name, create new projects, or delete a project."
   ]
  },
  {
   "cell_type": "code",
   "execution_count": null,
   "metadata": {},
   "outputs": [],
   "source": [
    "moto_project = system.create_project(name=\"moto\", description=\"example project\")\n",
    "dummy_project = system.create_project(name=\"dummy\", description=\"dummy project\")\n",
    "\n",
    "for project in system.projects:\n",
    "    print(project)\n",
    "\n",
    "system.delete_project(dummy_project)\n",
    "\n",
    "system.get_project(name=\"moto\")\n"
   ]
  },
  {
   "cell_type": "markdown",
   "metadata": {},
   "source": [
    "How the get_project method deals with a project that can not be found can be manipulated with the check attribute. If the check is true, an error is raised if the source is not found. Otherwise, None will be returned.\n",
    "This allows for creating a simple create if not exist statement."
   ]
  },
  {
   "cell_type": "code",
   "execution_count": null,
   "metadata": {},
   "outputs": [],
   "source": [
    "print(system.get_project(name=\"dummy\", check=False))\n",
    "try:\n",
    "    system.get_project(name=\"dummy\", check=True)\n",
    "except KeyError as e:\n",
    "    print(e)\n",
    "\n",
    "project = system.get_project(name=\"moto\", check=False) or system.create_project(name=\"moto\", description=\"example project\")\n",
    "project"
   ]
  },
  {
   "cell_type": "markdown",
   "metadata": {},
   "source": [
    "This pattern of the list property and the get, create, and delete methods is used across the SDK.\n",
    "\n",
    "With a project instance, we can then view and update the project's properties."
   ]
  },
  {
   "cell_type": "code",
   "execution_count": null,
   "metadata": {},
   "outputs": [],
   "source": [
    "print(project.name)\n",
    "print(project.description)\n",
    "project.description = \"SDK example project\"\n",
    "print(project.description)"
   ]
  },
  {
   "cell_type": "markdown",
   "metadata": {},
   "source": [
    "From the project, we can access the project parameters, these work in the same way as the system parameters.\n",
    "\n",
    "Similarly to how we could access the projects from the system, we can access the sources and data vaults from the project."
   ]
  },
  {
   "cell_type": "code",
   "execution_count": null,
   "metadata": {},
   "outputs": [],
   "source": [
    "print(project.parameters)\n",
    "project.parameters.STORE_BK_FIELDS_IN_SAT.value = \"Y\"\n",
    "project.parameters.save()"
   ]
  },
  {
   "cell_type": "code",
   "execution_count": null,
   "metadata": {},
   "outputs": [],
   "source": [
    "project.sources"
   ]
  },
  {
   "cell_type": "code",
   "execution_count": null,
   "metadata": {},
   "outputs": [],
   "source": [
    "project.data_vaults"
   ]
  },
  {
   "cell_type": "markdown",
   "metadata": {},
   "source": []
  },
  {
   "cell_type": "markdown",
   "metadata": {},
   "source": [
    "# logging\n",
    "\n",
    "The VaultSpeed SDK uses the standard logging package, so to change the log level add the following lines at the top of your script."
   ]
  },
  {
   "cell_type": "code",
   "execution_count": null,
   "metadata": {},
   "outputs": [],
   "source": [
    "import logging\n",
    "\n",
    "logging.basicConfig(level=logging.INFO)"
   ]
  },
  {
   "cell_type": "markdown",
   "metadata": {},
   "source": [
    "# Source\n",
    "\n",
    "Before creating a source, we first need to create a database link.\n",
    "\n",
    "The Model used in this example can be found on the VaultSpeed GitHub."
   ]
  },
  {
   "cell_type": "code",
   "execution_count": null,
   "metadata": {},
   "outputs": [],
   "source": [
    "from vaultspeed_sdk.database_link import DatabaseLinkTypes\n",
    "from vaultspeed_sdk.models.metadata.database_type import DatabaseTypes\n",
    "\n",
    "source_db_link = (system.get_database_link(\"vs_postgres\", check=False) or\n",
    "                  system.create_database_link(\n",
    "                      name=\"vs_postgres\",\n",
    "                      link_type=DatabaseLinkTypes.AGENT,\n",
    "                      database_type=DatabaseTypes.POSTGRESQL\n",
    "                  ))\n",
    "print(source_db_link)"
   ]
  },
  {
   "cell_type": "markdown",
   "metadata": {},
   "source": [
    "The package vaultspeed_sdk.models.metadata contains a set of classes storing metadata that are used across the SDK, such as the database types. Each of those consists of an enum like DatabaseTypes and a class DatabaseType. The enum is used for inputs, like in the source creation above.\n",
    "While the other class is used internally to retrieve identifiers and other properties from the API.\n",
    "\n",
    "If we want to see if a certain database type can be used without the extended agent, we can retrieve this info as follows."
   ]
  },
  {
   "cell_type": "code",
   "execution_count": null,
   "metadata": {},
   "outputs": [],
   "source": [
    "from vaultspeed_sdk.models.metadata.database_type import (DatabaseType, DatabaseTypes)\n",
    "\n",
    "print(DatabaseType.get(client, DatabaseTypes.SNOWFLAKE).standard_agent)\n",
    "print(DatabaseType.get(client, DatabaseTypes.JDBC).standard_agent)"
   ]
  },
  {
   "cell_type": "markdown",
   "metadata": {},
   "source": [
    "We can now create a new source with this link."
   ]
  },
  {
   "cell_type": "code",
   "execution_count": null,
   "metadata": {},
   "outputs": [],
   "source": [
    "from vaultspeed_sdk.models.metadata.cdc_type import CdcTypes\n",
    "from vaultspeed_sdk.models.metadata.database_type import DatabaseTypes\n",
    "from vaultspeed_sdk.models.metadata.source_type import SourceTypes\n",
    "\n",
    "source = project.get_source(\"moto_sales\", check=False) or \\\n",
    "         project.create_source(\n",
    "             name=\"moto_sales\",\n",
    "             short_name=\"ms\",\n",
    "             bk_name=\"moto_sales\",\n",
    "             record_name=\"moto_sales\",\n",
    "             physical_schema=\"moto_sales\",\n",
    "             cdc_type=CdcTypes.CDC,\n",
    "             database_link=source_db_link,\n",
    "             src_type=SourceTypes.AGENT,\n",
    "             database_type=DatabaseTypes.POSTGRESQL\n",
    "         )\n",
    "print(source)"
   ]
  },
  {
   "cell_type": "markdown",
   "metadata": {},
   "source": [
    "We can also update one of the properties of the source."
   ]
  },
  {
   "cell_type": "code",
   "execution_count": null,
   "metadata": {},
   "outputs": [],
   "source": [
    "source.bk_name = \"sales\""
   ]
  },
  {
   "cell_type": "markdown",
   "metadata": {},
   "source": [
    "Just like the project and system, we can now also change the source parameters."
   ]
  },
  {
   "cell_type": "code",
   "execution_count": null,
   "metadata": {},
   "outputs": [],
   "source": [
    "source.parameters.USE_SOURCE_UK_AS_BK = \"Y\"\n",
    "source.parameters.save()"
   ]
  },
  {
   "cell_type": "markdown",
   "metadata": {},
   "source": [
    "The next step in the source configuration is the harvesting of source objects and selecting the objects we want to use in our release.\n",
    "This will launch an agent task, so make sure that your agent is running and it can take half a minute before it finishes."
   ]
  },
  {
   "cell_type": "code",
   "execution_count": null,
   "metadata": {},
   "outputs": [],
   "source": [
    "source_objects = source.get_source_objects(refresh=True)\n",
    "print(source_objects)"
   ]
  },
  {
   "cell_type": "markdown",
   "metadata": {},
   "source": [
    "The refresh attribute controls whether the object list is harvested through the agent or returns the already harvested objects. Since this is a new source, we should enable refresh.\n",
    "Now that we harvested the objects, we can select the objects we want to use in our release. Note that in the output above, all object have \"enabled: False\", meaning that they are not selected.\n",
    "In our case, we want to select all object, except the ones starting with \"jrn_\"."
   ]
  },
  {
   "cell_type": "code",
   "execution_count": null,
   "metadata": {},
   "outputs": [],
   "source": [
    "# select all objects\n",
    "source.select_source_objects(source_objects, selected=True)\n",
    "\n",
    "# Disable object that start with \"jrn_\", we show 2 methods:\n",
    "\n",
    "# 1. one-by-one -> many API calls\n",
    "for src_obj in source_objects:\n",
    "    if src_obj.name.startswith(\"jrn_\"):\n",
    "        src_obj.disable()\n",
    "\n",
    "# 2. in bulk\n",
    "jrn_source_objects = [src_obj for src_obj in source_objects if src_obj.name.startswith(\"jrn_\")]\n",
    "print(jrn_source_objects)\n",
    "source.select_source_objects(jrn_source_objects, selected=False)\n",
    "print()\n",
    "print(source.get_source_objects())"
   ]
  },
  {
   "cell_type": "markdown",
   "metadata": {},
   "source": [
    "Next, we will configure some exclusions and a pattern removal"
   ]
  },
  {
   "cell_type": "code",
   "execution_count": null,
   "metadata": {},
   "outputs": [],
   "source": [
    "# exclude specific objects\n",
    "source.exclude_object(pattern=\"jrn_%\", reason=\"exclude jrn_ prefixed tables\")\n",
    "\n",
    "print(source.object_exclusions)\n",
    "\n",
    "# exclude attributes\n",
    "source.exclude_attribute(pattern=\"update_user\", reason=\"internal value, not needed in DV\")\n",
    "\n",
    "print(source.attribute_exclusions)\n",
    "\n",
    "# remove object patterns\n",
    "source.remove_name_pattern(pattern=\"moto_\", reason=\"example\")\n",
    "\n",
    "patterns = source.name_removal_patterns\n",
    "\n",
    "print(source.name_removal_patterns)"
   ]
  },
  {
   "cell_type": "markdown",
   "metadata": {},
   "source": [
    "## Source Release\n",
    "\n",
    "We are now ready to create a source release and configure our source model.\n",
    "This will launch an agent task, so give it a minute to run."
   ]
  },
  {
   "cell_type": "code",
   "execution_count": null,
   "metadata": {},
   "outputs": [],
   "source": [
    "from vaultspeed_sdk.source.release import ReleaseParts\n",
    "\n",
    "src_rel = source.create_release(number=1, comment=\"1\", keep=ReleaseParts.ALL, import_src_mtd=True)\n",
    "print(source.releases)"
   ]
  },
  {
   "cell_type": "markdown",
   "metadata": {},
   "source": [
    "To see which objects are in the release, run the following."
   ]
  },
  {
   "cell_type": "code",
   "execution_count": null,
   "metadata": {},
   "outputs": [],
   "source": [
    "print(src_rel.objects)"
   ]
  },
  {
   "cell_type": "markdown",
   "metadata": {},
   "source": [
    "The source objects and their attributes can be retrieved in multiple ways, similar to the parameters.\n",
    "The get_all method allows us to retrieve all objects matching a list of names.\n",
    "Note that the attribute access (dot notation) is only possible if your object/attribute names are valid python identifiers."
   ]
  },
  {
   "cell_type": "code",
   "execution_count": null,
   "metadata": {},
   "outputs": [],
   "source": [
    "print(src_rel.objects[\"addresses\"])\n",
    "print(src_rel.objects.get(\"addresses\"))\n",
    "print(src_rel.objects.addresses)\n",
    "print(src_rel.objects.addresses.attributes.address_number)\n",
    "print(src_rel.objects.addresses.attributes[\"address_number\"])\n",
    "print(src_rel.objects.get_all([\"product_features\", \"product_feature_cat\"]))"
   ]
  },
  {
   "cell_type": "markdown",
   "metadata": {},
   "source": [
    "Next, we can start the configuration of our source model.\n",
    "We will start by doing some mass updates of objects and attributes."
   ]
  },
  {
   "cell_type": "code",
   "execution_count": null,
   "metadata": {},
   "outputs": [],
   "source": [
    "from vaultspeed_sdk.source.release import AttributeProperties\n",
    "\n",
    "# do a mass update to make all attributes matching a pattern to be marked as non-historic\n",
    "src_rel.mass_update_attributes_by_pattern(pattern=\"update_timestamp\", attr_property=AttributeProperties.NON_HISTORIC, value=True)\n",
    "\n",
    "# mass update some properties for a set of objects\n",
    "src_rel.mass_update_objects_multi_active(multi_active=True, objects=src_rel.objects.get_all([\"product_features\", \"product_feature_cat\"]))\n",
    "src_rel.mass_update_objects_cdc(cdc_type=CdcTypes.INCR, objects=src_rel.objects.get_all([\"invoices\"]))"
   ]
  },
  {
   "cell_type": "markdown",
   "metadata": {},
   "source": [
    "Next, lets do some object and attribute configurations."
   ]
  },
  {
   "cell_type": "code",
   "execution_count": null,
   "metadata": {},
   "outputs": [],
   "source": [
    "from vaultspeed_sdk.models.metadata.object_type import SourceObjectTypes\n",
    "\n",
    "addresses = src_rel.objects[\"addresses\"]\n",
    "\n",
    "# update an object parameter\n",
    "addresses.parameters.STORE_BK_FIELDS_IN_SAT = \"Y\"\n",
    "addresses.parameters.save()\n",
    "print(addresses.parameters)\n",
    "\n",
    "print(f\"addresses has CDC type: {addresses.cdc_type.value}\")\n",
    "\n",
    "# set some business keys\n",
    "print(f\"addresses attributes:\")\n",
    "for attr in addresses.attributes:\n",
    "    if attr.name in (\"street_name\", \"street_number\", \"postal_code\", \"city\"):\n",
    "        attr.business_key = True\n",
    "    print(attr)\n",
    "\n",
    "# update the abbreviated name of an attribute\n",
    "parts = src_rel.objects[\"parts\"]\n",
    "parts.attributes[\"part_language_code\"].abbreviated_name = \"part_langua_code\"\n",
    "\n",
    "# change an object type\n",
    "src_rel.objects.payments.object_type = SourceObjectTypes.NHL\n",
    "src_rel.objects.customers.attributes.national_person_id.universal_identifier = True"
   ]
  },
  {
   "cell_type": "markdown",
   "metadata": {},
   "source": [
    "Creating new relationships can be done as follows."
   ]
  },
  {
   "cell_type": "code",
   "execution_count": null,
   "metadata": {},
   "outputs": [],
   "source": [
    "parts = src_rel.objects[\"parts\"]\n",
    "part_attr = parts.attributes\n",
    "print(f\"parts: {part_attr}\")\n",
    "codes_to_language = src_rel.objects[\"codes_to_language\"]\n",
    "ctl_attr = codes_to_language.attributes\n",
    "print(f\"codes_to_language: {ctl_attr}\")\n",
    "# create a relationship with multiple attributes\n",
    "parts.create_relationship(codes_to_language, [(part_attr.part_number, ctl_attr.code), (part_attr.part_language_code, ctl_attr.language_code)])\n",
    "for rel in parts.relationships:\n",
    "    print(rel)\n",
    "    print(rel.attributes)"
   ]
  },
  {
   "cell_type": "markdown",
   "metadata": {},
   "source": [
    "Now let's create some driving key relationships."
   ]
  },
  {
   "cell_type": "code",
   "execution_count": null,
   "metadata": {},
   "outputs": [],
   "source": [
    "pfcr = src_rel.objects[\"product_feat_class_rel\"]\n",
    "pfcr.object_type = SourceObjectTypes.LND\n",
    "print(pfcr)\n",
    "\n",
    "# create a driving key relationship\n",
    "pfcr.create_relationship(src_rel.objects.product_features,\n",
    "                         [(pfcr.attributes.product_feature_id, src_rel.objects.product_features.attributes.product_feature_id)], driving_key=True)\n",
    "# create a normal relationship with a specific name\n",
    "pfcr.create_relationship(src_rel.objects.product_feature_class,\n",
    "                         [(pfcr.attributes.product_feature_class_id, src_rel.objects.product_feature_class.attributes.product_feature_class_id)],\n",
    "                         name=\"relProdFeatClass\")\n",
    "print(pfcr.relationships)\n",
    "\n",
    "# set the relationship on the product_id attribute to be a driving key\n",
    "for rel in pfcr.relationships:\n",
    "    if any([att for att in rel.attributes if att.attribute_name == \"product_id\"]):\n",
    "        rel.driving_key = True\n",
    "        print(rel)"
   ]
  },
  {
   "cell_type": "markdown",
   "metadata": {},
   "source": [
    "Object splitting is not yet available in the SDK."
   ]
  },
  {
   "cell_type": "markdown",
   "metadata": {},
   "source": [
    "We have done all the needed configuration to our source model, so that means that we can now save the source model."
   ]
  },
  {
   "cell_type": "code",
   "execution_count": null,
   "metadata": {},
   "outputs": [],
   "source": [
    "from vaultspeed_sdk.exceptions.release_issue import ReleaseIssue\n",
    "\n",
    "try:\n",
    "    src_rel.save_model()\n",
    "except ReleaseIssue as e:\n",
    "    print(e)"
   ]
  },
  {
   "cell_type": "markdown",
   "metadata": {},
   "source": [
    "It looks like there are still some issue with our model, lets resolve them."
   ]
  },
  {
   "cell_type": "code",
   "execution_count": null,
   "metadata": {},
   "outputs": [],
   "source": [
    "print(f\"faulty objects:\")\n",
    "for obj in src_rel.objects:\n",
    "    if not obj.valid:\n",
    "        print(f\"issue with {obj.name} is {obj.check_result}\")\n",
    "\n",
    "# fixing issues\n",
    "src_rel.objects[\"product_features\"].attributes[\"product_feature_language_code\"].subsequence_attribute = True\n",
    "src_rel.objects[\"product_feature_cat\"].attributes[\"prod_feat_cat_language_code\"].subsequence_attribute = True\n",
    "src_rel.objects[\"payments\"].create_relationship(src_rel.objects.customers,\n",
    "                                                [(src_rel.objects.payments.attributes.customer_number,\n",
    "                                                  src_rel.objects.customers.attributes.customer_number)])\n",
    "src_rel.objects[\"payments\"].create_relationship(src_rel.objects.invoices,\n",
    "                                                [(src_rel.objects.payments.attributes.invoice_number,\n",
    "                                                  src_rel.objects.invoices.attributes.invoice_number)])\n",
    "\n",
    "ca = src_rel.objects[\"cust_addresses\"]\n",
    "ca.object_type = SourceObjectTypes.LND\n",
    "ca.multi_active = True\n",
    "ca.attributes[\"address_type\"].subsequence_attribute = True\n",
    "ca.create_relationship(src_rel.objects.customers, [(ca.attributes.customer_number, src_rel.objects.customers.attributes.customer_number)])\n",
    "ca.create_relationship(src_rel.objects.addresses, [(ca.attributes.address_number, src_rel.objects.addresses.attributes.address_number)])"
   ]
  },
  {
   "cell_type": "code",
   "execution_count": null,
   "metadata": {},
   "outputs": [],
   "source": [
    "print(\"faulty objects:\")\n",
    "for obj in src_rel.objects:\n",
    "    if not obj.valid:\n",
    "        print(f\"issue with {obj.name} is {obj.check_result}\")"
   ]
  },
  {
   "cell_type": "markdown",
   "metadata": {},
   "source": [
    "Now we can actually save our model."
   ]
  },
  {
   "cell_type": "code",
   "execution_count": null,
   "metadata": {},
   "outputs": [],
   "source": [
    "src_rel.save_model()\n",
    "print(f\"saved: {src_rel.saved}, editable: {src_rel.editable}, locked: {src_rel.locked}\")"
   ]
  },
  {
   "cell_type": "markdown",
   "metadata": {},
   "source": [
    "We are now no longer allowed to modify the objects in the release."
   ]
  },
  {
   "cell_type": "code",
   "execution_count": null,
   "metadata": {},
   "outputs": [],
   "source": [
    "from requests import HTTPError\n",
    "from vaultspeed_sdk.exceptions.forbidden_action import ForbiddenActionException\n",
    "\n",
    "try:\n",
    "    src_rel.objects.get(\"parts\").short_name = \"prts\"\n",
    "except HTTPError as e:\n",
    "    print(e)"
   ]
  },
  {
   "cell_type": "markdown",
   "metadata": {},
   "source": [
    "After saving the release, we can set its HUBs to multi or single master and split some satellites."
   ]
  },
  {
   "cell_type": "code",
   "execution_count": null,
   "metadata": {},
   "outputs": [],
   "source": [
    "from vaultspeed_sdk.models.metadata.hub_type import HubTypes\n",
    "\n",
    "print(src_rel.hubs)\n",
    "for hub in src_rel.hubs:\n",
    "    if hub.name in (\n",
    "    \"hub_addresses\", \"hub_invoice_lines\", \"hub_invoices\", \"hub_parts\", \"hub_product_feature_cat\", \"hub_product_feature_class\", \"hub_product_features\",\n",
    "    \"hub_product_sensors\"):\n",
    "        hub.hub_type = HubTypes.SINGLE_MASTER\n"
   ]
  },
  {
   "cell_type": "code",
   "execution_count": null,
   "metadata": {},
   "outputs": [],
   "source": [
    "print(src_rel.sats)\n",
    "s_cust = src_rel.sats[\"sat_ms_customers\"]\n",
    "print(s_cust)\n",
    "print(s_cust.attributes)\n",
    "s_cust.create_split(\"name\", \"type\", [attr for attr in s_cust.attributes if attr.name in (\"first_name\", \"last_name\", \"gender\")])\n",
    "s_cust.create_split(\"birth\", \"type\", [attr for attr in s_cust.attributes if attr.name in (\"birthdate\", \"update_timestamp\")])\n",
    "print(s_cust.splits)\n",
    "# add an extra attribute to an existing split\n",
    "split = s_cust.splits[\"name\"]\n",
    "print(split.attributes)\n",
    "split.attributes = list(split.attributes) + [attr for attr in s_cust.attributes if attr.name == \"update_timestamp\"]\n",
    "print(split.attributes)"
   ]
  },
  {
   "cell_type": "markdown",
   "metadata": {},
   "source": [
    "Now we can Lock the release."
   ]
  },
  {
   "cell_type": "code",
   "execution_count": null,
   "metadata": {},
   "outputs": [],
   "source": [
    "src_rel.lock()\n",
    "print(f\"release locked: {src_rel.locked}\")"
   ]
  },
  {
   "cell_type": "markdown",
   "metadata": {},
   "source": [
    "We are no longer allowed to modify the HUBs and SATs of this release after locking."
   ]
  },
  {
   "cell_type": "code",
   "execution_count": null,
   "metadata": {},
   "outputs": [],
   "source": [
    "try:\n",
    "    src_rel.hubs.get(\"hub_addresses\").hub_type = HubTypes.MULTI_MASTER\n",
    "except ForbiddenActionException as e:\n",
    "    print(e)"
   ]
  },
  {
   "cell_type": "markdown",
   "metadata": {},
   "source": [
    "## Second Source\n",
    "let's quickly configure a second source, so that we can integrate them in a Data Vault."
   ]
  },
  {
   "cell_type": "code",
   "execution_count": null,
   "metadata": {},
   "outputs": [],
   "source": [
    "source = project.get_source(\"moto_mktg\", check=False) or \\\n",
    "         project.create_source(\n",
    "             name=\"moto_mktg\",\n",
    "             short_name=\"mm\",\n",
    "             bk_name=\"moto_mktg\",\n",
    "             record_name=\"moto_mktg\",\n",
    "             physical_schema=\"moto_mktg\",\n",
    "             cdc_type=CdcTypes.CDC,\n",
    "             database_link=source_db_link,\n",
    "             src_type=SourceTypes.AGENT,\n",
    "             database_type=DatabaseTypes.POSTGRESQL\n",
    "         )\n",
    "source.parameters.USE_SOURCE_UK_AS_BK = \"Y\"\n",
    "source.parameters.save()\n",
    "source_objects = source.get_source_objects(refresh=True)\n",
    "source.select_source_objects(source_objects, selected=True)\n",
    "source.exclude_object(pattern=\"jrn_%\", reason=\"exclude jrn_ prefixed tables\")\n",
    "source.exclude_attribute(pattern=\"update_user\", reason=\"internal value, not needed in DV\")\n",
    "\n",
    "src_rel = source.create_release(number=1, comment=\"1\", keep=ReleaseParts.ALL, import_src_mtd=True)\n",
    "src_rel.mass_update_attributes_by_pattern(pattern=\"update_timestamp\", attr_property=AttributeProperties.NON_HISTORIC, value=True)"
   ]
  },
  {
   "cell_type": "code",
   "execution_count": null,
   "metadata": {},
   "outputs": [],
   "source": [
    "camp_part_cont = src_rel.objects[\"camp_part_cont\"]\n",
    "campaigns = src_rel.objects[\"campaigns\"]\n",
    "camp_moto_chan_region = src_rel.objects[\"camp_moto_chan_region\"]\n",
    "camp_moto_channel = src_rel.objects[\"camp_moto_channel\"]\n",
    "\n",
    "camp_part_cont.object_type = SourceObjectTypes.LND\n",
    "camp_part_cont.create_relationship(campaigns, [\n",
    "    (camp_part_cont.attributes.campaign_code, campaigns.attributes.campaign_code),\n",
    "    (camp_part_cont.attributes.campaign_start_date, campaigns.attributes.campaign_start_date)\n",
    "])\n",
    "\n",
    "camp_moto_chan_region.object_type = SourceObjectTypes.LND\n",
    "camp_moto_chan_region.multi_active = True\n",
    "camp_moto_chan_region.attributes[\"region\"].subsequence_attribute = True\n",
    "camp_moto_chan_region.create_relationship(campaigns, [\n",
    "    (camp_moto_chan_region.attributes.campaign_code, campaigns.attributes.campaign_code),\n",
    "    (camp_moto_chan_region.attributes.campaign_start_date, campaigns.attributes.campaign_start_date)\n",
    "])\n",
    "camp_moto_chan_region.create_relationship(src_rel.objects[\"channels\"], [\n",
    "    (camp_moto_chan_region.attributes.channel_id, src_rel.objects[\"channels\"].attributes.channel_id)\n",
    "])\n",
    "camp_moto_chan_region.create_relationship(src_rel.objects[\"motorcycles\"], [\n",
    "    (camp_moto_chan_region.attributes.motorcycle_id, src_rel.objects[\"motorcycles\"].attributes.motorcycle_id)\n",
    "])\n",
    "\n",
    "camp_moto_channel.object_type = SourceObjectTypes.LND\n",
    "camp_moto_channel.multi_active = True\n",
    "camp_moto_channel.parameters.STORE_BK_FIELDS_IN_SAT = \"Y\"\n",
    "camp_moto_channel.attributes[\"from_date\"].subsequence_attribute = True\n",
    "camp_moto_channel.create_relationship(campaigns, [\n",
    "    (camp_moto_channel.attributes.campaign_code, campaigns.attributes.campaign_code),\n",
    "    (camp_moto_channel.attributes.campaign_start_date, campaigns.attributes.campaign_start_date)\n",
    "])\n",
    "camp_moto_channel.create_relationship(src_rel.objects[\"channels\"], [\n",
    "    (camp_moto_channel.attributes.channel_id, src_rel.objects[\"channels\"].attributes.channel_id)\n",
    "])\n",
    "\n",
    "src_rel.objects.e_mails.object_type = SourceObjectTypes.SAT\n",
    "src_rel.objects.phones.object_type = SourceObjectTypes.SAT\n",
    "src_rel.objects.party_contacts.object_type = SourceObjectTypes.LND\n",
    "src_rel.objects.campaign_motorcycles.object_type = SourceObjectTypes.LND\n",
    "\n",
    "src_rel.save_model()"
   ]
  },
  {
   "cell_type": "code",
   "execution_count": null,
   "metadata": {},
   "outputs": [],
   "source": [
    "for hub in src_rel.hubs:\n",
    "    if hub.name in (\"hub_addresses\", \"hub_contacts\", \"hub_campaigns\", \"hub_channels\"):\n",
    "        hub.hub_type = HubTypes.SINGLE_MASTER\n",
    "\n",
    "scm = src_rel.sats[\"lds_mm_campaign_motorcycles\"]\n",
    "scm.create_split(\"class\", \"type\", [attr for attr in scm.attributes if attr.name in (\"motorcycle_class_desc\", \"motorcycle_subclass_desc\", \"update_timestamp\")])\n",
    "scm.create_split(\"emo\", \"type\", [attr for attr in scm.attributes if attr.name in (\"motorcycle_comment\", \"motorcycle_emotion_desc\", \"update_timestamp\")])\n",
    "src_rel.lock()"
   ]
  },
  {
   "cell_type": "markdown",
   "metadata": {},
   "source": [
    "# Data Vault\n",
    "\n",
    "Now that we have a locked source release, we can create our Data Vault."
   ]
  },
  {
   "cell_type": "code",
   "execution_count": null,
   "metadata": {},
   "outputs": [],
   "source": [
    "dv = project.create_data_vault(code=\"moto\", name=\"moto_sf\", database_type=DatabaseTypes.SNOWFLAKE)\n",
    "print(project.data_vaults)"
   ]
  },
  {
   "cell_type": "markdown",
   "metadata": {},
   "source": [
    "Existing data vaults can be retrieved by name or code.\n",
    "Note that the code does not have to be unique, meaning that there can be multiple DVs with the same code, in those cases only the last DV with that code will be returned.\n",
    "To get all of them, filter the project.data_vaults list."
   ]
  },
  {
   "cell_type": "code",
   "execution_count": null,
   "metadata": {},
   "outputs": [],
   "source": [
    "print(project.get_data_vault(name=\"moto_sf\"))\n",
    "print(project.get_data_vault(code=\"moto\"))\n",
    "print([dv for dv in project.data_vaults if dv.code == \"moto\"])"
   ]
  },
  {
   "cell_type": "markdown",
   "metadata": {},
   "source": [
    "Modify some DV parameters next."
   ]
  },
  {
   "cell_type": "code",
   "execution_count": null,
   "metadata": {},
   "outputs": [],
   "source": [
    "dv.parameters.USE_MERGE_STATEMENT = \"Y\"\n",
    "print(dv.parameters)"
   ]
  },
  {
   "cell_type": "markdown",
   "metadata": {},
   "source": [
    "## Data Vault Release\n",
    "Next, we will create a Data Vault Release and start configuring it."
   ]
  },
  {
   "cell_type": "code",
   "execution_count": null,
   "metadata": {},
   "outputs": [],
   "source": [
    "from vaultspeed_sdk.models.util import get_last\n",
    "\n",
    "# get the latest release for all our sources\n",
    "latest_source_releases = []\n",
    "for src in project.sources:\n",
    "    if src.name in (\"moto_sales\", \"moto_mktg\"):\n",
    "        locked_releases = [rel for rel in src.releases if rel.locked]\n",
    "        if locked_releases:\n",
    "            # we can use here the utility function \"get_last\" which will retrieve the element from \n",
    "            # the list with the largest value for its \"date\" attribute\n",
    "            latest_source_releases.append(get_last(locked_releases))\n",
    "\n",
    "print(latest_source_releases)\n",
    "# create a new Data Vault Release\n",
    "dv_release = dv.create_release(source_releases=latest_source_releases, name=\"v1\", number=1, comment=\"first release\")\n",
    "\n",
    "print(dv.releases)"
   ]
  },
  {
   "cell_type": "markdown",
   "metadata": {},
   "source": [
    "First, we will take a look at all the hubs in our Data Vault, and the groups that are automatically created by VaultSpeed."
   ]
  },
  {
   "cell_type": "code",
   "execution_count": null,
   "metadata": {},
   "outputs": [],
   "source": [
    "grouped_hubs = dv_release.grouped_hubs\n",
    "ungrouped_hubs = dv_release.ungrouped_hubs\n",
    "print(grouped_hubs)\n",
    "print(ungrouped_hubs)\n",
    "print(grouped_hubs[\"hub_addresses\"].elements)"
   ]
  },
  {
   "cell_type": "markdown",
   "metadata": {},
   "source": [
    "We can now create a new hub group and configure it."
   ]
  },
  {
   "cell_type": "code",
   "execution_count": null,
   "metadata": {},
   "outputs": [],
   "source": [
    "logging.basicConfig(level=logging.DEBUG)\n",
    "cust = dv_release.create_hub_group(abbreviated_name=\"customers\", short_name=\"customers\", hubs=[ungrouped_hubs.hub_customers, ungrouped_hubs.hub_party])\n",
    "print(cust)\n",
    "print(cust.elements)\n",
    "\n",
    "# change the short name\n",
    "cust.short_name = \"cust\"\n",
    "# enable business key concatenation\n",
    "addr = dv_release.grouped_hubs[\"hub_addresses\"]\n",
    "print(addr.is_concat_necessary)\n",
    "addr.business_key_concat = True"
   ]
  },
  {
   "cell_type": "markdown",
   "metadata": {},
   "source": [
    "We can also create empty groups, these can later be filled in when we add more sources."
   ]
  },
  {
   "cell_type": "code",
   "execution_count": null,
   "metadata": {},
   "outputs": [],
   "source": [
    "dv_release.create_hub_group(\"employees\", \"employees\", [])"
   ]
  },
  {
   "cell_type": "markdown",
   "metadata": {},
   "source": [
    "We can also add hubs to a group, or move hubs between groups."
   ]
  },
  {
   "cell_type": "code",
   "execution_count": null,
   "metadata": {},
   "outputs": [],
   "source": [
    "products = dv_release.create_hub_group(abbreviated_name=\"products\", short_name=\"products\", hubs=[ungrouped_hubs.hub_products])\n",
    "\n",
    "cust.add_hub_element(ungrouped_hubs.hub_motorcycles)\n",
    "print(cust.elements)\n",
    "\n",
    "hub_motorcycles = [he for he in cust.elements if he.name == \"hub_motorcycles\"][0]\n",
    "cust.transfer_hub_element(hub_motorcycles, products)\n",
    "print(cust.elements)\n",
    "print(products.elements)"
   ]
  },
  {
   "cell_type": "markdown",
   "metadata": {},
   "source": [
    "Finally, we can set one of the sources for addresses to be a slave source."
   ]
  },
  {
   "cell_type": "code",
   "execution_count": null,
   "metadata": {},
   "outputs": [],
   "source": [
    "addr = grouped_hubs[\"hub_addresses\"]\n",
    "print(addr.elements)\n",
    "mktg_addr = [he for he in addr.elements if he.source_name == \"moto_mktg\"][0]\n",
    "print(mktg_addr.possible_master_slave_settings)\n",
    "\n",
    "mktg_addr.set_master_slave(mktg_addr.possible_master_slave_settings[\"Slave of hub_addresses from source moto_sales\"])\n",
    "\n",
    "# alternatively, it can also be done based on a specific source object\n",
    "moto_sales = project.get_source(\"moto_sales\")\n",
    "for src in mktg_addr.possible_master_slave_settings:\n",
    "    if src == moto_sales:\n",
    "        mktg_addr.set_master_slave(src)"
   ]
  },
  {
   "cell_type": "markdown",
   "metadata": {},
   "source": [
    "Besides hubs, we also have Links and SATs which we can manipulate."
   ]
  },
  {
   "cell_type": "code",
   "execution_count": null,
   "metadata": {},
   "outputs": [],
   "source": [
    "print(dv_release.links)\n",
    "dv_release.links[\"lnk_cust_addresses_customerinvoiceaddressid\"].short_name = \"invoice\"\n",
    "dv_release.links[\"lnk_cust_addresses_customershiptoaddressid\"].short_name = \"ship\"\n",
    "print(dv_release.many_to_many_links)\n",
    "party_contacts = dv_release.many_to_many_links[\"lnd_party_contacts\"]\n",
    "party_contacts.abbreviated_name = \"customers_contacts\"\n",
    "party_contacts.short_name = \"cust_cont\"\n",
    "dv_release.many_to_many_links[\"lnd_cust_addresses\"].abbreviated_name = \"customer_addresses\"\n",
    "print(dv_release.non_historical_links)"
   ]
  },
  {
   "cell_type": "markdown",
   "metadata": {},
   "source": [
    "The last part of our DV which we can modify is the data types, their mappings and the exception values."
   ]
  },
  {
   "cell_type": "code",
   "execution_count": null,
   "metadata": {},
   "outputs": [],
   "source": [
    "from vaultspeed_sdk.models.metadata.data_type_subgroup import DataTypeSubgroups\n",
    "\n",
    "print(dv_release.data_types)\n",
    "# create a new data type\n",
    "if \"gps\" not in dv_release.data_types:\n",
    "    gps = dv_release.create_data_type(name=\"gps\", datatype_subgroup=DataTypeSubgroups.STRING, null_value=\"(0, 0, 0)\", unknown_value=\"(-1, -1, -1)\")\n",
    "else:\n",
    "    gps = dv_release.data_types[\"gps\"]\n",
    "print(gps)\n",
    "\n",
    "# update a data type\n",
    "dv_release.data_types[\"NUMBER\"].max_data_length = 32\n",
    "\n",
    "# update the data type mappings\n",
    "print(dv_release.data_type_mappings)\n",
    "dv_release.data_type_mappings[\"TIMESTAMP\"].data_type_target = dv_release.data_types[\"TIMESTAMP_TZ\"]\n",
    "dv_release.data_type_mappings[\"BPCHAR\"].data_length_target = \"2*x\"\n",
    "\n",
    "# update the special values\n",
    "special_values = dv_release.special_values\n",
    "print(special_values)\n",
    "special_values[\"VARCHAR\"].null_value = \"~NL~\"\n",
    "special_values[\"VARCHAR\"].unknown_value = \"~UN~\"\n",
    "special_values[\"DATE\"].null_value = \"31/12/2499\"\n",
    "special_values[\"DATE\"].unknown_value = \"31/12/2599\""
   ]
  },
  {
   "cell_type": "markdown",
   "metadata": {},
   "source": [
    "Now that our DV has been configured, we can lock it."
   ]
  },
  {
   "cell_type": "code",
   "execution_count": null,
   "metadata": {},
   "outputs": [],
   "source": [
    "dv_release.lock()"
   ]
  },
  {
   "cell_type": "markdown",
   "metadata": {},
   "source": [
    "After locking, we can take a look at the completed DV structure (objects only for now)."
   ]
  },
  {
   "cell_type": "code",
   "execution_count": null,
   "metadata": {},
   "outputs": [],
   "source": [
    "dv_objects = dv_release.objects\n",
    "print(dv_objects)"
   ]
  },
  {
   "cell_type": "markdown",
   "metadata": {},
   "source": [
    "# Business Vault\n",
    "After completing the Data Vault, we can now start on defining the Business Vault.\n",
    "First we create a new release."
   ]
  },
  {
   "cell_type": "code",
   "execution_count": null,
   "metadata": {},
   "outputs": [],
   "source": [
    "bv_release = dv_release.create_business_vault_release(name=\"v1\", comment=\"first release\")"
   ]
  },
  {
   "cell_type": "markdown",
   "metadata": {},
   "source": [
    "Let's start by setting our business views."
   ]
  },
  {
   "cell_type": "code",
   "execution_count": null,
   "metadata": {},
   "outputs": [],
   "source": [
    "business_views = bv_release.business_views\n",
    "print(business_views)\n",
    "\n",
    "# Change the business name and generate option for a Business View\n",
    "business_views[\"sat_mm_products\"].business_name = \"sat_moto_products\"\n",
    "business_views[\"lks_ms_invoicelines_parts\"].generate = False\n",
    "\n",
    "print(business_views.sat_mm_products.business_name)\n",
    "print(business_views.lks_ms_invoicelines_parts.generate)\n",
    "\n",
    "# Get the attributes of a Business View and print them out\n",
    "business_view_attributes = business_views[\"sat_mm_products\"].attributes\n",
    "print(business_view_attributes)\n",
    "\n",
    "# Change the business name and generate option for a Business View Attribute\n",
    "business_view_attributes[\"motorcycle_name\"].business_name = \"motorcycle_display_name\"\n",
    "business_view_attributes[\"update_timestamp\"].generate = False\n",
    "\n",
    "print(business_view_attributes[\"motorcycle_name\"].business_name)\n",
    "print(business_view_attributes[\"update_timestamp\"].generate)"
   ]
  },
  {
   "cell_type": "markdown",
   "metadata": {},
   "source": [
    "Next, we can create some PITs"
   ]
  },
  {
   "cell_type": "code",
   "execution_count": null,
   "metadata": {},
   "outputs": [],
   "source": [
    "\n",
    "from vaultspeed_sdk.business_vault.pit import FrequencyType, PitType, TimestampColumnTypes\n",
    "\n",
    "snap_pit = bv_release.create_pit(\n",
    "    name=\"daily_load\",\n",
    "    snapshot_frequency=1,\n",
    "    frequency_type=FrequencyType.DAY,\n",
    "    pit_type=PitType.SNAPSHOT,\n",
    "    timestamp_type=TimestampColumnTypes.LOAD_TIMESTAMP,\n",
    "    tables=[dv_objects.hub_contacts]\n",
    ")\n",
    "print(snap_pit)\n",
    "\n",
    "det_pit = bv_release.create_pit(\n",
    "    name=\"detailed_transactions\",\n",
    "    pit_type=PitType.DETAIL,\n",
    "    timestamp_type=TimestampColumnTypes.TRANS_TIMESTAMP,\n",
    "    tables=[dv_objects.lnd_campaign_motorcycles]\n",
    ")\n",
    "\n",
    "# Add and remove an extra DV object to an existing PIT template\n",
    "det_pit.add_dv_object(dv_objects.lnk_cust_addresses)\n",
    "det_pit.remove_dv_object(dv_objects.lnd_campaign_motorcycles)\n",
    "\n",
    "print(bv_release.pits)"
   ]
  },
  {
   "cell_type": "markdown",
   "metadata": {},
   "source": [
    "The DV objects have a function which allows you to look at which hubs are connected to each hub, and via which links. This can then be used to build up the bridges."
   ]
  },
  {
   "cell_type": "code",
   "execution_count": null,
   "metadata": {},
   "outputs": [],
   "source": [
    "neighbours = dv_objects[\"hub_contacts\"].get_adjacent_objects()\n",
    "for neighbour in neighbours:\n",
    "    print(f\"hub: {neighbour[1]} via link: {neighbour[0]}\")"
   ]
  },
  {
   "cell_type": "markdown",
   "metadata": {},
   "source": [
    "Bridges can then be created as follows."
   ]
  },
  {
   "cell_type": "code",
   "execution_count": null,
   "metadata": {},
   "outputs": [],
   "source": [
    "bridge_path = [dv_objects.hub_contacts, dv_objects.lnd_customers_contacts, dv_objects.hub_customers]\n",
    "new_bridge = bv_release.create_bridge(name=\"contact_address\", objects=bridge_path, objects_with_bks=[dv_objects[\"hub_customers\"]],\n",
    "                                      create_bridge_hk=True)\n",
    "print(new_bridge.elements)\n",
    "# complete the bridge by adding extra HUBs\n",
    "new_path = new_bridge.elements + [dv_objects.lnk_cust_addresses, dv_objects.hub_addresses]\n",
    "new_bridge.set_elements(objects=new_path, objects_with_bks=[be for be in new_bridge.elements if be.include_bk])\n",
    "\n",
    "# remove the bridge hash key\n",
    "new_bridge.create_bridge_hk = False\n",
    "\n",
    "print(bv_release.bridges)"
   ]
  },
  {
   "cell_type": "markdown",
   "metadata": {},
   "source": [
    "Finally, we will lock the business vault"
   ]
  },
  {
   "cell_type": "code",
   "execution_count": null,
   "metadata": {},
   "outputs": [],
   "source": [
    "bv_release.lock()\n",
    "print(bv_release.locked)"
   ]
  },
  {
   "cell_type": "markdown",
   "metadata": {},
   "source": [
    "# Generation\n",
    "Now that our business vault has been completed, we can generate code.\n",
    "A full generation can be done as follows."
   ]
  },
  {
   "cell_type": "code",
   "execution_count": null,
   "metadata": {},
   "outputs": [],
   "source": [
    "\n",
    "from vaultspeed_sdk.models.metadata.load_type import LoadTypes\n",
    "from vaultspeed_sdk.models.metadata.etl_generation_type import EtlGenerationTypes\n",
    "\n",
    "my_ddls = system.generate_ddl(\n",
    "    bv_release=bv_release,\n",
    "    etl_generation_type=EtlGenerationTypes.SNOWFLAKESQL,\n",
    "    load_type=LoadTypes.ALL\n",
    ")\n",
    "\n",
    "print(my_ddls)\n",
    "\n",
    "my_etls = system.generate_etl(\n",
    "    bv_release=bv_release,\n",
    "    etl_generation_type=EtlGenerationTypes.SNOWFLAKESQL,\n",
    "    load_type=LoadTypes.ALL\n",
    ")\n",
    "\n",
    "print(my_etls)"
   ]
  },
  {
   "cell_type": "markdown",
   "metadata": {},
   "source": [
    "Creating a delta generation is done in a similar method."
   ]
  },
  {
   "cell_type": "code",
   "execution_count": null,
   "metadata": {},
   "outputs": [],
   "source": [
    "from datetime import datetime\n",
    "\n",
    "old_bv_release = bv_release\n",
    "\n",
    "# set our DV release to a prod release\n",
    "dv_release.upgrade_to_production(datetime.now())\n",
    "\n",
    "# create a new DV release and make a change to a parameter\n",
    "new_dv_release = dv.create_release(latest_source_releases, number=2, name=\"v2\", comment=\"second release\")\n",
    "dv.parameters.ADD_RECORD_SOURCE_ATTRIBUTE = True\n",
    "new_dv_release.lock()\n",
    "new_bv_release = new_dv_release.business_vault_releases[0]\n",
    "\n",
    "my_deltas = system.generate_delta(\n",
    "    old_bv_release=old_bv_release,\n",
    "    new_bv_release=new_bv_release,\n",
    "    etl_generation_type=EtlGenerationTypes.SNOWFLAKESQL\n",
    ")\n",
    "\n",
    "print(my_deltas)"
   ]
  },
  {
   "cell_type": "markdown",
   "metadata": {},
   "source": [
    "To deploy the generated code, we have multiple options, we can create a db link and deploy the code through that.\n",
    "It's also possible to just download the code and store it locally. This processes the file names similar to the GIT deploy, meaning that it removes the generation ids and the timestamps from the file names, as well as putting it in the correct sub-folders.\n",
    "The other options of a git deploy or a deployment with a custom script are also available."
   ]
  },
  {
   "cell_type": "code",
   "execution_count": null,
   "metadata": {},
   "outputs": [],
   "source": [
    "from pathlib import Path\n",
    "\n",
    "target_link = system.get_database_link(name=\"sf\", check=False) or system.create_database_link(name=\"sf\", link_type=DatabaseLinkTypes.AGENT, database_type=DatabaseTypes.SNOWFLAKE)\n",
    "\n",
    "for ddl in my_ddls:\n",
    "    ddl.deploy_to_target(target_link)\n",
    "\n",
    "for etl in my_etls:\n",
    "    etl.download_files_to(path=Path(\".\"), keep_zip=False)"
   ]
  },
  {
   "cell_type": "markdown",
   "metadata": {},
   "source": [
    "# FMC\n",
    "We can also use the SDK to create all the FMC flows we need to load our Data Vault."
   ]
  },
  {
   "cell_type": "code",
   "execution_count": null,
   "metadata": {},
   "outputs": [],
   "source": [
    "from datetime import timezone\n",
    "from vaultspeed_sdk.fmc import FlowTypes\n",
    "\n",
    "for load_type in [LoadTypes.INIT, LoadTypes.INCR]:\n",
    "    for source in project.sources:\n",
    "        dv.create_fmc_flow(\n",
    "            name=f\"{source.name}_{load_type.value.lower()}\",\n",
    "            description=f\"{source.name}_{load_type.value.lower()}\",\n",
    "            start_date=datetime.now(timezone.utc).replace(minute=0, hour=0, second=0, microsecond=0),\n",
    "            concurrency=4,\n",
    "            flow_type=FlowTypes.FL,\n",
    "            load_type=load_type,\n",
    "            group_tasks=False,\n",
    "            dv_connection_name=\"dv\",\n",
    "            source=source,\n",
    "            schedule_interval=\"\\\"@hourly\\\"\",\n",
    "            src_connection_name=\"src\"\n",
    "        )\n",
    "\n",
    "    dv.create_fmc_flow(\n",
    "        name=f\"{dv.code}_BV_{load_type.value.lower()}\",\n",
    "        description=f\"{dv.code}_BV_{load_type.value.lower()}\",\n",
    "        start_date=datetime.now(timezone.utc).replace(minute=0, hour=0, second=0, microsecond=0),\n",
    "        concurrency=4,\n",
    "        flow_type=FlowTypes.BV,\n",
    "        load_type=load_type,\n",
    "        group_tasks=False,\n",
    "        dv_connection_name=\"dv\",\n",
    "        schedule_interval=\"timedelta(hours=1)\"\n",
    "    )\n",
    "\n",
    "print(dv.fmc_flows)\n",
    "\n",
    "# Update Flows\n",
    "for flow in dv.fmc_flows:\n",
    "    # change the connection name for all flows\n",
    "    flow.dv_connection_name = dv.code + \"_target\"\n",
    "    if flow.load_type == LoadTypes.INCR:\n",
    "        # increase the concurrency for all incremental loads\n",
    "        flow.concurrency = 8\n",
    "\n",
    "# increase the load frequency of the moto sales incremental load\n",
    "dv.get_fmc_flow(name=\"moto_sales_incr\").schedule_interval = \"timedelta(minutes=30)\""
   ]
  },
  {
   "cell_type": "code",
   "execution_count": null,
   "metadata": {},
   "outputs": [],
   "source": [
    "from vaultspeed_sdk.models.base_generation import Generation\n",
    "from typing import List\n",
    "\n",
    "generations: List[Generation] = []\n",
    "for flow in dv.fmc_flows:\n",
    "    print(f\"available generations for flow {flow.name}:\")\n",
    "    etl_generations = flow.etl_generations\n",
    "    for gen in etl_generations:\n",
    "        print(gen)\n",
    "    # generate FMC code for the first ETL generation (not the second one, which was our delta example)\n",
    "    if etl_generations:\n",
    "        fmc_generation = flow.generate(get_last(etl_generations))\n",
    "        generations.append(fmc_generation)\n",
    "    else:\n",
    "        print(\"No valid ETL generations where found for this FMC workflow\")\n",
    "\n",
    "# View  FMC generations\n",
    "for flow in dv.fmc_flows:\n",
    "    print(f\"generations of flow {flow.name}:\")\n",
    "    for gen in flow.generations:\n",
    "        print(gen)\n",
    "\n",
    "# deploy/download FMC code\n",
    "for generation in generations:\n",
    "    generation.download_files_to(path=Path(\".\"), keep_zip=False)"
   ]
  },
  {
   "cell_type": "markdown",
   "source": [
    "# VaultSpeed Studio\n",
    "To show how the Studio part of the SDK works, we are going to start by defining some signatures, and then we are going to create a template for a calculated satellite.\n",
    "\n",
    "We start by creating a new Business Vault release, since the previous one is already locked."
   ],
   "metadata": {
    "collapsed": false
   }
  },
  {
   "cell_type": "code",
   "execution_count": null,
   "outputs": [],
   "source": [
    "bv_release = dv_release.create_business_vault_release(name=\"v2\", comment=\"adding studio templates\")\n"
   ],
   "metadata": {
    "collapsed": false
   }
  },
  {
   "cell_type": "markdown",
   "source": [
    "## Signatures\n",
    "We will start by defining a new layer/schema in which we can place attributes generated by a template."
   ],
   "metadata": {
    "collapsed": false
   }
  },
  {
   "cell_type": "code",
   "execution_count": null,
   "outputs": [],
   "source": [
    "info_layer = bv_release.create_signature_layer(name=\"information_mar\", order=2)\n",
    "print(info_layer)"
   ],
   "metadata": {
    "collapsed": false
   }
  },
  {
   "cell_type": "markdown",
   "source": [
    "We have made a type, so we will now update the properties of this layer to fix this."
   ],
   "metadata": {
    "collapsed": false
   }
  },
  {
   "cell_type": "code",
   "execution_count": null,
   "outputs": [],
   "source": [
    "info_layer.name = \"information_mart\"\n",
    "info_layer.order = 1\n",
    "\n",
    "print(bv_release.signature_layers)"
   ],
   "metadata": {
    "collapsed": false
   }
  },
  {
   "cell_type": "markdown",
   "source": [
    "Next, we can create a signature object."
   ],
   "metadata": {
    "collapsed": false
   }
  },
  {
   "cell_type": "code",
   "execution_count": null,
   "outputs": [],
   "source": [
    "dim_obj = bv_release.create_signature_object(name=\"DIM_LVL1\")\n",
    "print(bv_release.signature_objects)"
   ],
   "metadata": {
    "collapsed": false
   }
  },
  {
   "cell_type": "markdown",
   "source": [
    "We can now assign this signature to one of our physical objects from the raw and business vault.\n",
    "These are our physical objects:"
   ],
   "metadata": {
    "collapsed": false
   }
  },
  {
   "cell_type": "code",
   "execution_count": null,
   "outputs": [],
   "source": [
    "bv_release.objects"
   ],
   "metadata": {
    "collapsed": false
   }
  },
  {
   "cell_type": "markdown",
   "source": [
    "Let's assign our new signature object to one of the satellites."
   ],
   "metadata": {
    "collapsed": false
   }
  },
  {
   "cell_type": "code",
   "execution_count": null,
   "outputs": [],
   "source": [
    "products = bv_release.objects[\"sat_ms_products\"]\n",
    "products.add_signature(dim_obj)\n",
    "print(products.signatures)\n",
    "\n",
    "# remove a signature\n",
    "products.remove_signature(dim_obj)\n",
    "print(products.signatures)\n",
    "\n",
    "# add it back, with this method of assigning signatures, multiple can be added at once\n",
    "products.signatures = [dim_obj]\n",
    "print(products.signatures)"
   ],
   "metadata": {
    "collapsed": false
   }
  },
  {
   "cell_type": "markdown",
   "source": [
    "The exact same can be done for the signature attributes as well."
   ],
   "metadata": {
    "collapsed": false
   }
  },
  {
   "cell_type": "code",
   "execution_count": null,
   "outputs": [],
   "source": [
    "# signature\n",
    "dim_key = bv_release.create_signature_attribute(name=\"SRC_DIM_KEY\")\n",
    "print(bv_release.signature_attributes)\n",
    "\n",
    "# physical attributes\n",
    "address_attributes = bv_release.objects[\"hub_addresses\"].attributes\n",
    "print(address_attributes)\n",
    "addr_hk = address_attributes[\"addresses_hkey\"]\n",
    "\n",
    "addr_hk.add_signature(dim_key)\n",
    "print(addr_hk.signatures)\n",
    "\n",
    "addr_hk.remove_signature(dim_key)\n",
    "print(addr_hk.signatures)\n",
    "\n",
    "addr_hk.signatures = [dim_key]\n",
    "print(addr_hk.signatures)\n",
    "\n",
    "# note that the BV objects don't have attributes on which signatures can be defined\n",
    "print(\"bridge_contact_address\" in bv_release.objects)"
   ],
   "metadata": {
    "collapsed": false
   }
  },
  {
   "cell_type": "markdown",
   "source": [
    "## Templates\n",
    "Next up, we will create a template which, for each satellite, contains only the active records, indicates how long ago the last change was, the day on which this change happened, and finally we will also add some hashed attributes.\n",
    "\n",
    "First define a new template build on top of our satellites, we will virtualize the result in views that will be called `curr_<sat_name>`."
   ],
   "metadata": {
    "collapsed": false
   }
  },
  {
   "cell_type": "code",
   "execution_count": null,
   "outputs": [],
   "source": [
    "from vaultspeed_sdk.models.metadata.storage_type import StorageTypes\n",
    "from vaultspeed_sdk.models.metadata.object_type import ObjectTypes\n",
    "\n",
    "template = bv_release.create_template(name=\"current_sat\", description=\"views that contain only the currently active records\", prefix=\"CURR\",\n",
    "                                      signature_name=\"CURR\", storage_type=StorageTypes.VIEW, load_type=LoadTypes.ALL, base_type=ObjectTypes.SAT)\n",
    "print(bv_release.templates)"
   ],
   "metadata": {
    "collapsed": false
   }
  },
  {
   "cell_type": "markdown",
   "source": [
    "Now, we add the template code."
   ],
   "metadata": {
    "collapsed": false
   }
  },
  {
   "cell_type": "code",
   "execution_count": null,
   "outputs": [],
   "source": [
    "template.template_etl = \"\"\"\n",
    "template curr_sat\n",
    "\n",
    "comp_group_start max_ld_group INL_V_GRP\n",
    "componentGroupConditionedBy [(TAB SAT : INSERT_ONLY_LOGIC = Y)]\n",
    "componentgrouprepeatedbycomponent SAT\n",
    "\n",
    "    consists of Aggregated inline_view max_ld\n",
    "    componentrepeatedbycomponent SAT\n",
    "    connectsFrom (SAT_MLD_SRC)\n",
    "\n",
    "        Aggregated Artifact MAX_LOAD_TIMESTAMP\n",
    "            expressedBy MAX(SAT_MLD_SRC.LOAD_TIMESTAMP)\n",
    "            expressionRepeatedByColumn SAT_MLD_SRC.LOAD_TIMESTAMP\n",
    "\n",
    "        Attribute OBJECT_H_KEY\n",
    "            expressedBy SAT_MLD_SRC.OBJECT_H_KEY\n",
    "            expressionRepeatedByColumn SAT_MLD_SRC.OBJECT_H_KEY\n",
    "\n",
    "    consists of source table SAT_MLD_SRC\n",
    "    componentrepeatedbycomponent SAT\n",
    "\n",
    "comp_group_end\n",
    "\n",
    "comp_group_start curr_sat_group INS_GRP\n",
    "componentgrouprepeatedbycomponent CURR\n",
    "\n",
    "    consists of target table curr_sat\n",
    "    componentrepeatedbycomponent CURR\n",
    "    connectsFrom (sat_filter)\n",
    "\n",
    "        Attribute OBJECT_H_KEY\n",
    "            expressedBy sat_src.OBJECT_H_KEY\n",
    "            expressionRepeatedByColumn sat_src.OBJECT_H_KEY\n",
    "\n",
    "        Attribute LOAD_CYCLE_ID\n",
    "            expressedBy sat_src.LOAD_CYCLE_ID\n",
    "            expressionRepeatedByColumn sat_src.LOAD_CYCLE_ID\n",
    "\n",
    "        Attribute LOAD_TIMESTAMP\n",
    "            expressedBy sat_src.LOAD_TIMESTAMP\n",
    "            expressionRepeatedByColumn sat_src.LOAD_TIMESTAMP\n",
    "\n",
    "        Attribute TRANS_TIMESTAMP\n",
    "            expressedBy sat_src.TRANS_TIMESTAMP\n",
    "            expressionRepeatedByColumn sat_src.TRANS_TIMESTAMP\n",
    "\n",
    "        Attribute BUSINESS_SRC_KEY\n",
    "            expressedBy sat_src.BUSINESS_SRC_KEY\n",
    "            expressionRepeatedByColumn sat_src.BUSINESS_SRC_KEY\n",
    "\n",
    "        Attribute PRIMARY_KEY\n",
    "            expressedBy sat_src.PRIMARY_KEY\n",
    "            expressionRepeatedByColumn sat_src.PRIMARY_KEY\n",
    "\n",
    "        Attribute FOREIGN_KEY\n",
    "            expressedBy sat_src.FOREIGN_KEY\n",
    "            expressionRepeatedByColumn sat_src.FOREIGN_KEY\n",
    "\n",
    "        Attribute OTHER_ATTR\n",
    "            expressedBy sat_src.OTHER_ATTR\n",
    "            expressionRepeatedByColumn sat_src.OTHER_ATTR\n",
    "\n",
    "        Attribute TIME_SINCE_CHANGE\n",
    "            expressedBy CURRENT_TIMESTAMP - sat_src.LOAD_TIMESTAMP\n",
    "\n",
    "        Attribute SECRET_BK\n",
    "            expressedBy HASHFUNC[sat_src.SECRET_BK]\n",
    "            expressionRepeatedByColumn sat_src.SECRET_BK\n",
    "\n",
    "        Attribute DAY_OF_CHANGE\n",
    "            expressedBy date_trunc(#day#, sat_src.LOAD_TIMESTAMP)\n",
    "            expressionRepeatedByColumn sat_src.LOAD_TIMESTAMP\n",
    "\n",
    "    consists of source table sat_src\n",
    "    componentrepeatedbycomponent SAT\n",
    "\n",
    "    consists of inner join sat_max_ld_join\n",
    "    componentConditionedBy [(TAB SAT : INSERT_ONLY_LOGIC = Y)]\n",
    "    componentrepeatedbycomponent SAT\n",
    "    connectsFrom (sat_src)\n",
    "    connectsFrom (max_ld)\n",
    "\n",
    "        Artifact GENERAL_EXPRESSION\n",
    "            expressedBy sat_src.OBJECT_H_KEY = max_ld.OBJECT_H_KEY AND sat_src.LOAD_TIMESTAMP = max_ld.MAX_LOAD_TIMESTAMP\n",
    "\n",
    "    consists of joined inline_view max_ld\n",
    "    componentConditionedBy [(TAB SAT : INSERT_ONLY_LOGIC = Y)]\n",
    "    componentrepeatedbycomponent SAT\n",
    "\n",
    "    consists of filter sat_filter\n",
    "    componentrepeatedbycomponent SAT\n",
    "    connectsFrom (sat_max_ld_join)\n",
    "                connectionConditionedBy [(TAB SAT : INSERT_ONLY_LOGIC = Y)]\n",
    "                (sat_src)\n",
    "                connectionConditionedBy [(TAB SAT : INSERT_ONLY_LOGIC = N)]\n",
    "\n",
    "        Artifact GENERAL_EXPRESSION\n",
    "            group_1 expressedBy sat_src.LOAD_END_TIMESTAMP = GTIMECAST[@#CURRENT_RECORD_LOAD_END_DATE#] and\n",
    "            expressionConditionedBy [(TAB SAT : INSERT_ONLY_LOGIC = N)]\n",
    "            expressionRepeatedByColumn sat_src.LOAD_END_TIMESTAMP\n",
    "\n",
    "            group_2 expressedBy sat_src.DELETE_FLAG = GCASTFRMT[@#DELETE_FLAG_NEGATIVE_VALUE#]\n",
    "            expressionRepeatedByColumn sat_src.DELETE_FLAG\n",
    "\n",
    "comp_group_end\n",
    "\"\"\""
   ],
   "metadata": {
    "collapsed": false
   }
  },
  {
   "cell_type": "markdown",
   "source": [
    "We want to generate these calculated SATs for all satellites of the moto sales source.\n",
    "The template dependencies contains a list of all object of the base type of the template.\n",
    "The linked property of a dependency enables the generation for that object.\n",
    "\n",
    "For each of the objects that we add, we will also print out its dependencies, these are the other objects that are available in the template.\n",
    "Since our template is based on a SAT, this will include just the HUBs."
   ],
   "metadata": {
    "collapsed": false
   }
  },
  {
   "cell_type": "code",
   "execution_count": null,
   "outputs": [],
   "source": [
    "for dep in template.dependencies:\n",
    "    print(dep)\n",
    "    if \"sat_ms\" in dep.name and dep.tab_type == ObjectTypes.SAT:\n",
    "        dep.linked = True\n",
    "        print(dep.references)"
   ],
   "metadata": {
    "collapsed": false
   }
  },
  {
   "cell_type": "markdown",
   "source": [
    "The last thing we need to do it to define the attributes of the target object of the template.\n",
    "To see which attributes are available to be used in the template we can look at the following."
   ],
   "metadata": {
    "collapsed": false
   }
  },
  {
   "cell_type": "code",
   "execution_count": null,
   "outputs": [],
   "source": [
    "template.attributes"
   ],
   "metadata": {
    "collapsed": false
   }
  },
  {
   "cell_type": "markdown",
   "source": [
    "Since our base type is a SAT, we will see all SAT and HUB signature attributes, as well as the user defined signature attributes on those objects.\n",
    "Let's start by adding all the SAT attributes to the target of or template.\n",
    "These are the so called \"existing\" attributes of the template."
   ],
   "metadata": {
    "collapsed": false
   }
  },
  {
   "cell_type": "code",
   "execution_count": null,
   "outputs": [],
   "source": [
    "for attr in template.attributes:\n",
    "    if attr.object_type == ObjectTypes.SAT:\n",
    "        template.create_target_attribute_from_existing(attr)\n",
    "print(template.target_attributes)"
   ],
   "metadata": {
    "collapsed": false
   }
  },
  {
   "cell_type": "markdown",
   "source": [
    "Because our calculated SAT contains only active records we can remove the end date and the delete flag."
   ],
   "metadata": {
    "collapsed": false
   }
  },
  {
   "cell_type": "code",
   "execution_count": null,
   "outputs": [],
   "source": [
    "from vaultspeed_sdk.business_vault.template_target_attribute import TemplateTargetExistingAttribute\n",
    "\n",
    "attr_to_remove = [attr for attr in template.attributes if attr.object_type == ObjectTypes.SAT and attr.name in (\"LOAD_END_TIMESTAMP\", \"DELETE_FLAG\")]\n",
    "for attr in template.target_attributes:\n",
    "    if isinstance(attr, TemplateTargetExistingAttribute) and attr.attribute_type in attr_to_remove:\n",
    "        template.delete_target_attribute(attr)"
   ],
   "metadata": {
    "collapsed": false
   }
  },
  {
   "cell_type": "markdown",
   "source": [
    "We can now add a new attribute to the current sat which will store how long ago the last change was\n",
    "In this case we do not need to base it on an existing attribute"
   ],
   "metadata": {
    "collapsed": false
   }
  },
  {
   "cell_type": "code",
   "execution_count": null,
   "outputs": [],
   "source": [
    "template.create_target_attribute_unique(name=\"TIME_SINCE_CHANGE\", data_type=dv_release.data_types[\"TIMESTAMP_NTZ\"])"
   ],
   "metadata": {
    "collapsed": false
   }
  },
  {
   "cell_type": "markdown",
   "source": [
    "We can also create a new attribute which contains the load date truncated to the day.\n",
    "In this case we could base the attribute on the load date. Then we do not have to specify the data type, it will use the same type of the load date attribute, unless specified otherwise."
   ],
   "metadata": {
    "collapsed": false
   }
  },
  {
   "cell_type": "code",
   "execution_count": null,
   "outputs": [],
   "source": [
    "template.create_target_attribute_unique(name=\"DAY_OF_CHANGE\", attribute_type=template.get_attribute(\"LOAD_TIMESTAMP\", ObjectTypes.SAT),\n",
    "                                        data_type=dv_release.data_types[\"TIMESTAMP_NTZ\"])"
   ],
   "metadata": {
    "collapsed": false
   }
  },
  {
   "cell_type": "markdown",
   "source": [
    "We can also add a new attribute for each business key that we tag as being secret, these attributes will contain hashed business keys."
   ],
   "metadata": {
    "collapsed": false
   }
  },
  {
   "cell_type": "code",
   "execution_count": null,
   "outputs": [],
   "source": [
    "secret_signature = bv_release.create_signature_attribute(name=\"SECRET_BK\")\n",
    "secret_attributes = [bv_release.objects[\"sat_ms_customers_name\"].attributes[\"national_person_id\"],\n",
    "                     bv_release.objects[\"sat_ms_customers_birth\"].attributes[\"national_person_id\"]]\n",
    "for attr in secret_attributes:\n",
    "    attr.add_signature(secret_signature)\n",
    "\n",
    "for attr in template.attributes:\n",
    "    if attr == secret_signature:\n",
    "        # if we don't provide a data type, our new attributes will inherit their data type from the underlying business key\n",
    "        # so, since our attribute will contain a hash in hex format, we need to specify the data type and the data length\n",
    "        template.create_target_attribute_non_unique(attr, prefix=\"secret\", data_type=dv_release.data_types[\"VARCHAR\"], data_length=\"64\")\n",
    "\n",
    "print(template.target_attributes)"
   ],
   "metadata": {
    "collapsed": false
   }
  },
  {
   "cell_type": "markdown",
   "source": [
    "To verify that our template is working properly we can generate some example code for one of our SATs"
   ],
   "metadata": {
    "collapsed": false
   }
  },
  {
   "cell_type": "code",
   "execution_count": null,
   "outputs": [],
   "source": [
    "example_code, generation = system.generate_template_example(bv_release=bv_release, template=template, base_object=template.dependencies[\"sat_ms_addresses\"],\n",
    "                                                            etl_type=EtlGenerationTypes.SNOWFLAKESQL)\n",
    "print(example_code)"
   ],
   "metadata": {
    "collapsed": false
   }
  }
 ],
 "metadata": {
  "kernelspec": {
   "display_name": "Python 3 (ipykernel)",
   "language": "python",
   "name": "python3"
  },
  "language_info": {
   "codemirror_mode": {
    "name": "ipython",
    "version": 3
   },
   "file_extension": ".py",
   "mimetype": "text/x-python",
   "name": "python",
   "nbconvert_exporter": "python",
   "pygments_lexer": "ipython3",
   "version": "3.9.7"
  }
 },
 "nbformat": 4,
 "nbformat_minor": 1
}
